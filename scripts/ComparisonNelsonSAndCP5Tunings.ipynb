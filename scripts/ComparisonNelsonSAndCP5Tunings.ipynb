{
 "cells": [
  {
   "cell_type": "code",
   "execution_count": 1,
   "metadata": {},
   "outputs": [],
   "source": [
    "/*!!!!!!!!!!!!!!!!!!!!!!!!!!!!!!!!!!!!!!!!!!!!!!!!!!!!!!!!!!!!!!!!!!!!!!*/\n",
    "/*                                                                      */\n",
    "/*To use this script, first you have to sourse the LocalConfig.sh file. */\n",
    "/* i.e. source HEPTools/LocalConfigDelphes.sh                           */\n",
    "/*!!!!!!!!!!!!!!!!!!!!!!!!!!!!!!!!!!!!!!!!!!!!!!!!!!!!!!!!!!!!!!!!!!!!!!*/"
   ]
  },
  {
   "cell_type": "code",
   "execution_count": 2,
   "metadata": {},
   "outputs": [
    {
     "name": "stdout",
     "output_type": "stream",
     "text": [
      "(int) 0\n"
     ]
    }
   ],
   "source": [
    "gROOT->ProcessLine(\".x Lib.C\");"
   ]
  },
  {
   "cell_type": "code",
   "execution_count": 3,
   "metadata": {},
   "outputs": [],
   "source": [
    "gSystem->Load(\"/home/camilo/HEPTools/MADGRAPH/MG5_aMC_v2_5_5_Root6/Delphes/libDelphes.so\");"
   ]
  },
  {
   "cell_type": "code",
   "execution_count": 4,
   "metadata": {},
   "outputs": [],
   "source": [
    "TChain chain1(\"Delphes\");\n",
    "TChain chain2(\"Delphes\");"
   ]
  },
  {
   "cell_type": "code",
   "execution_count": 5,
   "metadata": {},
   "outputs": [],
   "source": [
    "chain1.Add(\"/home/camilo/cms/Scripts_MadGraph_VLFTEO/Datos/BackGround-mumuWCP5/Events/run_01/*.root\");\n",
    "chain2.Add(\"/home/camilo/cms/MC_VLF-Originales/W+Jets/tag_1_delphes_events01.root\");"
   ]
  },
  {
   "cell_type": "code",
   "execution_count": 6,
   "metadata": {},
   "outputs": [],
   "source": [
    "/*Variables names \"std::pair <std::string,std::string> Variable (\"NameVariable\",\"Latex Labl #\");\" */\n",
    "\n",
    "//std::pair <std::string,std::string> Var1 (\"Jet_size\",\"N(Jet)\");\n",
    "std::pair <std::string,std::string> Var1 (\"Muon[0].PT\",\"P_{T}(#mu)\");\n",
    "//std::pair <std::string,std::string> Var1 (\"Jet[0].PT\",\"p_{T}(Jet) [GeV]\");\n",
    "//std::pair <std::string,std::string> Var1 (\"sqrt(2*Muon.PT*MissingET.MET*(1-cos((2*TMath::Pi()+Muon.Phi-MissingET.Phi)%(2*TMath::Pi()))))\",\"MT(#mu,p_{T}^{Miss}) [GeV]\");\n",
    "//std::pair <std::string,std::string> Var1 (\"ScalarHT.HT\",\"H_{T}\");"
   ]
  },
  {
   "cell_type": "code",
   "execution_count": 7,
   "metadata": {},
   "outputs": [],
   "source": [
    "//Int_t fNBins = 4; \n",
    "//auto fXmin  = 1.0;\n",
    "//auto fXmax  = 5.0;\n",
    "//Int_t fNBins = 50; \n",
    "//auto fXmin  = 10.0;\n",
    "//auto fXmax  = 200.0;\n",
    "Int_t fNBins = 20; \n",
    "auto fXmin  = 1.0;\n",
    "auto fXmax  = 80.0;"
   ]
  },
  {
   "cell_type": "code",
   "execution_count": 8,
   "metadata": {},
   "outputs": [],
   "source": [
    "Double_t W1D = 100000/chain1.GetEntries();\n",
    "Double_t W2D = 100000/chain2.GetEntries();\n",
    "\n",
    "TCut W1 = std::to_string(W1D).c_str();\n",
    "TCut W2 = std::to_string(W2D).c_str();"
   ]
  },
  {
   "cell_type": "code",
   "execution_count": 9,
   "metadata": {},
   "outputs": [],
   "source": [
    "chain1.Draw(Form(\"%s>>myh1(%d,%f,%f)\", Var1.first.c_str(),fNBins, fXmin, fXmax),W1,\"goff\");\n",
    "TH1D * h1 = (TH1D *)gROOT->FindObject(\"myh1\");\n",
    "h1->SetName(Form(\"%s\", Var1.second.c_str()));\n",
    "//h1->SetLineColor(2);"
   ]
  },
  {
   "cell_type": "code",
   "execution_count": 10,
   "metadata": {},
   "outputs": [],
   "source": [
    "chain2.Draw(Form(\"%s>>myh2(%d,%f,%f)\", Var1.first.c_str(),fNBins, fXmin, fXmax),W2,\"goff\");\n",
    "TH1D * h2 = (TH1D *)gROOT->FindObject(\"myh2\");\n",
    "h2->SetName(Form(\"%s\", Var1.second.c_str()));\n",
    "//h1->SetLineColor(3);"
   ]
  },
  {
   "cell_type": "code",
   "execution_count": 11,
   "metadata": {},
   "outputs": [],
   "source": [
    "// Define the Canvas\n",
    "TCanvas *c = new TCanvas(\"c\", \"canvas\", 1200, 800);\n",
    "\n",
    "// Upper plot will be in pad1\n",
    "TPad *pad1 = new TPad(\"pad1\", \"pad1\", 0, 0.3, 1, 1.0);\n",
    "pad1->SetBottomMargin(0.02); // Upper and lower plot are joined\n",
    "pad1->SetGridx();         // Vertical grid\n",
    "pad1->Draw();             // Draw the upper pad: pad1\n",
    "pad1->cd();               // pad1 becomes the current pad\n",
    "h1->SetStats(0);          // No statistics on upper plot\n",
    "h1->SetTitle(\"\");\n",
    "h1->Draw();               // Draw h1\n",
    "h2->SetTitle(\"\");\n",
    "h2->Draw(\"same\");         // Draw h2 on top of h"
   ]
  },
  {
   "cell_type": "code",
   "execution_count": 12,
   "metadata": {},
   "outputs": [],
   "source": [
    "// Do not draw the Y axis label on the upper plot and redraw a small\n",
    "// axis instead, in order to avoid the first label (0) to be clipped.\n",
    "h1->GetXaxis()->SetLabelSize(0.0);\n",
    "//TGaxis *axis = new TGaxis( -5, 20, -5, 220, 20,220,510,\"\");\n",
    "//axis->SetLabelFont(43); // Absolute font size in pixel (precision 3)\n",
    "//axis->SetLabelSize(15);\n",
    "//axis->Draw();"
   ]
  },
  {
   "cell_type": "code",
   "execution_count": 13,
   "metadata": {},
   "outputs": [],
   "source": [
    "TLegend *legend = new TLegend(0.5,0.75,0.7,0.85);\n",
    "legend->SetFillStyle(0);\n",
    "legend->SetBorderSize(0);\n",
    "legend->SetTextSize(0.04);\n",
    "legend->SetTextFont(42);\n",
    "legend->AddEntry(h1, \"W+Jets with CP5 Tunes\",\"l\");\n",
    "legend->AddEntry(h2, \"W+Jets without CP5 Tunes\",\"l\");\n",
    "\n",
    "legend->Draw();"
   ]
  },
  {
   "cell_type": "code",
   "execution_count": 14,
   "metadata": {},
   "outputs": [],
   "source": [
    "// lower plot will be in pad\n",
    "c->cd();          // Go back to the main canvas before defining pad2\n",
    "TPad *pad2 = new TPad(\"pad2\", \"pad2\", 0, 0.05, 1, 0.3);\n",
    "//pad2->SetTopMargin(0.0);\n",
    "pad2->SetBottomMargin(0.25);\n",
    "pad2->SetGridx(); // vertical grid\n",
    "pad2->SetGridy();   \n",
    "pad2->Draw();\n",
    "pad2->cd();       // pad2 becomes the current pad"
   ]
  },
  {
   "cell_type": "code",
   "execution_count": 15,
   "metadata": {},
   "outputs": [
    {
     "name": "stderr",
     "output_type": "stream",
     "text": [
      "Warning in <TH1F::Sumw2>: Sum of squares of weights structure already created\n"
     ]
    }
   ],
   "source": [
    " // Define the ratio plot\n",
    "\n",
    "//CompareTH1D Comparator(h1,h2);\n",
    "//h3 = Comparator.CompareChape().at(0);\n",
    "\n",
    "TH1F *h3 = (TH1F*)h1->Clone(\"h3\");\n",
    "h3->SetLineColor(kBlack);\n",
    "//h3->SetMinimum(0.8);  // Define Y ..\n",
    "//h3->SetMaximum(1.35); // .. range\n",
    "h3->Sumw2();\n",
    "h3->Divide(h2);\n",
    "h3->SetStats(0);      // No statistics on lower plot\n",
    "h3->SetMarkerStyle(21);\n",
    "h3->Draw(\"ep\"); "
   ]
  },
  {
   "cell_type": "code",
   "execution_count": 16,
   "metadata": {},
   "outputs": [],
   "source": [
    "// h1 settings\n",
    "   h1->SetLineColor(kBlue+1);\n",
    "   h1->SetLineWidth(2);\n",
    "\n",
    "   // Y axis h1 plot settings\n",
    "   h1->GetYaxis()->SetTitleSize(20);\n",
    "   h1->GetYaxis()->SetTitleFont(43);\n",
    "   h1->GetYaxis()->SetTitleOffset(1.55);\n",
    "\n",
    "   // h2 settings\n",
    "   h2->SetLineColor(kRed);\n",
    "   h2->SetLineWidth(2);\n",
    "\n",
    "   // Ratio plot (h3) settings\n",
    "   h3->SetTitle(\"\"); // Remove the ratio title\n",
    "\n",
    "// Y axis ratio plot settings\n",
    "   h3->GetYaxis()->SetTitle(\"ratio\");\n",
    "   h3->GetYaxis()->CenterTitle();\n",
    "   h3->GetYaxis()->SetNdivisions(505);\n",
    "   h3->GetYaxis()->SetTitleSize(20);\n",
    "   h3->GetYaxis()->SetTitleFont(43);\n",
    "   h3->GetYaxis()->SetTitleOffset(1.55);\n",
    "   h3->GetYaxis()->SetLabelFont(43); // Absolute font size in pixel (precision 3)\n",
    "   h3->GetYaxis()->SetLabelSize(15);\n",
    "\n",
    "   // X axis ratio plot settings\n",
    "   h3->GetXaxis()->SetTitleSize(20);\n",
    "   h3->GetXaxis()->SetTitleFont(43);\n",
    "   h3->GetXaxis()->SetTitleOffset(4.);\n",
    "   h3->GetXaxis()->SetLabelFont(43); // Absolute font size in pixel (precision 3)\n",
    "   h3->GetXaxis()->SetLabelSize(15);\n",
    "   h3->GetXaxis()->SetTitle(Form(\"%s\", Var1.second.c_str()));"
   ]
  },
  {
   "cell_type": "code",
   "execution_count": 17,
   "metadata": {},
   "outputs": [
    {
     "data": {
      "image/png": "[encoded data removed]",
      "text/plain": [
       "<IPython.core.display.Image object>"
      ]
     },
     "metadata": {},
     "output_type": "display_data"
    }
   ],
   "source": [
    "c->Draw();"
   ]
  },
  {
   "cell_type": "code",
   "execution_count": 20,
   "metadata": {},
   "outputs": [
    {
     "name": "stderr",
     "output_type": "stream",
     "text": [
      "Info in <TCanvas::Print>: pdf file WJet_Mu0PTCP5NoCP5comparizon.pdf has been created\n"
     ]
    }
   ],
   "source": [
    "//c->SaveAs(\"WJets_NJetCP5NoCP5comparizon.pdf\",\"pdf\");\n",
    "//c->SaveAs(\"WJet_Jet0PTCP5NoCP5comparizon.pdf\",\"pdf\");\n",
    "c->SaveAs(\"WJet_Mu0PTCP5NoCP5comparizon.pdf\",\"pdf\");"
   ]
  },
  {
   "cell_type": "code",
   "execution_count": 19,
   "metadata": {},
   "outputs": [],
   "source": [
    "Float_t bins[] = { 10, 20, 60, 65, 72, 80, 90, 100, 120, 160 };\n",
    "Int_t  binnum = sizeof(bins)/sizeof(Float_t) - 1; // or just = 9\n",
    "TH1F* h4 = new TH1F(\"n\",\"t\", binnum, bins);"
   ]
  }
 ],
 "metadata": {
  "kernelspec": {
   "display_name": "ROOT C++",
   "language": "c++",
   "name": "root"
  },
  "language_info": {
   "codemirror_mode": "text/x-c++src",
   "file_extension": ".C",
   "mimetype": " text/x-c++src",
   "name": "c++"
  }
 },
 "nbformat": 4,
 "nbformat_minor": 2
}
