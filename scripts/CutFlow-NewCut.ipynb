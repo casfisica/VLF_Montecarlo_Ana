{
 "cells": [
  {
   "cell_type": "markdown",
   "metadata": {},
   "source": []
  },
  {
   "cell_type": "markdown",
   "metadata": {},
   "source": []
  },
  {
   "cell_type": "code",
   "execution_count": null,
   "metadata": {},
   "outputs": [],
   "source": [
    "#include <fstream>\n",
    "#include <cstdlib>"
   ]
  },
  {
   "cell_type": "code",
   "execution_count": null,
   "metadata": {},
   "outputs": [],
   "source": [
    "gROOT->ProcessLine(\".x Lib.C\");"
   ]
  },
  {
   "cell_type": "code",
   "execution_count": null,
   "metadata": {},
   "outputs": [],
   "source": [
    "/*Variables names*/\n",
    "std::string Var1=\"MT_TheMuon_MET\";\n",
    "std::string Var2=\"TheMuon.Pt()\";\n",
    "std::string Var3=\"MT_LeadingMuon_MET\";\n",
    "std::string Var4=\"@AnaJets.size()\";\n",
    "std::string Var5=\"AnaMET.Mt()\";\n",
    "std::string Var6=\"@AnaMuons.size()\";"
   ]
  },
  {
   "cell_type": "code",
   "execution_count": null,
   "metadata": {},
   "outputs": [],
   "source": [
    "Harry::Plotter *Plotter1 = new Harry::Plotter(\"VLFTree\",{Var6},3,0,3); \n",
    "Harry::Plotter *Plotter2 = new Harry::Plotter(\"VLFTree\",{Var6},3,0,3); \n",
    "Harry::Plotter *MuSize = new Harry::Plotter(\"VLFTree\",{Var1},25,0,110);\n",
    "Harry::Plotter *MuPt = new Harry::Plotter (\"VLFTree\",{Var2},20,0,60);\n",
    "Harry::Plotter *JetSize = new Harry::Plotter(\"VLFTree\",{Var4},6,0,6);\n",
    "Harry::Plotter *METMt = new Harry::Plotter(\"VLFTree\",{Var5},90,100,900);\n",
    "//p.SetVerbose(true);"
   ]
  },
  {
   "cell_type": "code",
   "execution_count": null,
   "metadata": {},
   "outputs": [],
   "source": [
    "std::vector<Harry::Plotter *> PlotVec;\n",
    "PlotVec.push_back(Plotter1);\n",
    "PlotVec.push_back(Plotter2);\n",
    "PlotVec.push_back(MuSize);\n",
    "PlotVec.push_back(MuPt);\n",
    "PlotVec.push_back(JetSize);\n",
    "PlotVec.push_back(METMt);"
   ]
  },
  {
   "cell_type": "code",
   "execution_count": null,
   "metadata": {},
   "outputs": [],
   "source": [
    "for(auto p: PlotVec) {\n",
    "    p->AddDirectory(\"/home/camilo/cms/VLF_Montecarlo_Ana/Data/Signal.root\",\"Signal\",0.331);\n",
    "//DY\n",
    "p->AddDirectory(\"/home/camilo/cms/VLF_Montecarlo_Ana/Data/DYJetsToLL_HT/DYJetsToLL_M-50.root\",\"DY\",1.318077913);\n",
    "//Single Top\n",
    "p->AddDirectory(\"/home/camilo/cms/VLF_Montecarlo_Ana/Data/ST/ST_s-channel_4f_leptonDecays.root\",\"ST\",0.336);//30\n",
    "p->AddDirectory(\"/home/camilo/cms/VLF_Montecarlo_Ana/Data/ST/ST_t-channel_antitop_4f_inclusiveDecays.root\",\"ST\",0.2658808098);//30\n",
    "p->AddDirectory(\"/home/camilo/cms/VLF_Montecarlo_Ana/Data/ST/ST_t-channel_top_4f_inclusiveDecays.root\",\"ST\",0.2658808098);//45\n",
    "p->AddDirectory(\"/home/camilo/cms/VLF_Montecarlo_Ana/Data/ST/ST_tW_antitop_5f_inclusiveDecays.root\",\"ST\",0.2743065568);//120\n",
    "p->AddDirectory(\"/home/camilo/cms/VLF_Montecarlo_Ana/Data/ST/ST_tW_top_5f_inclusiveDecays.root\",\"ST\",0.2743065568);\n",
    "//TT\n",
    "p->AddDirectory(\"/home/camilo/cms/VLF_Montecarlo_Ana/Data/TTToLL_MLL/TT_TuneCUETP8M2T4.root\",\"TT\",1.07907048);\n",
    "//W+Jets\n",
    "p->AddDirectory(\"/home/camilo/cms/VLF_Montecarlo_Ana/Data/WJets_HT/WJetsToLNu_HT-70To100.root\",\"WPlusJets\",163.713);//max20000\n",
    "p->AddDirectory(\"/home/camilo/cms/VLF_Montecarlo_Ana/Data/WJets_HT/WJetsToLNu_HT-100To200.root\",\"WPlusJets\",16.12246515);//max 160000\n",
    "p->AddDirectory(\"/home/camilo/cms/VLF_Montecarlo_Ana/Data/WJets_HT/WJetsToLNu_HT-200To400.root\",\"WPlusJets\",0.5484566297);//4000\n",
    "p->AddDirectory(\"/home/camilo/cms/VLF_Montecarlo_Ana/Data/WJets_HT/WJetsToLNu_HT-400To600.root\",\"WPlusJets\",0.1491425684);//200\n",
    "p->AddDirectory(\"/home/camilo/cms/VLF_Montecarlo_Ana/Data/WJets_HT/WJetsToLNu_HT-600To800.root\",\"WPlusJets\",0.1879002812);\n",
    "p->AddDirectory(\"/home/camilo/cms/VLF_Montecarlo_Ana/Data/WJets_HT/WJetsToLNu_HT-800To1200.root\",\"WPlusJets\",0.03561855317);\n",
    "p->AddDirectory(\"/home/camilo/cms/VLF_Montecarlo_Ana/Data/WJets_HT/WJetsToLNu_HT-1200To2500.root\",\"WPlusJets\",0.02339910957);\n",
    "p->AddDirectory(\"/home/camilo/cms/VLF_Montecarlo_Ana/Data/WJets_HT/WJetsToLNu_HT-2500ToInf.root\",\"WPlusJets\",0.001475217613); //max\n",
    "    \n",
    "}"
   ]
  },
  {
   "cell_type": "code",
   "execution_count": null,
   "metadata": {},
   "outputs": [],
   "source": [
    "TCanvas c;"
   ]
  },
  {
   "cell_type": "code",
   "execution_count": null,
   "metadata": {},
   "outputs": [],
   "source": [
    "std::map<std::string, std::map<std::string, Double_t> > CutFlow;\n",
    "//Map to count events\n",
    "std::map<std::string, Double_t> temp;"
   ]
  },
  {
   "cell_type": "code",
   "execution_count": null,
   "metadata": {},
   "outputs": [],
   "source": [
    "//Cuts\n",
    "//std::string cut0 = \"@BJets.size()==0\";\n",
    "std::string cut0 = \"@AnaMuons.size()==1&&@BJets.size()==0&&TheMuon.pt()>3\";\n",
    "//std::string cut0 = \"@AnaMuons.size()==1&&@BJets.size()==0\";\n",
    "std::string cut1 = cut0+\"&&MT_TheMuon_MET<60\";\n",
    "std::string cut2 = cut1+\"&&TheMuon.pt()<25\";\n",
    "std::string cut3 = cut2+\"&&@AnaJets.size()<4\";"
   ]
  },
  {
   "cell_type": "code",
   "execution_count": null,
   "metadata": {},
   "outputs": [],
   "source": [
    "std::string SetCutName = \"TheMuonMTLT60_bJetsEQ0_MuonsPtLT30MT3_JetsSizeLT3\";\n",
    "std::string PlotPath = \"Plots_PDF/\"+SetCutName;\n",
    "//Bool_t SaveFiles = kTRUE;\n",
    "Bool_t SaveFiles = kFALSE;"
   ]
  },
  {
   "cell_type": "code",
   "execution_count": null,
   "metadata": {},
   "outputs": [],
   "source": [
    "std::string cmdbash = \"mkdir -p \"+PlotPath;\n",
    "const int dir_err =system(cmdbash.c_str());"
   ]
  },
  {
   "cell_type": "code",
   "execution_count": null,
   "metadata": {},
   "outputs": [],
   "source": [
    "//cmdbash\n",
    "//c.SetLogy();"
   ]
  },
  {
   "cell_type": "code",
   "execution_count": null,
   "metadata": {},
   "outputs": [],
   "source": [
    "Plotter1->SetCut(cut0.c_str());\n",
    "auto Plotter1_hplots = Plotter1->GetPlots();"
   ]
  },
  {
   "cell_type": "code",
   "execution_count": null,
   "metadata": {},
   "outputs": [],
   "source": [
    "Plotter1_hplots[Var6].first->Draw(\"PADS\"); //HStack object\n",
    "//Plotter1_hplots[Var6].first->GetXaxis()->SetTitle(\"N(#mu)\");\n",
    "//Plotter1_hplots[Var6].first->GetYaxis()->SetTitle(\"Number of events\");\n",
    "//Plotter1_hplots[Var6].first->SetTitle(\"\");\n",
    "Plotter1_hplots[Var6].second->Draw(); //Legend object\n",
    "c.Draw();"
   ]
  },
  {
   "cell_type": "code",
   "execution_count": null,
   "metadata": {
    "scrolled": false
   },
   "outputs": [],
   "source": [
    "PlotPathName = PlotPath +\"/MuMultiplisity1.pdf\";\n",
    "if (SaveFiles) c.SaveAs(PlotPathName.c_str(),\"pdf\");"
   ]
  },
  {
   "cell_type": "markdown",
   "metadata": {},
   "source": [
    "## $M_{T}(\\mu,p_{T}^{miss})$"
   ]
  },
  {
   "cell_type": "code",
   "execution_count": null,
   "metadata": {},
   "outputs": [],
   "source": [
    "//Used for cross check\n",
    "MuSize->SetCut(cut0.c_str());"
   ]
  },
  {
   "cell_type": "code",
   "execution_count": null,
   "metadata": {},
   "outputs": [],
   "source": [
    "auto MuSize_hplots = MuSize->GetPlots();"
   ]
  },
  {
   "cell_type": "code",
   "execution_count": null,
   "metadata": {},
   "outputs": [],
   "source": [
    "MuSize_hplots[Var1].first->Draw(\"Histo\"); //HStack object\n",
    "MuSize_hplots[Var1].first->GetXaxis()->SetTitle(\"MT(#mu,MET)\");\n",
    "MuSize_hplots[Var1].first->GetYaxis()->SetTitle(\"Number of events\");\n",
    "MuSize_hplots[Var1].first->SetTitle(\"\");\n",
    "MuSize_hplots[Var1].second->Draw(); //Legend object\n",
    "c.Draw();"
   ]
  },
  {
   "cell_type": "code",
   "execution_count": null,
   "metadata": {},
   "outputs": [],
   "source": [
    "PlotPathName = PlotPath +\"/TheMuMTStack.pdf\";\n",
    "if (SaveFiles) c.SaveAs(PlotPathName.c_str(),\"pdf\");"
   ]
  },
  {
   "cell_type": "code",
   "execution_count": null,
   "metadata": {},
   "outputs": [],
   "source": [
    "MuSize_hplots[Var1].first->Draw(\"Histo,nostackb\"); //HStack object \"PADS\" \"nostack,e1p\"\n",
    "//MuSize_hplots[Var1].first->Draw(\"Histo,PADS\");\n",
    "MuSize_hplots[Var1].first->SetTitle(\"\");\n",
    "MuSize_hplots[Var1].second->Draw(); //Legend object\n",
    "c.Draw();"
   ]
  },
  {
   "cell_type": "code",
   "execution_count": null,
   "metadata": {},
   "outputs": [],
   "source": [
    "PlotPathName = PlotPath +\"/TheMuMtAllLog.pdf\";\n",
    "if (SaveFiles) c.SaveAs(PlotPathName.c_str(),\"pdf\");"
   ]
  },
  {
   "cell_type": "markdown",
   "metadata": {},
   "source": [
    "### Significance"
   ]
  },
  {
   "cell_type": "code",
   "execution_count": null,
   "metadata": {},
   "outputs": [],
   "source": [
    "auto MuSizeHist=MuSize->GetHists();"
   ]
  },
  {
   "cell_type": "code",
   "execution_count": null,
   "metadata": {},
   "outputs": [],
   "source": [
    "//Vector of the TH1D Background, as\n",
    "std::vector<TH1D *> BackgroundMuS;\n",
    "BackgroundMuS.push_back((TH1D *)MuSizeHist[Var1].first.at(0));\n",
    "BackgroundMuS.push_back((TH1D *)MuSizeHist[Var1].first.at(1));\n",
    "BackgroundMuS.push_back((TH1D *)MuSizeHist[Var1].first.at(3));\n",
    "BackgroundMuS.push_back((TH1D *)MuSizeHist[Var1].first.at(4));"
   ]
  },
  {
   "cell_type": "code",
   "execution_count": null,
   "metadata": {},
   "outputs": [],
   "source": [
    "temp[\"DY\"]=MuSizeHist[Var1].first.at(0)->Integral(0,MuSizeHist[Var1].first.at(0)->GetNbinsX()+2);\n",
    "temp[\"ST\"]=MuSizeHist[Var1].first.at(1)->Integral(0,MuSizeHist[Var1].first.at(1)->GetNbinsX()+2);\n",
    "temp[\"TT\"]=MuSizeHist[Var1].first.at(3)->Integral(0,MuSizeHist[Var1].first.at(3)->GetNbinsX()+2);\n",
    "temp[\"WJ\"]=MuSizeHist[Var1].first.at(4)->Integral(0,MuSizeHist[Var1].first.at(4)->GetNbinsX()+2);\n",
    "temp[\"Signal\"]=MuSizeHist[Var1].first.at(2)->Integral(0,MuSizeHist[Var1].first.at(2)->GetNbinsX()+2);"
   ]
  },
  {
   "cell_type": "code",
   "execution_count": null,
   "metadata": {},
   "outputs": [],
   "source": [
    "CutFlow[\"Cut0\"]=temp;"
   ]
  },
  {
   "cell_type": "code",
   "execution_count": null,
   "metadata": {},
   "outputs": [],
   "source": [
    "//temp[\"TT\"]\n",
    "//CutFlow[\"Cut0\"]"
   ]
  },
  {
   "cell_type": "code",
   "execution_count": null,
   "metadata": {},
   "outputs": [],
   "source": [
    "Significance Muon_Size_TH=Significance((TH1D *)MuSizeHist[Var1].first.at(2),BackgroundMuS);\n",
    "TH1D * Muon_Size_THDraw=Muon_Size_TH.GetSigLessThan();"
   ]
  },
  {
   "cell_type": "code",
   "execution_count": null,
   "metadata": {},
   "outputs": [],
   "source": [
    "Muon_Size_THDraw->Draw(\"E1\");\n",
    "Muon_Size_THDraw->SetTitle(\"\");\n",
    "Muon_Size_THDraw->GetXaxis()->SetTitle(\"MT(#mu,MET)\");\n",
    "Muon_Size_THDraw->GetYaxis()->SetTitle(\"Significance\");\n",
    "c.Draw();"
   ]
  },
  {
   "cell_type": "code",
   "execution_count": null,
   "metadata": {},
   "outputs": [],
   "source": [
    "PlotPathName = PlotPath +\"/TheMuMTSignificance.pdf\";\n",
    "if (SaveFiles) c.SaveAs(PlotPathName.c_str(),\"pdf\");"
   ]
  },
  {
   "cell_type": "markdown",
   "metadata": {},
   "source": [
    "### efficency plots"
   ]
  },
  {
   "cell_type": "code",
   "execution_count": null,
   "metadata": {},
   "outputs": [],
   "source": [
    "//Get The efficency plots\n",
    "std::vector<TH1D *> Muon_Size_Eff_THDraw = Muon_Size_TH.GetEffLessThan();"
   ]
  },
  {
   "cell_type": "code",
   "execution_count": null,
   "metadata": {},
   "outputs": [],
   "source": [
    "//Muon_Pt_Eff_THDraw[0]->SetFillStyle(4050);\n",
    "Muon_Size_Eff_THDraw[0]->SetFillColor(0);\n",
    "Muon_Size_Eff_THDraw[0]->Draw(\"E\");\n",
    "Muon_Size_Eff_THDraw[0]->SetTitle(\"\");\n",
    "Muon_Size_Eff_THDraw[0]->GetXaxis()->SetTitle(\"MT(#mu,MET) [GeV]\");\n",
    "Muon_Size_Eff_THDraw[0]->GetYaxis()->SetTitle(\"Efficiency\");\n",
    "MuSize_hplots[Var1].second->Draw(); //Legend object\n",
    "//Muon_Pt_Eff_THDraw[1]->SetFillStyle(4050);\n",
    "Muon_Size_Eff_THDraw[1]->SetFillColor(0);\n",
    "Muon_Size_Eff_THDraw[1]->Draw(\"same E\");\n",
    "//Muon_Pt_Eff_THDraw[2]->SetFillStyle(4050);\n",
    "Muon_Size_Eff_THDraw[2]->SetFillColor(0);\n",
    "Muon_Size_Eff_THDraw[2]->Draw(\"same E\");\n",
    "//Muon_Pt_Eff_THDraw[3]->SetFillStyle(4050);\n",
    "Muon_Size_Eff_THDraw[3]->SetFillColor(0);\n",
    "Muon_Size_Eff_THDraw[3]->Draw(\"same E\");\n",
    "//Muon_Pt_Eff_THDraw[4]->SetFillStyle(4050);\n",
    "Muon_Size_Eff_THDraw[4]->SetFillColor(0);\n",
    "Muon_Size_Eff_THDraw[4]->Draw(\"same E\");\n",
    "c.Draw();"
   ]
  },
  {
   "cell_type": "code",
   "execution_count": null,
   "metadata": {},
   "outputs": [],
   "source": [
    "PlotPathName = PlotPath +\"/TheMuMtEff.pdf\";\n",
    "if (SaveFiles) c.SaveAs(PlotPathName.c_str(),\"pdf\");"
   ]
  },
  {
   "cell_type": "markdown",
   "metadata": {},
   "source": [
    "## $p_T(\\mu)$"
   ]
  },
  {
   "cell_type": "code",
   "execution_count": null,
   "metadata": {},
   "outputs": [],
   "source": [
    "MuPt->SetCut(cut1.c_str());"
   ]
  },
  {
   "cell_type": "code",
   "execution_count": null,
   "metadata": {},
   "outputs": [],
   "source": [
    "auto MuPt_hplots = MuPt->GetPlots();"
   ]
  },
  {
   "cell_type": "code",
   "execution_count": null,
   "metadata": {},
   "outputs": [],
   "source": [
    "MuPt_hplots[Var2].first->Draw(\"Histo\"); //HStack object\n",
    "MuPt_hplots[Var2].first->GetXaxis()->SetTitle(\"p_{T}(#mu) [GeV]\");\n",
    "MuPt_hplots[Var2].first->GetYaxis()->SetTitle(\"Number of events\");\n",
    "MuPt_hplots[Var2].first->SetTitle(\"\");\n",
    "MuPt_hplots[Var2].second->Draw(); //Legend object\n",
    "c.Draw();"
   ]
  },
  {
   "cell_type": "code",
   "execution_count": null,
   "metadata": {},
   "outputs": [],
   "source": [
    "PlotPathName = PlotPath +\"/MuPtStack.pdf\";\n",
    "if (SaveFiles) c.SaveAs(PlotPathName.c_str(),\"pdf\");"
   ]
  },
  {
   "cell_type": "code",
   "execution_count": null,
   "metadata": {},
   "outputs": [],
   "source": [
    "MuPt_hplots[Var2].first->GetXaxis()->SetTitle(\"p_{T}(#mu) [GeV]\");\n",
    "MuPt_hplots[Var2].first->GetYaxis()->SetTitle(\"Number of events\");\n",
    "MuPt_hplots[Var2].first->SetTitle(\"\");\n",
    "MuPt_hplots[Var2].first->Draw(\"Histo,nostackb\"); //HStack object\n",
    "MuPt_hplots[Var2].second->Draw(); //Legend object\n",
    "//c.SetLogy();\n",
    "c.Draw();"
   ]
  },
  {
   "cell_type": "code",
   "execution_count": null,
   "metadata": {},
   "outputs": [],
   "source": [
    "PlotPathName = PlotPath +\"/MuPtAllLog.pdf\";\n",
    "if (SaveFiles) c.SaveAs(PlotPathName.c_str(),\"pdf\");"
   ]
  },
  {
   "cell_type": "markdown",
   "metadata": {},
   "source": [
    "### Significance"
   ]
  },
  {
   "cell_type": "code",
   "execution_count": null,
   "metadata": {},
   "outputs": [],
   "source": [
    "auto MuPtHist = MuPt->GetHists();"
   ]
  },
  {
   "cell_type": "code",
   "execution_count": null,
   "metadata": {},
   "outputs": [],
   "source": [
    "//Vector of the TH1D Background, as\n",
    "std::vector<TH1D *> BackgroundMuPt;\n",
    "BackgroundMuPt.push_back((TH1D *)MuPtHist[Var2].first.at(0));\n",
    "BackgroundMuPt.push_back((TH1D *)MuPtHist[Var2].first.at(1));\n",
    "BackgroundMuPt.push_back((TH1D *)MuPtHist[Var2].first.at(3));\n",
    "BackgroundMuPt.push_back((TH1D *)MuPtHist[Var2].first.at(4));"
   ]
  },
  {
   "cell_type": "code",
   "execution_count": null,
   "metadata": {},
   "outputs": [],
   "source": [
    "temp[\"DY\"]=MuPtHist[Var2].first.at(0)->Integral(0,MuPtHist[Var2].first.at(0)->GetNbinsX()+2);\n",
    "temp[\"ST\"]=MuPtHist[Var2].first.at(1)->Integral(0,MuPtHist[Var2].first.at(1)->GetNbinsX()+2);\n",
    "temp[\"TT\"]=MuPtHist[Var2].first.at(3)->Integral(0,MuPtHist[Var2].first.at(3)->GetNbinsX()+2);\n",
    "temp[\"WJ\"]=MuPtHist[Var2].first.at(4)->Integral(0,MuPtHist[Var2].first.at(4)->GetNbinsX()+2);\n",
    "temp[\"Signal\"]=MuPtHist[Var2].first.at(2)->Integral(0,MuPtHist[Var2].first.at(2)->GetNbinsX()+2);"
   ]
  },
  {
   "cell_type": "code",
   "execution_count": null,
   "metadata": {},
   "outputs": [],
   "source": [
    "CutFlow[\"Cut1\"]=temp;"
   ]
  },
  {
   "cell_type": "code",
   "execution_count": null,
   "metadata": {},
   "outputs": [],
   "source": [
    "//CutFlow[\"Cut1\"]"
   ]
  },
  {
   "cell_type": "code",
   "execution_count": null,
   "metadata": {},
   "outputs": [],
   "source": [
    "Significance Muon_Pt_TH=Significance((TH1D *)MuPtHist[Var2].first.at(2),BackgroundMuPt);\n",
    "TH1D * Muon_Pt_THDraw=Muon_Pt_TH.GetSigLessThan();"
   ]
  },
  {
   "cell_type": "code",
   "execution_count": null,
   "metadata": {},
   "outputs": [],
   "source": [
    "Muon_Pt_THDraw->Draw(\"E1\");\n",
    "Muon_Pt_THDraw->SetTitle(\"\");\n",
    "Muon_Pt_THDraw->GetXaxis()->SetTitle(\"p_{T}(#mu) [GeV]\");\n",
    "Muon_Pt_THDraw->GetYaxis()->SetTitle(\"Significance\");\n",
    "c.Draw();"
   ]
  },
  {
   "cell_type": "code",
   "execution_count": null,
   "metadata": {},
   "outputs": [],
   "source": [
    "PlotPathName = PlotPath +\"/MuPtSignificance.pdf\";\n",
    "if (SaveFiles) c.SaveAs(PlotPathName.c_str(),\"pdf\");"
   ]
  },
  {
   "cell_type": "markdown",
   "metadata": {},
   "source": [
    "### efficency plots"
   ]
  },
  {
   "cell_type": "code",
   "execution_count": null,
   "metadata": {},
   "outputs": [],
   "source": [
    "//Get The efficency plots\n",
    "std::vector<TH1D *> Muon_Pt_Eff_THDraw = Muon_Pt_TH.GetEffLessThan();"
   ]
  },
  {
   "cell_type": "code",
   "execution_count": null,
   "metadata": {},
   "outputs": [],
   "source": [
    "Muon_Pt_Eff_THDraw[0]->SetFillColor(0);\n",
    "Muon_Pt_Eff_THDraw[0]->Draw(\"E\");\n",
    "Muon_Pt_Eff_THDraw[0]->SetTitle(\"\");\n",
    "Muon_Pt_Eff_THDraw[0]->GetXaxis()->SetTitle(\"p_{T}(#mu) [GeV]\");\n",
    "Muon_Pt_Eff_THDraw[0]->GetYaxis()->SetTitle(\"Efficiency\");\n",
    "MuPt_hplots[Var2].second->Draw(); //Legend object;\n",
    "Muon_Pt_Eff_THDraw[1]->SetFillColor(0);\n",
    "Muon_Pt_Eff_THDraw[1]->Draw(\"same E\");\n",
    "Muon_Pt_Eff_THDraw[2]->SetFillColor(0);\n",
    "Muon_Pt_Eff_THDraw[2]->Draw(\"same E\");\n",
    "Muon_Pt_Eff_THDraw[3]->SetFillColor(0);\n",
    "Muon_Pt_Eff_THDraw[3]->Draw(\"same E\");\n",
    "Muon_Pt_Eff_THDraw[4]->SetFillColor(0);\n",
    "Muon_Pt_Eff_THDraw[4]->Draw(\"same E\");\n",
    "c.Draw();"
   ]
  },
  {
   "cell_type": "code",
   "execution_count": null,
   "metadata": {},
   "outputs": [],
   "source": [
    "PlotPathName = PlotPath +\"/MuPtEff.pdf\";\n",
    "if (SaveFiles) c.SaveAs(PlotPathName.c_str(),\"pdf\");"
   ]
  },
  {
   "cell_type": "markdown",
   "metadata": {},
   "source": [
    "## $N(Jet)$"
   ]
  },
  {
   "cell_type": "code",
   "execution_count": null,
   "metadata": {},
   "outputs": [],
   "source": [
    "JetSize->SetCut(cut2.c_str());"
   ]
  },
  {
   "cell_type": "code",
   "execution_count": null,
   "metadata": {},
   "outputs": [],
   "source": [
    "auto JetSize_hplots = JetSize->GetPlots();"
   ]
  },
  {
   "cell_type": "code",
   "execution_count": null,
   "metadata": {},
   "outputs": [],
   "source": [
    "JetSize_hplots[Var4].first->Draw(\"Histo\"); //HStack object\n",
    "JetSize_hplots[Var4].first->GetXaxis()->SetTitle(\"N(Jet)\");\n",
    "JetSize_hplots[Var4].first->GetYaxis()->SetTitle(\"Number of events\");\n",
    "JetSize_hplots[Var4].first->SetTitle(\"\");\n",
    "JetSize_hplots[Var4].second->Draw(); //Legend object\n",
    "c.Draw();"
   ]
  },
  {
   "cell_type": "code",
   "execution_count": null,
   "metadata": {},
   "outputs": [],
   "source": [
    "PlotPathName = PlotPath +\"/JetSizeStack.pdf\";\n",
    "if (SaveFiles) c.SaveAs(PlotPathName.c_str(),\"pdf\");"
   ]
  },
  {
   "cell_type": "code",
   "execution_count": null,
   "metadata": {},
   "outputs": [],
   "source": [
    "JetSize_hplots[Var4].first->Draw(\"Histo,nostackb\"); //HStack object\n",
    "JetSize_hplots[Var4].second->Draw(); //Legend object\n",
    "c.Draw();"
   ]
  },
  {
   "cell_type": "code",
   "execution_count": null,
   "metadata": {},
   "outputs": [],
   "source": [
    "PlotPathName = PlotPath +\"/JetSizeAllLog.pdf\";\n",
    "if (SaveFiles) c.SaveAs(PlotPathName.c_str(),\"pdf\");"
   ]
  },
  {
   "cell_type": "markdown",
   "metadata": {},
   "source": [
    "### Significance"
   ]
  },
  {
   "cell_type": "code",
   "execution_count": null,
   "metadata": {},
   "outputs": [],
   "source": [
    "auto JetSizeHist = JetSize->GetHists();"
   ]
  },
  {
   "cell_type": "code",
   "execution_count": null,
   "metadata": {},
   "outputs": [],
   "source": [
    "//Vector of the TH1D Background, as\n",
    "std::vector<TH1D *> BackgroundJetSize;\n",
    "BackgroundJetSize.push_back((TH1D *)JetSizeHist[Var4].first.at(0));\n",
    "BackgroundJetSize.push_back((TH1D *)JetSizeHist[Var4].first.at(1));\n",
    "BackgroundJetSize.push_back((TH1D *)JetSizeHist[Var4].first.at(3));\n",
    "BackgroundJetSize.push_back((TH1D *)JetSizeHist[Var4].first.at(4));"
   ]
  },
  {
   "cell_type": "code",
   "execution_count": null,
   "metadata": {},
   "outputs": [],
   "source": [
    "temp[\"DY\"]=JetSizeHist[Var4].first.at(0)->Integral(0,JetSizeHist[Var4].first.at(0)->GetNbinsX()+2);\n",
    "temp[\"ST\"]=JetSizeHist[Var4].first.at(1)->Integral(0,JetSizeHist[Var4].first.at(1)->GetNbinsX()+2);\n",
    "temp[\"TT\"]=JetSizeHist[Var4].first.at(3)->Integral(0,JetSizeHist[Var4].first.at(3)->GetNbinsX()+2);\n",
    "temp[\"WJ\"]=JetSizeHist[Var4].first.at(4)->Integral(0,JetSizeHist[Var4].first.at(4)->GetNbinsX()+2);\n",
    "temp[\"Signal\"]=JetSizeHist[Var4].first.at(2)->Integral(0,JetSizeHist[Var4].first.at(2)->GetNbinsX()+2);"
   ]
  },
  {
   "cell_type": "code",
   "execution_count": null,
   "metadata": {},
   "outputs": [],
   "source": [
    "CutFlow[\"Cut2\"]=temp;"
   ]
  },
  {
   "cell_type": "code",
   "execution_count": null,
   "metadata": {},
   "outputs": [],
   "source": [
    "Significance Jet_Size_TH=Significance((TH1D *)JetSizeHist[Var4].first.at(2),BackgroundJetSize);\n",
    "TH1D * Jet_Size_THDraw=Jet_Size_TH.GetSigLessThan();"
   ]
  },
  {
   "cell_type": "code",
   "execution_count": null,
   "metadata": {},
   "outputs": [],
   "source": [
    "Jet_Size_THDraw->Draw(\"E1\");\n",
    "Jet_Size_THDraw->SetTitle(\"\");\n",
    "Jet_Size_THDraw->GetXaxis()->SetTitle(\"N(Jet)\");\n",
    "Jet_Size_THDraw->GetYaxis()->SetTitle(\"Significance\");\n",
    "c.Draw();"
   ]
  },
  {
   "cell_type": "code",
   "execution_count": null,
   "metadata": {},
   "outputs": [],
   "source": [
    "PlotPathName = PlotPath +\"/JetSizeSignificance.pdf\";\n",
    "if (SaveFiles) c.SaveAs(PlotPathName.c_str(),\"pdf\");"
   ]
  },
  {
   "cell_type": "markdown",
   "metadata": {},
   "source": [
    "### Efficiency"
   ]
  },
  {
   "cell_type": "code",
   "execution_count": null,
   "metadata": {},
   "outputs": [],
   "source": [
    "//Get The efficency plots\n",
    "std::vector<TH1D *> Jet_Size_Eff_THDraw = Jet_Size_TH.GetEffLessThan();"
   ]
  },
  {
   "cell_type": "code",
   "execution_count": null,
   "metadata": {},
   "outputs": [],
   "source": [
    "Jet_Size_Eff_THDraw[0]->SetFillColor(0);\n",
    "Jet_Size_Eff_THDraw[0]->Draw(\"E\");\n",
    "Jet_Size_Eff_THDraw[0]->SetTitle(\"\");\n",
    "Jet_Size_Eff_THDraw[0]->GetXaxis()->SetTitle(\"N(Jet)\");\n",
    "Jet_Size_Eff_THDraw[0]->GetYaxis()->SetTitle(\"Efficiency\");\n",
    "JetSize_hplots[Var4].second->Draw(); //Legend object\n",
    "Jet_Size_Eff_THDraw[1]->SetFillColor(0);\n",
    "Jet_Size_Eff_THDraw[1]->Draw(\"same E\");\n",
    "Jet_Size_Eff_THDraw[2]->SetFillColor(0);\n",
    "Jet_Size_Eff_THDraw[2]->Draw(\"same E\");\n",
    "Jet_Size_Eff_THDraw[3]->SetFillColor(0);\n",
    "Jet_Size_Eff_THDraw[3]->Draw(\"same E\");\n",
    "Jet_Size_Eff_THDraw[4]->SetFillColor(0);\n",
    "Jet_Size_Eff_THDraw[4]->Draw(\"same E\");\n",
    "c.Draw();"
   ]
  },
  {
   "cell_type": "code",
   "execution_count": null,
   "metadata": {},
   "outputs": [],
   "source": [
    "PlotPathName = PlotPath +\"/JetSizeEff.pdf\";\n",
    "if (SaveFiles) c.SaveAs(PlotPathName.c_str(),\"pdf\");"
   ]
  },
  {
   "cell_type": "markdown",
   "metadata": {},
   "source": [
    "##  $M_T(MET)$"
   ]
  },
  {
   "cell_type": "code",
   "execution_count": null,
   "metadata": {},
   "outputs": [],
   "source": [
    "METMt->SetCut(cut3.c_str());"
   ]
  },
  {
   "cell_type": "code",
   "execution_count": null,
   "metadata": {},
   "outputs": [],
   "source": [
    "auto METMt_hplots = METMt->GetPlots();"
   ]
  },
  {
   "cell_type": "markdown",
   "metadata": {},
   "source": [
    "### Significance"
   ]
  },
  {
   "cell_type": "code",
   "execution_count": null,
   "metadata": {},
   "outputs": [],
   "source": [
    "auto METMtHist = METMt->GetHists();"
   ]
  },
  {
   "cell_type": "code",
   "execution_count": null,
   "metadata": {
    "scrolled": false
   },
   "outputs": [],
   "source": [
    "//METMt_hplots[\"AnaMET.Mt()\"].first->Draw(\"Histo,nostackb\"); //HStack object\n",
    "METMt_hplots[\"AnaMET.Mt()\"].first->Draw(\"PADS\"); //HStack object\n",
    "//METMt_hplots[\"AnaMET.Mt()\"].first->GetXaxis()->SetTitle(\"M_{T}(MET) [GeV]\");\n",
    "//METMt_hplots[\"AnaMET.Mt()\"].first->GetYaxis()->SetTitle(\"Number of events\");\n",
    "//METMt_hplots[\"AnaMET.Mt()\"].first->SetTitle(\"\");\n",
    "METMt_hplots[\"AnaMET.Mt()\"].second->Draw(); //Legend object\n",
    "//c.SetLogy();\n",
    "c.Draw();"
   ]
  },
  {
   "cell_type": "code",
   "execution_count": null,
   "metadata": {},
   "outputs": [],
   "source": [
    "PlotPathName = PlotPath +\"/METmTAll.pdf\";\n",
    "if (SaveFiles) c.SaveAs(PlotPathName.c_str(),\"pdf\");"
   ]
  },
  {
   "cell_type": "code",
   "execution_count": null,
   "metadata": {},
   "outputs": [],
   "source": [
    "//Vector of the TH1D Background, as\n",
    "std::vector<TH1D *> BackgroundMETMt;\n",
    "BackgroundMETMt.push_back((TH1D *)METMtHist[\"AnaMET.Mt()\"].first.at(0));\n",
    "BackgroundMETMt.push_back((TH1D *)METMtHist[\"AnaMET.Mt()\"].first.at(1));\n",
    "BackgroundMETMt.push_back((TH1D *)METMtHist[\"AnaMET.Mt()\"].first.at(3));\n",
    "BackgroundMETMt.push_back((TH1D *)METMtHist[\"AnaMET.Mt()\"].first.at(4));"
   ]
  },
  {
   "cell_type": "code",
   "execution_count": null,
   "metadata": {},
   "outputs": [],
   "source": [
    "temp[\"DY\"]=METMtHist[\"AnaMET.Mt()\"].first.at(0)->Integral(0,METMtHist[\"AnaMET.Mt()\"].first.at(0)->GetNbinsX()+2);\n",
    "temp[\"ST\"]=METMtHist[\"AnaMET.Mt()\"].first.at(1)->Integral(0,METMtHist[\"AnaMET.Mt()\"].first.at(1)->GetNbinsX()+2);\n",
    "temp[\"TT\"]=METMtHist[\"AnaMET.Mt()\"].first.at(3)->Integral(0,METMtHist[\"AnaMET.Mt()\"].first.at(3)->GetNbinsX()+2);\n",
    "temp[\"WJ\"]=METMtHist[\"AnaMET.Mt()\"].first.at(4)->Integral(0,METMtHist[\"AnaMET.Mt()\"].first.at(4)->GetNbinsX()+2);\n",
    "temp[\"Signal\"]=METMtHist[\"AnaMET.Mt()\"].first.at(2)->Integral(0,METMtHist[\"AnaMET.Mt()\"].first.at(2)->GetNbinsX()+2);"
   ]
  },
  {
   "cell_type": "code",
   "execution_count": null,
   "metadata": {},
   "outputs": [],
   "source": [
    "Significance MET_mT_TH=Significance((TH1D *)METMtHist[Var5].first.at(2),BackgroundMETMt);\n",
    "TH1D * MET_mT_THDraw=MET_mT_TH.GetSigLessThan();"
   ]
  },
  {
   "cell_type": "code",
   "execution_count": null,
   "metadata": {},
   "outputs": [],
   "source": [
    "MET_mT_THDraw->Draw(\"E1\");\n",
    "MET_mT_THDraw->SetTitle(\"\");\n",
    "MET_mT_THDraw->GetXaxis()->SetTitle(\"MET\");\n",
    "MET_mT_THDraw->GetYaxis()->SetTitle(\"Significance\");\n",
    "c.Draw();"
   ]
  },
  {
   "cell_type": "code",
   "execution_count": null,
   "metadata": {},
   "outputs": [],
   "source": [
    "CutFlow[\"Final\"]=temp;"
   ]
  },
  {
   "cell_type": "code",
   "execution_count": null,
   "metadata": {},
   "outputs": [],
   "source": [
    "// Create a map iterator and point to beginning of map\n",
    "std::string FileName = PlotPath +\"/Cutflow.dat\";\n",
    "ofstream myfile (FileName.c_str());\n",
    "std::map<std::string, std::map<std::string, Double_t> >::iterator it = CutFlow.begin();\n",
    " \n",
    "// Iterate over the map using Iterator till end.\n",
    "while (it != CutFlow.end())\n",
    "{\n",
    "    // Accessing KEY from element pointed by it.\n",
    "    std::string Cut = it->first;\n",
    "    std::cout<< \"-------------------------------\" <<std::endl;\n",
    "    std::cout<< \"-----------\" <<Cut << \"----------------\" <<std::endl;\n",
    "    std::cout<< \"-------------------------------\" <<std::endl;\n",
    "    //File\n",
    "    myfile<< \"-------------------------------\" <<std::endl;\n",
    "    myfile<< \"-----------\" <<Cut << \"----------------\" <<std::endl;\n",
    "    myfile<< \"-------------------------------\" <<std::endl;\n",
    "    \n",
    "    \n",
    "\n",
    "    // Accessing VALUE from element pointed by it.\n",
    "    std::map<std::string, Double_t> map2 = it->second;\n",
    "    \n",
    "    // Create a map iterator and point to beginning of map\n",
    "    std::map<std::string, Double_t>::iterator other = map2.begin();\n",
    "    while (other != map2.end())\n",
    "    {\n",
    "        // Accessing KEY from element pointed by other.\n",
    "        std::string sig = other->first;\n",
    "        // Accessing VALUE from element pointed by it.\n",
    "        int count = other->second;\n",
    "        std::cout << \"        \" <<other->first << \" ...... \" << count <<std::endl;\n",
    "        myfile << \"        \" <<other->first << \" ...... \" << count <<std::endl;\n",
    "        // Increment the Iterator to point to next entry\n",
    "        other++;\n",
    "            \n",
    "    }\n",
    "    // Increment the Iterator to point to next entry\n",
    "    it++;\n",
    "}\n",
    "myfile.close();"
   ]
  },
  {
   "cell_type": "code",
   "execution_count": null,
   "metadata": {},
   "outputs": [],
   "source": [
    "Plotter2->SetCut(cut3.c_str());\n",
    "auto Plotter2_hplots = Plotter2->GetPlots();"
   ]
  },
  {
   "cell_type": "code",
   "execution_count": null,
   "metadata": {},
   "outputs": [],
   "source": [
    "Plotter2_hplots[Var6].first->Draw(\"PADS\"); //HStack object\n",
    "//Plotter2_hplots[Var6].first->GetXaxis()->SetTitle(\"N(#mu)\");\n",
    "//Plotter2_hplots[Var6].first->GetYaxis()->SetTitle(\"Number of events\");\n",
    "//Plotter2_hplots[Var6].first->SetTitle(\"\");\n",
    "Plotter2_hplots[Var6].second->Draw(); //Legend object\n",
    "c.Draw();"
   ]
  },
  {
   "cell_type": "code",
   "execution_count": null,
   "metadata": {
    "scrolled": false
   },
   "outputs": [],
   "source": [
    "PlotPathName = PlotPath +\"/MuMultiplisity2.pdf\";\n",
    "if (SaveFiles) c.SaveAs(PlotPathName.c_str(),\"pdf\");"
   ]
  },
  {
   "cell_type": "code",
   "execution_count": null,
   "metadata": {},
   "outputs": [],
   "source": [
    "cut3"
   ]
  },
  {
   "cell_type": "code",
   "execution_count": null,
   "metadata": {},
   "outputs": [],
   "source": []
  }
 ],
 "metadata": {
  "kernelspec": {
   "display_name": "ROOT C++",
   "language": "c++",
   "name": "root"
  },
  "language_info": {
   "codemirror_mode": "text/x-c++src",
   "file_extension": ".C",
   "mimetype": " text/x-c++src",
   "name": "c++"
  }
 },
 "nbformat": 4,
 "nbformat_minor": 2
}
