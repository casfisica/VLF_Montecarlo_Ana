{
 "cells": [
  {
   "cell_type": "markdown",
   "metadata": {},
   "source": []
  },
  {
   "cell_type": "markdown",
   "metadata": {},
   "source": []
  },
  {
   "cell_type": "code",
   "execution_count": 1,
   "metadata": {},
   "outputs": [],
   "source": [
    "#include <fstream>\n",
    "#include <cstdlib>"
   ]
  },
  {
   "cell_type": "code",
   "execution_count": 2,
   "metadata": {},
   "outputs": [
    {
     "name": "stdout",
     "output_type": "stream",
     "text": [
      "(int) 0\n"
     ]
    }
   ],
   "source": [
    "gROOT->ProcessLine(\".x Lib.C\");"
   ]
  },
  {
   "cell_type": "code",
   "execution_count": 3,
   "metadata": {},
   "outputs": [],
   "source": [
    "/*Variables names*/\n",
    "std::string Var1=\"@AnaMuons.size()\";\n",
    "//std::string Var1=\"bJetsMultiplicity\";\n",
    "//std::string Var1=\"@AnaMuons.size()\";\n",
    "std::string Var2=\"AnaMuons.Pt()\";\n",
    "std::string Var3=\"MT_LeadingMuon_MET\";\n",
    "std::string Var4=\"@AnaJets.size()\";\n",
    "std::string Var5=\"AnaMET.Mt()\";\n",
    "std::string Var6=\"@AnaMuons.size()\";"
   ]
  },
  {
   "cell_type": "code",
   "execution_count": 4,
   "metadata": {},
   "outputs": [],
   "source": [
    "Harry::Plotter *MuSize = new Harry::Plotter(\"demo/VLFTree\",{Var1},4,0,4);\n",
    "//Harry::Plotter *MuSize = new Harry::Plotter(\"demo/VLFTree\",{\"@AnaMuons.size()\"},6,0,6);\n",
    "Harry::Plotter *MuPt = new Harry::Plotter (\"demo/VLFTree\",{Var2},20,0,60);\n",
    "Harry::Plotter *Mt = new Harry::Plotter(\"demo/VLFTree\",{Var3},30,0,90); \n",
    "Harry::Plotter *JetSize = new Harry::Plotter(\"demo/VLFTree\",{Var4},10,0,10);\n",
    "Harry::Plotter *METMt = new Harry::Plotter(\"demo/VLFTree\",{Var5},68,60,400);\n",
    "//p.SetVerbose(true);"
   ]
  },
  {
   "cell_type": "code",
   "execution_count": 5,
   "metadata": {},
   "outputs": [],
   "source": [
    "std::vector<Harry::Plotter *> PlotVec;\n",
    "PlotVec.push_back(MuSize);\n",
    "PlotVec.push_back(MuPt);\n",
    "PlotVec.push_back(Mt);\n",
    "PlotVec.push_back(JetSize);\n",
    "PlotVec.push_back(METMt);"
   ]
  },
  {
   "cell_type": "code",
   "execution_count": 6,
   "metadata": {},
   "outputs": [],
   "source": [
    "for(auto p: PlotVec) {\n",
    "    p->AddDirectory(\"/home/camilo/cms/VLF_Montecarlo_Ana/Data/Signal.root\",\"Signal\",0.331);\n",
    "//DY\n",
    "p->AddDirectory(\"/home/camilo/cms/VLF_Montecarlo_Ana/Data/DYJetsToLL_HT/DYJetsToLL_M-50_TuneCUETP8M1_13TeV-madgraphMLM-pythia8/\",\n",
    "        \"DY\",1.318077913);\n",
    "//Single Top\n",
    "p->AddDirectory(\"/home/camilo/cms/VLF_Montecarlo_Ana/Data/ST/ST_s-channel_4f_leptonDecays_13TeV-amcatnlo-pythia8_TuneCUETP8M1\",\n",
    "        \"ST\",0.336);//30\n",
    "p->AddDirectory(\"/home/camilo/cms/VLF_Montecarlo_Ana/Data/ST/ST_t-channel_antitop_4f_inclusiveDecays_TuneCUETP8M2T4_13TeV-powhegV2-madspin\",\n",
    "        \"ST\",0.2658808098);//30\n",
    "p->AddDirectory(\"/home/camilo/cms/VLF_Montecarlo_Ana/Data/ST/ST_t-channel_top_4f_inclusiveDecays_TuneCUETP8M2T4_13TeV-powhegV2-madspin\",\n",
    "        \"ST\",0.2658808098);//45\n",
    "p->AddDirectory(\"/home/camilo/cms/VLF_Montecarlo_Ana/Data/ST/ST_tW_antitop_5f_inclusiveDecays_13TeV-powheg-pythia8_TuneCUETP8M1\",\n",
    "        \"ST\",0.2743065568);//120\n",
    "p->AddDirectory(\"/home/camilo/cms/VLF_Montecarlo_Ana/Data/ST/ST_tW_top_5f_inclusiveDecays_13TeV-powheg-pythia8_TuneCUETP8M1\",\n",
    "        \"ST\",0.2743065568);\n",
    "//TT\n",
    "p->AddDirectory(\"/home/camilo/cms/VLF_Montecarlo_Ana/Data/TTToLL_MLL/TT_TuneCUETP8M2T4_13TeV-powheg-pythia8\",\n",
    "        \"TT\",1.07907048);\n",
    "//W+Jets\n",
    "p->AddDirectory(\"/home/camilo/cms/VLF_Montecarlo_Ana/Data/WJets_HT/WJetsToLNu_HT-70To100_TuneCUETP8M1_13TeV-madgraphMLM-pythia8\",\n",
    "        \"WPlusJets\",163.713);//max20000\n",
    "p->AddDirectory(\"/home/camilo/cms/VLF_Montecarlo_Ana/Data/WJets_HT/WJetsToLNu_HT-100To200_TuneCUETP8M1_13TeV-madgraphMLM-pythia8\",\n",
    "        \"WPlusJets\",16.12246515);//max 160000\n",
    "p->AddDirectory(\"/home/camilo/cms/VLF_Montecarlo_Ana/Data/WJets_HT/WJetsToLNu_HT-200To400_TuneCUETP8M1_13TeV-madgraphMLM-pythia8\",\n",
    "        \"WPlusJets\",0.5484566297);//4000\n",
    "p->AddDirectory(\"/home/camilo/cms/VLF_Montecarlo_Ana/Data/WJets_HT/WJetsToLNu_HT-400To600_TuneCUETP8M1_13TeV-madgraphMLM-pythia8\",\n",
    "        \"WPlusJets\",0.1491425684);//200\n",
    "p->AddDirectory(\"/home/camilo/cms/VLF_Montecarlo_Ana/Data/WJets_HT/WJetsToLNu_HT-600To800_TuneCUETP8M1_13TeV-madgraphMLM-pythia8\",\n",
    "        \"WPlusJets\",0.1879002812);\n",
    "p->AddDirectory(\"/home/camilo/cms/VLF_Montecarlo_Ana/Data/WJets_HT/WJetsToLNu_HT-800To1200_TuneCUETP8M1_13TeV-madgraphMLM-pythia8\",\n",
    "        \"WPlusJets\",0.03561855317);\n",
    "p->AddDirectory(\"/home/camilo/cms/VLF_Montecarlo_Ana/Data/WJets_HT/WJetsToLNu_HT-1200To2500_TuneCUETP8M1_13TeV-madgraphMLM-pythia8\",\n",
    "        \"WPlusJets\",0.02339910957);\n",
    "p->AddDirectory(\"/home/camilo/cms/VLF_Montecarlo_Ana/Data/WJets_HT/WJetsToLNu_HT-2500ToInf_TuneCUETP8M1_13TeV-madgraphMLM-pythia8\",\n",
    "        \"WPlusJets\",0.001475217613); //max\n",
    "    \n",
    "}"
   ]
  },
  {
   "cell_type": "code",
   "execution_count": 7,
   "metadata": {},
   "outputs": [],
   "source": [
    "TCanvas c;"
   ]
  },
  {
   "cell_type": "code",
   "execution_count": 8,
   "metadata": {},
   "outputs": [],
   "source": [
    "std::map<std::string, std::map<std::string, Double_t> > CutFlow;\n",
    "//Map to count events\n",
    "std::map<std::string, Double_t> temp;"
   ]
  },
  {
   "cell_type": "code",
   "execution_count": 9,
   "metadata": {},
   "outputs": [],
   "source": [
    "//Cuts\n",
    "std::string cut0 = \"@AnaMuons.size()==1&&@BJets.size()==0&&AnaMuons.Pt()>3\";\n",
    "//std::string cut0 = \"AllMuonMediumID==1&&@BJets.size()==0\";\n",
    "std::string cut1 = cut0+\"&&AnaMuons.Pt()<30\";\n",
    "std::string cut2 = cut1+\"&&MT_LeadingMuon_MET<50\";\n",
    "std::string cut3 = cut2+\"&&@AnaJets.size()<3\";"
   ]
  },
  {
   "cell_type": "code",
   "execution_count": 10,
   "metadata": {},
   "outputs": [],
   "source": [
    "std::string SetCutName = \"MuonEQ1_bJetsEQ0_MuonsPtLT30_MTLMuonMETLT65_JetsSizeLT3\";\n",
    "std::string PlotPath = \"Plots_PDF/\"+SetCutName;\n",
    "//Bool_t SaveFiles = kTRUE;\n",
    "Bool_t SaveFiles = kFALSE;"
   ]
  },
  {
   "cell_type": "code",
   "execution_count": 11,
   "metadata": {},
   "outputs": [],
   "source": [
    "std::string cmdbash = \"mkdir -p \"+PlotPath;\n",
    "const int dir_err =system(cmdbash.c_str());"
   ]
  },
  {
   "cell_type": "code",
   "execution_count": 12,
   "metadata": {},
   "outputs": [
    {
     "name": "stdout",
     "output_type": "stream",
     "text": [
      "(std::string &) \"mkdir -p Plots_PDF/MuonEQ1_bJetsEQ0_MuonsPtLT30_MTLMuonMETLT65_JetsSizeLT3\"\n"
     ]
    }
   ],
   "source": [
    "cmdbash"
   ]
  },
  {
   "cell_type": "markdown",
   "metadata": {},
   "source": [
    "## Muon Size"
   ]
  },
  {
   "cell_type": "code",
   "execution_count": 13,
   "metadata": {},
   "outputs": [],
   "source": [
    "//Used for cross check\n",
    "MuSize->SetCut(cut0.c_str());"
   ]
  },
  {
   "cell_type": "code",
   "execution_count": 14,
   "metadata": {},
   "outputs": [],
   "source": [
    "auto MuSize_hplots = MuSize->GetPlots();"
   ]
  },
  {
   "cell_type": "code",
   "execution_count": 15,
   "metadata": {},
   "outputs": [
    {
     "data": {
      "image/png": "[encoded data removed]",
      "text/plain": [
       "<IPython.core.display.Image object>"
      ]
     },
     "metadata": {},
     "output_type": "display_data"
    }
   ],
   "source": [
    "MuSize_hplots[Var1].first->Draw(\"Histo\"); //HStack object\n",
    "MuSize_hplots[Var1].first->GetXaxis()->SetTitle(\"N(#mu)\");\n",
    "MuSize_hplots[Var1].first->GetYaxis()->SetTitle(\"Number of events\");\n",
    "MuSize_hplots[Var1].first->SetTitle(\"\");\n",
    "MuSize_hplots[Var1].second->Draw(); //Legend object\n",
    "c.Draw();"
   ]
  },
  {
   "cell_type": "code",
   "execution_count": 16,
   "metadata": {},
   "outputs": [],
   "source": [
    "std::string PlotPathName = PlotPath +\"/MuSizeStack.pdf\";\n",
    "if (SaveFiles) c.SaveAs(PlotPathName.c_str(),\"pdf\");"
   ]
  },
  {
   "cell_type": "code",
   "execution_count": 17,
   "metadata": {},
   "outputs": [
    {
     "data": {
      "image/png": "[encoded data removed]",
      "text/plain": [
       "<IPython.core.display.Image object>"
      ]
     },
     "metadata": {},
     "output_type": "display_data"
    }
   ],
   "source": [
    "MuSize_hplots[Var1].first->Draw(\"nostackb\"); //HStack object \"PADS\" \"nostack,e1p\"\n",
    "MuSize_hplots[Var1].first->SetTitle(\"\");\n",
    "MuSize_hplots[Var1].second->Draw(); //Legend object\n",
    "c.Draw();"
   ]
  },
  {
   "cell_type": "code",
   "execution_count": 18,
   "metadata": {},
   "outputs": [],
   "source": [
    "PlotPathName = PlotPath +\"/MuSizeAll.pdf\";\n",
    "if (SaveFiles) c.SaveAs(PlotPathName.c_str(),\"pdf\");"
   ]
  },
  {
   "cell_type": "markdown",
   "metadata": {},
   "source": [
    "### Significance"
   ]
  },
  {
   "cell_type": "code",
   "execution_count": 19,
   "metadata": {},
   "outputs": [],
   "source": [
    "auto MuSizeHist=MuSize->GetHists();"
   ]
  },
  {
   "cell_type": "code",
   "execution_count": 20,
   "metadata": {},
   "outputs": [],
   "source": [
    "//Vector of the TH1D Background, as\n",
    "std::vector<TH1D *> BackgroundMuS;\n",
    "BackgroundMuS.push_back((TH1D *)MuSizeHist[Var1].first.at(0));\n",
    "BackgroundMuS.push_back((TH1D *)MuSizeHist[Var1].first.at(1));\n",
    "BackgroundMuS.push_back((TH1D *)MuSizeHist[Var1].first.at(3));\n",
    "BackgroundMuS.push_back((TH1D *)MuSizeHist[Var1].first.at(4));"
   ]
  },
  {
   "cell_type": "code",
   "execution_count": 21,
   "metadata": {},
   "outputs": [],
   "source": [
    "temp[\"DY\"]=MuSizeHist[Var1].first.at(0)->Integral(0,MuSizeHist[Var1].first.at(0)->GetNbinsX()+2);\n",
    "temp[\"ST\"]=MuSizeHist[Var1].first.at(1)->Integral(0,MuSizeHist[Var1].first.at(1)->GetNbinsX()+2);\n",
    "temp[\"TT\"]=MuSizeHist[Var1].first.at(3)->Integral(0,MuSizeHist[Var1].first.at(3)->GetNbinsX()+2);\n",
    "temp[\"WJ\"]=MuSizeHist[Var1].first.at(4)->Integral(0,MuSizeHist[Var1].first.at(4)->GetNbinsX()+2);\n",
    "temp[\"Signal\"]=MuSizeHist[Var1].first.at(2)->Integral(0,MuSizeHist[Var1].first.at(2)->GetNbinsX()+2);"
   ]
  },
  {
   "cell_type": "code",
   "execution_count": 22,
   "metadata": {},
   "outputs": [],
   "source": [
    "CutFlow[\"Cut0\"]=temp;"
   ]
  },
  {
   "cell_type": "code",
   "execution_count": 23,
   "metadata": {},
   "outputs": [],
   "source": [
    "//temp[\"TT\"]\n",
    "//CutFlow[\"Cut0\"]"
   ]
  },
  {
   "cell_type": "code",
   "execution_count": 24,
   "metadata": {},
   "outputs": [],
   "source": [
    "Significance Muon_Size_TH=Significance((TH1D *)MuSizeHist[Var1].first.at(2),BackgroundMuS);\n",
    "TH1D * Muon_Size_THDraw=Muon_Size_TH.GetSigLessThan();"
   ]
  },
  {
   "cell_type": "code",
   "execution_count": 25,
   "metadata": {},
   "outputs": [
    {
     "data": {
      "image/png": "[encoded data removed]",
      "text/plain": [
       "<IPython.core.display.Image object>"
      ]
     },
     "metadata": {},
     "output_type": "display_data"
    }
   ],
   "source": [
    "Muon_Size_THDraw->Draw(\"E1\");\n",
    "Muon_Size_THDraw->SetTitle(\"\");\n",
    "Muon_Size_THDraw->GetXaxis()->SetTitle(\"Size(#mu)\");\n",
    "Muon_Size_THDraw->GetYaxis()->SetTitle(\"Significance\");\n",
    "c.Draw();"
   ]
  },
  {
   "cell_type": "code",
   "execution_count": 26,
   "metadata": {},
   "outputs": [],
   "source": [
    "PlotPathName = PlotPath +\"/MuSizeSignificance.pdf\";\n",
    "if (SaveFiles) c.SaveAs(PlotPathName.c_str(),\"pdf\");"
   ]
  },
  {
   "cell_type": "markdown",
   "metadata": {},
   "source": [
    "### efficency plots"
   ]
  },
  {
   "cell_type": "code",
   "execution_count": 27,
   "metadata": {},
   "outputs": [],
   "source": [
    "//Get The efficency plots\n",
    "std::vector<TH1D *> Muon_Size_Eff_THDraw = Muon_Size_TH.GetEffLessThan();"
   ]
  },
  {
   "cell_type": "code",
   "execution_count": 28,
   "metadata": {},
   "outputs": [
    {
     "data": {
      "image/png": "[encoded data removed]",
      "text/plain": [
       "<IPython.core.display.Image object>"
      ]
     },
     "metadata": {},
     "output_type": "display_data"
    }
   ],
   "source": [
    "//Muon_Pt_Eff_THDraw[0]->SetFillStyle(4050);\n",
    "Muon_Size_Eff_THDraw[0]->SetFillColor(0);\n",
    "Muon_Size_Eff_THDraw[0]->Draw(\"E\");\n",
    "Muon_Size_Eff_THDraw[0]->SetTitle(\"Eff_{<}\");\n",
    "Muon_Size_Eff_THDraw[0]->GetXaxis()->SetTitle(\"p_{T}(#mu) [GeV]\");\n",
    "Muon_Size_Eff_THDraw[0]->GetYaxis()->SetTitle(\"Efficiency\");\n",
    "MuSize_hplots[Var1].second->Draw(); //Legend object\n",
    "//Muon_Pt_Eff_THDraw[1]->SetFillStyle(4050);\n",
    "Muon_Size_Eff_THDraw[1]->SetFillColor(0);\n",
    "Muon_Size_Eff_THDraw[1]->Draw(\"same E\");\n",
    "//Muon_Pt_Eff_THDraw[2]->SetFillStyle(4050);\n",
    "Muon_Size_Eff_THDraw[2]->SetFillColor(0);\n",
    "Muon_Size_Eff_THDraw[2]->Draw(\"same E\");\n",
    "//Muon_Pt_Eff_THDraw[3]->SetFillStyle(4050);\n",
    "Muon_Size_Eff_THDraw[3]->SetFillColor(0);\n",
    "Muon_Size_Eff_THDraw[3]->Draw(\"same E\");\n",
    "//Muon_Pt_Eff_THDraw[4]->SetFillStyle(4050);\n",
    "Muon_Size_Eff_THDraw[4]->SetFillColor(0);\n",
    "Muon_Size_Eff_THDraw[4]->Draw(\"same E\");\n",
    "c.Draw();"
   ]
  },
  {
   "cell_type": "code",
   "execution_count": 29,
   "metadata": {},
   "outputs": [],
   "source": [
    "PlotPathName = PlotPath +\"/MuSizeEff.pdf\";\n",
    "if (SaveFiles) c.SaveAs(PlotPathName.c_str(),\"pdf\");"
   ]
  },
  {
   "cell_type": "markdown",
   "metadata": {},
   "source": [
    "## $p_T(\\mu)$"
   ]
  },
  {
   "cell_type": "code",
   "execution_count": 30,
   "metadata": {},
   "outputs": [],
   "source": [
    "MuPt->SetCut(cut0.c_str());"
   ]
  },
  {
   "cell_type": "code",
   "execution_count": 31,
   "metadata": {},
   "outputs": [],
   "source": [
    "auto MuPt_hplots = MuPt->GetPlots();"
   ]
  },
  {
   "cell_type": "code",
   "execution_count": 32,
   "metadata": {},
   "outputs": [
    {
     "data": {
      "image/png": "[encoded data removed]",
      "text/plain": [
       "<IPython.core.display.Image object>"
      ]
     },
     "metadata": {},
     "output_type": "display_data"
    }
   ],
   "source": [
    "MuPt_hplots[Var2].first->Draw(\"Histo\"); //HStack object\n",
    "MuPt_hplots[Var2].first->GetXaxis()->SetTitle(\"p_{T}(#mu) [GeV]\");\n",
    "MuPt_hplots[Var2].first->GetYaxis()->SetTitle(\"Number of events\");\n",
    "MuPt_hplots[Var2].first->SetTitle(\"\");\n",
    "MuPt_hplots[Var2].second->Draw(); //Legend object\n",
    "c.Draw();"
   ]
  },
  {
   "cell_type": "code",
   "execution_count": 33,
   "metadata": {},
   "outputs": [],
   "source": [
    "PlotPathName = PlotPath +\"/MuPtStack.pdf\";\n",
    "if (SaveFiles) c.SaveAs(PlotPathName.c_str(),\"pdf\");"
   ]
  },
  {
   "cell_type": "code",
   "execution_count": 34,
   "metadata": {},
   "outputs": [
    {
     "data": {
      "image/png": "[encoded data removed]",
      "text/plain": [
       "<IPython.core.display.Image object>"
      ]
     },
     "metadata": {},
     "output_type": "display_data"
    }
   ],
   "source": [
    "MuPt_hplots[Var2].first->GetXaxis()->SetTitle(\"p_{T}(#mu) [GeV]\");\n",
    "MuPt_hplots[Var2].first->GetYaxis()->SetTitle(\"Number of events\");\n",
    "MuPt_hplots[Var2].first->SetTitle(\"\");\n",
    "MuPt_hplots[Var2].first->Draw(\"Histo,nostackb\"); //HStack object\n",
    "MuPt_hplots[Var2].second->Draw(); //Legend object\n",
    "//c.SetLogy();\n",
    "c.Draw();"
   ]
  },
  {
   "cell_type": "code",
   "execution_count": 35,
   "metadata": {},
   "outputs": [],
   "source": [
    "//c.SetLogy()"
   ]
  },
  {
   "cell_type": "code",
   "execution_count": 36,
   "metadata": {},
   "outputs": [],
   "source": [
    "PlotPathName = PlotPath +\"/MuPtAll.pdf\";\n",
    "if (SaveFiles) c.SaveAs(PlotPathName.c_str(),\"pdf\");"
   ]
  },
  {
   "cell_type": "markdown",
   "metadata": {},
   "source": [
    "### Significance"
   ]
  },
  {
   "cell_type": "code",
   "execution_count": 37,
   "metadata": {},
   "outputs": [],
   "source": [
    "auto MuPtHist = MuPt->GetHists();"
   ]
  },
  {
   "cell_type": "code",
   "execution_count": 38,
   "metadata": {},
   "outputs": [],
   "source": [
    "//Vector of the TH1D Background, as\n",
    "std::vector<TH1D *> BackgroundMuPt;\n",
    "BackgroundMuPt.push_back((TH1D *)MuPtHist[Var2].first.at(0));\n",
    "BackgroundMuPt.push_back((TH1D *)MuPtHist[Var2].first.at(1));\n",
    "BackgroundMuPt.push_back((TH1D *)MuPtHist[Var2].first.at(3));\n",
    "BackgroundMuPt.push_back((TH1D *)MuPtHist[Var2].first.at(4));"
   ]
  },
  {
   "cell_type": "code",
   "execution_count": 39,
   "metadata": {},
   "outputs": [],
   "source": [
    "temp[\"DY\"]=MuPtHist[Var2].first.at(0)->Integral(0,MuPtHist[Var2].first.at(0)->GetNbinsX()+2);\n",
    "temp[\"ST\"]=MuPtHist[Var2].first.at(1)->Integral(0,MuPtHist[Var2].first.at(1)->GetNbinsX()+2);\n",
    "temp[\"TT\"]=MuPtHist[Var2].first.at(3)->Integral(0,MuPtHist[Var2].first.at(3)->GetNbinsX()+2);\n",
    "temp[\"WJ\"]=MuPtHist[Var2].first.at(4)->Integral(0,MuPtHist[Var2].first.at(4)->GetNbinsX()+2);\n",
    "temp[\"Signal\"]=MuPtHist[Var2].first.at(2)->Integral(0,MuPtHist[Var2].first.at(2)->GetNbinsX()+2);"
   ]
  },
  {
   "cell_type": "code",
   "execution_count": 40,
   "metadata": {},
   "outputs": [],
   "source": [
    "CutFlow[\"Cut1\"]=temp;"
   ]
  },
  {
   "cell_type": "code",
   "execution_count": 41,
   "metadata": {},
   "outputs": [],
   "source": [
    "//CutFlow[\"Cut1\"]"
   ]
  },
  {
   "cell_type": "code",
   "execution_count": 42,
   "metadata": {},
   "outputs": [],
   "source": [
    "Significance Muon_Pt_TH=Significance((TH1D *)MuPtHist[Var2].first.at(2),BackgroundMuPt);\n",
    "TH1D * Muon_Pt_THDraw=Muon_Pt_TH.GetSigLessThan();"
   ]
  },
  {
   "cell_type": "code",
   "execution_count": 43,
   "metadata": {},
   "outputs": [
    {
     "data": {
      "image/png": "[encoded data removed]",
      "text/plain": [
       "<IPython.core.display.Image object>"
      ]
     },
     "metadata": {},
     "output_type": "display_data"
    }
   ],
   "source": [
    "Muon_Pt_THDraw->Draw(\"E1\");\n",
    "Muon_Pt_THDraw->SetTitle(\"\");\n",
    "Muon_Pt_THDraw->GetXaxis()->SetTitle(\"p_{T}(#mu) [GeV]\");\n",
    "Muon_Pt_THDraw->GetYaxis()->SetTitle(\"Significance\");\n",
    "c.Draw();"
   ]
  },
  {
   "cell_type": "code",
   "execution_count": 44,
   "metadata": {},
   "outputs": [],
   "source": [
    "PlotPathName = PlotPath +\"/MuPtSignificance.pdf\";\n",
    "if (SaveFiles) c.SaveAs(PlotPathName.c_str(),\"pdf\");"
   ]
  },
  {
   "cell_type": "markdown",
   "metadata": {},
   "source": [
    "### efficency plots"
   ]
  },
  {
   "cell_type": "code",
   "execution_count": 45,
   "metadata": {},
   "outputs": [],
   "source": [
    "//Get The efficency plots\n",
    "std::vector<TH1D *> Muon_Pt_Eff_THDraw = Muon_Pt_TH.GetEffLessThan();"
   ]
  },
  {
   "cell_type": "code",
   "execution_count": 46,
   "metadata": {},
   "outputs": [
    {
     "data": {
      "image/png": "[encoded data removed]",
      "text/plain": [
       "<IPython.core.display.Image object>"
      ]
     },
     "metadata": {},
     "output_type": "display_data"
    }
   ],
   "source": [
    "Muon_Pt_Eff_THDraw[0]->SetFillColor(0);\n",
    "Muon_Pt_Eff_THDraw[0]->Draw(\"E\");\n",
    "Muon_Pt_Eff_THDraw[0]->GetXaxis()->SetTitle(\"p_{T}(#mu) [GeV]\");\n",
    "Muon_Pt_Eff_THDraw[0]->GetYaxis()->SetTitle(\"\");\n",
    "MuPt_hplots[\"AnaMuons.Pt()\"].second->Draw(); //Legend object;\n",
    "Muon_Pt_Eff_THDraw[1]->SetFillColor(0);\n",
    "Muon_Pt_Eff_THDraw[1]->Draw(\"same E\");\n",
    "Muon_Pt_Eff_THDraw[2]->SetFillColor(0);\n",
    "Muon_Pt_Eff_THDraw[2]->Draw(\"same E\");\n",
    "Muon_Pt_Eff_THDraw[3]->SetFillColor(0);\n",
    "Muon_Pt_Eff_THDraw[3]->Draw(\"same E\");\n",
    "Muon_Pt_Eff_THDraw[4]->SetFillColor(0);\n",
    "Muon_Pt_Eff_THDraw[4]->Draw(\"same E\");\n",
    "c.Draw();"
   ]
  },
  {
   "cell_type": "code",
   "execution_count": 47,
   "metadata": {},
   "outputs": [],
   "source": [
    "PlotPathName = PlotPath +\"/MuPtEff.pdf\";\n",
    "if (SaveFiles) c.SaveAs(PlotPathName.c_str(),\"pdf\");"
   ]
  },
  {
   "cell_type": "markdown",
   "metadata": {},
   "source": [
    "## $M_{T}(\\mu,p_{T}^{miss})$"
   ]
  },
  {
   "cell_type": "code",
   "execution_count": 48,
   "metadata": {},
   "outputs": [],
   "source": [
    "Mt->SetCut(cut1.c_str());"
   ]
  },
  {
   "cell_type": "code",
   "execution_count": 49,
   "metadata": {},
   "outputs": [],
   "source": [
    "auto Mt_hplots = Mt->GetPlots();"
   ]
  },
  {
   "cell_type": "code",
   "execution_count": 50,
   "metadata": {},
   "outputs": [
    {
     "data": {
      "image/png": "[encoded data removed]",
      "text/plain": [
       "<IPython.core.display.Image object>"
      ]
     },
     "metadata": {},
     "output_type": "display_data"
    }
   ],
   "source": [
    "Mt_hplots[\"MT_LeadingMuon_MET\"].first->Draw(\"Histo\"); //HStack object\n",
    "Mt_hplots[\"MT_LeadingMuon_MET\"].first->GetXaxis()->SetTitle(\"M_{T}(#mu,p_{T}^{miss}) [GeV]\");\n",
    "Mt_hplots[\"MT_LeadingMuon_MET\"].first->GetYaxis()->SetTitle(\"Number of events\");\n",
    "Mt_hplots[\"MT_LeadingMuon_MET\"].first->SetTitle(\"\");\n",
    "Mt_hplots[\"MT_LeadingMuon_MET\"].second->Draw(); //Legend object\n",
    "c.Draw();"
   ]
  },
  {
   "cell_type": "code",
   "execution_count": 51,
   "metadata": {},
   "outputs": [],
   "source": [
    "PlotPathName = PlotPath +\"/MtStack.pdf\";\n",
    "if (SaveFiles) c.SaveAs(PlotPathName.c_str(),\"pdf\");"
   ]
  },
  {
   "cell_type": "code",
   "execution_count": 52,
   "metadata": {},
   "outputs": [
    {
     "data": {
      "image/png": "[encoded data removed]",
      "text/plain": [
       "<IPython.core.display.Image object>"
      ]
     },
     "metadata": {},
     "output_type": "display_data"
    }
   ],
   "source": [
    "Mt_hplots[\"MT_LeadingMuon_MET\"].first->Draw(\"Histo,nostackb\"); //HStack object\n",
    "Mt_hplots[\"MT_LeadingMuon_MET\"].first->SetTitle(\"\");\n",
    "Mt_hplots[\"MT_LeadingMuon_MET\"].second->Draw(); //Legend object\n",
    "c.Draw();"
   ]
  },
  {
   "cell_type": "code",
   "execution_count": 53,
   "metadata": {},
   "outputs": [],
   "source": [
    "PlotPathName = PlotPath +\"/MtAll.pdf\";\n",
    "if (SaveFiles) c.SaveAs(PlotPathName.c_str(),\"pdf\");"
   ]
  },
  {
   "cell_type": "markdown",
   "metadata": {},
   "source": [
    "### Significance"
   ]
  },
  {
   "cell_type": "code",
   "execution_count": 54,
   "metadata": {},
   "outputs": [],
   "source": [
    "auto MtHist = Mt->GetHists();"
   ]
  },
  {
   "cell_type": "code",
   "execution_count": 55,
   "metadata": {},
   "outputs": [],
   "source": [
    "//Vector of the TH1D Background, as\n",
    "std::vector<TH1D *> BackgroundMt;\n",
    "BackgroundMt.push_back((TH1D *)MtHist[\"MT_LeadingMuon_MET\"].first.at(0));\n",
    "BackgroundMt.push_back((TH1D *)MtHist[\"MT_LeadingMuon_MET\"].first.at(1));\n",
    "BackgroundMt.push_back((TH1D *)MtHist[\"MT_LeadingMuon_MET\"].first.at(3));\n",
    "BackgroundMt.push_back((TH1D *)MtHist[\"MT_LeadingMuon_MET\"].first.at(4));"
   ]
  },
  {
   "cell_type": "code",
   "execution_count": 56,
   "metadata": {},
   "outputs": [],
   "source": [
    "temp[\"DY\"]=MtHist[\"MT_LeadingMuon_MET\"].first.at(0)->Integral(0,MtHist[\"MT_LeadingMuon_MET\"].first.at(0)->GetNbinsX()+2);\n",
    "temp[\"ST\"]=MtHist[\"MT_LeadingMuon_MET\"].first.at(1)->Integral(0,MtHist[\"MT_LeadingMuon_MET\"].first.at(1)->GetNbinsX()+2);\n",
    "temp[\"TT\"]=MtHist[\"MT_LeadingMuon_MET\"].first.at(3)->Integral(0,MtHist[\"MT_LeadingMuon_MET\"].first.at(3)->GetNbinsX()+2);\n",
    "temp[\"WJ\"]=MtHist[\"MT_LeadingMuon_MET\"].first.at(4)->Integral(0,MtHist[\"MT_LeadingMuon_MET\"].first.at(4)->GetNbinsX()+2);\n",
    "temp[\"Signal\"]=MtHist[\"MT_LeadingMuon_MET\"].first.at(2)->Integral(0,MtHist[\"MT_LeadingMuon_MET\"].first.at(2)->GetNbinsX()+2);"
   ]
  },
  {
   "cell_type": "code",
   "execution_count": 57,
   "metadata": {},
   "outputs": [],
   "source": [
    "CutFlow[\"Cut2\"]=temp;"
   ]
  },
  {
   "cell_type": "code",
   "execution_count": 58,
   "metadata": {},
   "outputs": [],
   "source": [
    "//CutFlow[\"Cut2\"]"
   ]
  },
  {
   "cell_type": "code",
   "execution_count": 59,
   "metadata": {},
   "outputs": [],
   "source": [
    "Significance Mt_TH=Significance((TH1D *)MtHist[\"MT_LeadingMuon_MET\"].first.at(2),BackgroundMt);\n",
    "TH1D * Mt_THDraw=Mt_TH.GetSigLessThan();"
   ]
  },
  {
   "cell_type": "code",
   "execution_count": 60,
   "metadata": {},
   "outputs": [
    {
     "data": {
      "image/png": "[encoded data removed]",
      "text/plain": [
       "<IPython.core.display.Image object>"
      ]
     },
     "metadata": {},
     "output_type": "display_data"
    }
   ],
   "source": [
    "Mt_THDraw->Draw(\"E1\");\n",
    "Mt_THDraw->SetTitle(\"\");\n",
    "Mt_THDraw->GetXaxis()->SetTitle(\"M_{T}(#mu,p_{T}^{miss}) [GeV]\");\n",
    "Mt_THDraw->GetYaxis()->SetTitle(\"Significance\");\n",
    "c.Draw();"
   ]
  },
  {
   "cell_type": "code",
   "execution_count": 61,
   "metadata": {},
   "outputs": [],
   "source": [
    "PlotPathName = PlotPath +\"/MtSignificance.pdf\";\n",
    "if (SaveFiles) c.SaveAs(PlotPathName.c_str(),\"pdf\");"
   ]
  },
  {
   "cell_type": "markdown",
   "metadata": {},
   "source": [
    "### Efficiency"
   ]
  },
  {
   "cell_type": "code",
   "execution_count": 62,
   "metadata": {},
   "outputs": [],
   "source": [
    "//Get The efficency plots\n",
    "std::vector<TH1D *> Mt_Eff_THDraw = Mt_TH.GetEffLessThan();"
   ]
  },
  {
   "cell_type": "code",
   "execution_count": 63,
   "metadata": {},
   "outputs": [
    {
     "data": {
      "image/png": "[encoded data removed]",
      "text/plain": [
       "<IPython.core.display.Image object>"
      ]
     },
     "metadata": {},
     "output_type": "display_data"
    }
   ],
   "source": [
    "Mt_Eff_THDraw[0]->SetFillColor(0);\n",
    "Mt_Eff_THDraw[0]->Draw(\"E\");\n",
    "Mt_Eff_THDraw[0]->SetTitle(\"\");\n",
    "Mt_Eff_THDraw[0]->GetXaxis()->SetTitle(\"M_{T}(#mu,p_{T}^{miss}) [GeV]\");\n",
    "Mt_Eff_THDraw[0]->GetYaxis()->SetTitle(\"Efficiency\");\n",
    "Mt_hplots[\"MT_LeadingMuon_MET\"].second->Draw(); //Legend object\n",
    "Mt_Eff_THDraw[1]->SetFillColor(0);\n",
    "Mt_Eff_THDraw[1]->Draw(\"same E\");\n",
    "Mt_Eff_THDraw[2]->SetFillColor(0);\n",
    "Mt_Eff_THDraw[2]->Draw(\"same E\");\n",
    "Mt_Eff_THDraw[3]->SetFillColor(0);\n",
    "Mt_Eff_THDraw[3]->Draw(\"same E\");\n",
    "Mt_Eff_THDraw[4]->SetFillColor(0);\n",
    "Mt_Eff_THDraw[4]->Draw(\"same E\");\n",
    "c.Draw();"
   ]
  },
  {
   "cell_type": "code",
   "execution_count": 64,
   "metadata": {},
   "outputs": [],
   "source": [
    "PlotPathName = PlotPath +\"/MtEff.pdf\";\n",
    "if (SaveFiles) c.SaveAs(PlotPathName.c_str(),\"pdf\");"
   ]
  },
  {
   "cell_type": "markdown",
   "metadata": {},
   "source": [
    "## $N(Jet)$"
   ]
  },
  {
   "cell_type": "code",
   "execution_count": 65,
   "metadata": {},
   "outputs": [],
   "source": [
    "JetSize->SetCut(cut2.c_str());"
   ]
  },
  {
   "cell_type": "code",
   "execution_count": 66,
   "metadata": {},
   "outputs": [],
   "source": [
    "auto JetSize_hplots = JetSize->GetPlots();"
   ]
  },
  {
   "cell_type": "code",
   "execution_count": 67,
   "metadata": {},
   "outputs": [
    {
     "data": {
      "image/png": "[encoded data removed]",
      "text/plain": [
       "<IPython.core.display.Image object>"
      ]
     },
     "metadata": {},
     "output_type": "display_data"
    }
   ],
   "source": [
    "JetSize_hplots[\"@AnaJets.size()\"].first->Draw(\"Histo\"); //HStack object\n",
    "JetSize_hplots[\"@AnaJets.size()\"].first->GetXaxis()->SetTitle(\"N(Jet)\");\n",
    "JetSize_hplots[\"@AnaJets.size()\"].first->GetYaxis()->SetTitle(\"Number of events\");\n",
    "JetSize_hplots[\"@AnaJets.size()\"].first->SetTitle(\"\");\n",
    "JetSize_hplots[\"@AnaJets.size()\"].second->Draw(); //Legend object\n",
    "c.Draw();"
   ]
  },
  {
   "cell_type": "code",
   "execution_count": 68,
   "metadata": {},
   "outputs": [],
   "source": [
    "PlotPathName = PlotPath +\"/JetSizeStack.pdf\";\n",
    "if (SaveFiles) c.SaveAs(PlotPathName.c_str(),\"pdf\");"
   ]
  },
  {
   "cell_type": "code",
   "execution_count": 69,
   "metadata": {},
   "outputs": [
    {
     "data": {
      "image/png": "[encoded data removed]",
      "text/plain": [
       "<IPython.core.display.Image object>"
      ]
     },
     "metadata": {},
     "output_type": "display_data"
    }
   ],
   "source": [
    "JetSize_hplots[\"@AnaJets.size()\"].first->Draw(\"Histo,nostackb\"); //HStack object\n",
    "JetSize_hplots[\"@AnaJets.size()\"].second->Draw(); //Legend object\n",
    "c.Draw();"
   ]
  },
  {
   "cell_type": "markdown",
   "metadata": {},
   "source": [
    "### Significance"
   ]
  },
  {
   "cell_type": "code",
   "execution_count": 70,
   "metadata": {},
   "outputs": [],
   "source": [
    "auto JetSizeHist = JetSize->GetHists();"
   ]
  },
  {
   "cell_type": "code",
   "execution_count": 71,
   "metadata": {},
   "outputs": [],
   "source": [
    "//Vector of the TH1D Background, as\n",
    "std::vector<TH1D *> BackgroundJetSize;\n",
    "BackgroundJetSize.push_back((TH1D *)JetSizeHist[\"@AnaJets.size()\"].first.at(0));\n",
    "BackgroundJetSize.push_back((TH1D *)JetSizeHist[\"@AnaJets.size()\"].first.at(1));\n",
    "BackgroundJetSize.push_back((TH1D *)JetSizeHist[\"@AnaJets.size()\"].first.at(3));\n",
    "BackgroundJetSize.push_back((TH1D *)JetSizeHist[\"@AnaJets.size()\"].first.at(4));"
   ]
  },
  {
   "cell_type": "code",
   "execution_count": 72,
   "metadata": {},
   "outputs": [],
   "source": [
    "temp[\"DY\"]=JetSizeHist[\"@AnaJets.size()\"].first.at(0)->Integral(0,JetSizeHist[\"@AnaJets.size()\"].first.at(0)->GetNbinsX()+2);\n",
    "temp[\"ST\"]=JetSizeHist[\"@AnaJets.size()\"].first.at(1)->Integral(0,JetSizeHist[\"@AnaJets.size()\"].first.at(1)->GetNbinsX()+2);\n",
    "temp[\"TT\"]=JetSizeHist[\"@AnaJets.size()\"].first.at(3)->Integral(0,JetSizeHist[\"@AnaJets.size()\"].first.at(3)->GetNbinsX()+2);\n",
    "temp[\"WJ\"]=JetSizeHist[\"@AnaJets.size()\"].first.at(4)->Integral(0,JetSizeHist[\"@AnaJets.size()\"].first.at(4)->GetNbinsX()+2);\n",
    "temp[\"Signal\"]=JetSizeHist[\"@AnaJets.size()\"].first.at(2)->Integral(0,JetSizeHist[\"@AnaJets.size()\"].first.at(2)->GetNbinsX()+2);"
   ]
  },
  {
   "cell_type": "code",
   "execution_count": 73,
   "metadata": {},
   "outputs": [],
   "source": [
    "CutFlow[\"Cut3\"]=temp;"
   ]
  },
  {
   "cell_type": "code",
   "execution_count": 74,
   "metadata": {},
   "outputs": [],
   "source": [
    "//CutFlow[\"Cut3\"]"
   ]
  },
  {
   "cell_type": "code",
   "execution_count": 75,
   "metadata": {},
   "outputs": [],
   "source": [
    "Significance Jet_Size_TH=Significance((TH1D *)JetSizeHist[\"@AnaJets.size()\"].first.at(2),BackgroundJetSize);\n",
    "TH1D * Jet_Size_THDraw=Jet_Size_TH.GetSigLessThan();"
   ]
  },
  {
   "cell_type": "code",
   "execution_count": 76,
   "metadata": {},
   "outputs": [
    {
     "data": {
      "image/png": "[encoded data removed]",
      "text/plain": [
       "<IPython.core.display.Image object>"
      ]
     },
     "metadata": {},
     "output_type": "display_data"
    }
   ],
   "source": [
    "Jet_Size_THDraw->Draw(\"E1\");\n",
    "Jet_Size_THDraw->SetTitle(\"\");\n",
    "Jet_Size_THDraw->GetXaxis()->SetTitle(\"N(Jet)\");\n",
    "Jet_Size_THDraw->GetYaxis()->SetTitle(\"Significance\");\n",
    "c.Draw();"
   ]
  },
  {
   "cell_type": "code",
   "execution_count": 77,
   "metadata": {},
   "outputs": [],
   "source": [
    "PlotPathName = PlotPath +\"/JetSizeSignificance.pdf\";\n",
    "if (SaveFiles) c.SaveAs(PlotPathName.c_str(),\"pdf\");"
   ]
  },
  {
   "cell_type": "markdown",
   "metadata": {},
   "source": [
    "### Efficiency"
   ]
  },
  {
   "cell_type": "code",
   "execution_count": 78,
   "metadata": {},
   "outputs": [],
   "source": [
    "//Get The efficency plots\n",
    "std::vector<TH1D *> Jet_Size_Eff_THDraw = Jet_Size_TH.GetEffLessThan();"
   ]
  },
  {
   "cell_type": "code",
   "execution_count": 79,
   "metadata": {},
   "outputs": [
    {
     "data": {
      "image/png": "[encoded data removed]",
      "text/plain": [
       "<IPython.core.display.Image object>"
      ]
     },
     "metadata": {},
     "output_type": "display_data"
    }
   ],
   "source": [
    "Jet_Size_Eff_THDraw[0]->SetFillColor(0);\n",
    "Jet_Size_Eff_THDraw[0]->Draw(\"E\");\n",
    "Jet_Size_Eff_THDraw[0]->SetTitle(\"\");\n",
    "Jet_Size_Eff_THDraw[0]->GetXaxis()->SetTitle(\"N(Jet)\");\n",
    "Jet_Size_Eff_THDraw[0]->GetYaxis()->SetTitle(\"Efficiency\");\n",
    "JetSize_hplots[\"@AnaJets.size()\"].second->Draw(); //Legend object\n",
    "Jet_Size_Eff_THDraw[1]->SetFillColor(0);\n",
    "Jet_Size_Eff_THDraw[1]->Draw(\"same E\");\n",
    "Jet_Size_Eff_THDraw[2]->SetFillColor(0);\n",
    "Jet_Size_Eff_THDraw[2]->Draw(\"same E\");\n",
    "Jet_Size_Eff_THDraw[3]->SetFillColor(0);\n",
    "Jet_Size_Eff_THDraw[3]->Draw(\"same E\");\n",
    "Jet_Size_Eff_THDraw[4]->SetFillColor(0);\n",
    "Jet_Size_Eff_THDraw[4]->Draw(\"same E\");\n",
    "c.Draw();"
   ]
  },
  {
   "cell_type": "code",
   "execution_count": 80,
   "metadata": {},
   "outputs": [],
   "source": [
    "PlotPathName = PlotPath +\"/JetSizeEff.pdf\";\n",
    "if (SaveFiles) c.SaveAs(PlotPathName.c_str(),\"pdf\");"
   ]
  },
  {
   "cell_type": "markdown",
   "metadata": {},
   "source": [
    "##  $M_T(MET)$"
   ]
  },
  {
   "cell_type": "code",
   "execution_count": 81,
   "metadata": {},
   "outputs": [],
   "source": [
    "METMt->SetCut(cut3.c_str());"
   ]
  },
  {
   "cell_type": "code",
   "execution_count": 82,
   "metadata": {},
   "outputs": [],
   "source": [
    "auto METMt_hplots = METMt->GetPlots();"
   ]
  },
  {
   "cell_type": "code",
   "execution_count": 83,
   "metadata": {
    "scrolled": true
   },
   "outputs": [
    {
     "data": {
      "image/png": "[encoded data removed]",
      "text/plain": [
       "<IPython.core.display.Image object>"
      ]
     },
     "metadata": {},
     "output_type": "display_data"
    }
   ],
   "source": [
    "METMt_hplots[\"AnaMET.Mt()\"].first->Draw(\"Histo\"); //HStack object\n",
    "METMt_hplots[\"AnaMET.Mt()\"].first->GetXaxis()->SetTitle(\"M_{T}(MET) [GeV]\");\n",
    "METMt_hplots[\"AnaMET.Mt()\"].first->GetYaxis()->SetTitle(\"Number of events\");\n",
    "METMt_hplots[\"AnaMET.Mt()\"].first->SetTitle(\"\");\n",
    "METMt_hplots[\"AnaMET.Mt()\"].second->Draw(); //Legend object\n",
    "c.Draw();"
   ]
  },
  {
   "cell_type": "markdown",
   "metadata": {},
   "source": [
    "### Significance"
   ]
  },
  {
   "cell_type": "code",
   "execution_count": 84,
   "metadata": {},
   "outputs": [],
   "source": [
    "auto METMtHist = METMt->GetHists();"
   ]
  },
  {
   "cell_type": "code",
   "execution_count": 85,
   "metadata": {},
   "outputs": [],
   "source": [
    "//Vector of the TH1D Background, as\n",
    "std::vector<TH1D *> BackgroundMETMt;\n",
    "BackgroundMETMt.push_back((TH1D *)METMtHist[\"AnaMET.Mt()\"].first.at(0));\n",
    "BackgroundMETMt.push_back((TH1D *)METMtHist[\"AnaMET.Mt()\"].first.at(1));\n",
    "BackgroundMETMt.push_back((TH1D *)METMtHist[\"AnaMET.Mt()\"].first.at(3));\n",
    "BackgroundMETMt.push_back((TH1D *)METMtHist[\"AnaMET.Mt()\"].first.at(4));"
   ]
  },
  {
   "cell_type": "code",
   "execution_count": 86,
   "metadata": {},
   "outputs": [],
   "source": [
    "temp[\"DY\"]=METMtHist[\"AnaMET.Mt()\"].first.at(0)->Integral(0,METMtHist[\"AnaMET.Mt()\"].first.at(0)->GetNbinsX()+2);\n",
    "temp[\"ST\"]=METMtHist[\"AnaMET.Mt()\"].first.at(1)->Integral(0,METMtHist[\"AnaMET.Mt()\"].first.at(1)->GetNbinsX()+2);\n",
    "temp[\"TT\"]=METMtHist[\"AnaMET.Mt()\"].first.at(3)->Integral(0,METMtHist[\"AnaMET.Mt()\"].first.at(3)->GetNbinsX()+2);\n",
    "temp[\"WJ\"]=METMtHist[\"AnaMET.Mt()\"].first.at(4)->Integral(0,METMtHist[\"AnaMET.Mt()\"].first.at(4)->GetNbinsX()+2);\n",
    "temp[\"Signal\"]=METMtHist[\"AnaMET.Mt()\"].first.at(2)->Integral(0,METMtHist[\"AnaMET.Mt()\"].first.at(2)->GetNbinsX()+2);"
   ]
  },
  {
   "cell_type": "code",
   "execution_count": 87,
   "metadata": {},
   "outputs": [],
   "source": [
    "CutFlow[\"Final\"]=temp;"
   ]
  },
  {
   "cell_type": "code",
   "execution_count": 88,
   "metadata": {},
   "outputs": [
    {
     "name": "stdout",
     "output_type": "stream",
     "text": [
      "-------------------------------\n",
      "-----------Cut0----------------\n",
      "-------------------------------\n",
      "        DY ...... 53760\n",
      "        ST ...... 326530\n",
      "        Signal ...... 1816\n",
      "        TT ...... 1388734\n",
      "        WJ ...... 7675460\n",
      "-------------------------------\n",
      "-----------Cut1----------------\n",
      "-------------------------------\n",
      "        DY ...... 53760\n",
      "        ST ...... 326530\n",
      "        Signal ...... 1816\n",
      "        TT ...... 1388734\n",
      "        WJ ...... 7675460\n",
      "-------------------------------\n",
      "-----------Cut2----------------\n",
      "-------------------------------\n",
      "        DY ...... 37740\n",
      "        ST ...... 212492\n",
      "        Signal ...... 1670\n",
      "        TT ...... 917812\n",
      "        WJ ...... 5121386\n",
      "-------------------------------\n",
      "-----------Cut3----------------\n",
      "-------------------------------\n",
      "        DY ...... 25620\n",
      "        ST ...... 102020\n",
      "        Signal ...... 1162\n",
      "        TT ...... 436622\n",
      "        WJ ...... 2294682\n",
      "-------------------------------\n",
      "-----------Final----------------\n",
      "-------------------------------\n",
      "        DY ...... 14992\n",
      "        ST ...... 30866\n",
      "        Signal ...... 716\n",
      "        TT ...... 63054\n",
      "        WJ ...... 1171458\n"
     ]
    }
   ],
   "source": [
    "// Create a map iterator and point to beginning of map\n",
    "std::string FileName = PlotPath +\"/Cutflow.dat\";\n",
    "ofstream myfile (FileName.c_str());\n",
    "std::map<std::string, std::map<std::string, Double_t> >::iterator it = CutFlow.begin();\n",
    " \n",
    "// Iterate over the map using Iterator till end.\n",
    "while (it != CutFlow.end())\n",
    "{\n",
    "    // Accessing KEY from element pointed by it.\n",
    "    std::string Cut = it->first;\n",
    "    std::cout<< \"-------------------------------\" <<std::endl;\n",
    "    std::cout<< \"-----------\" <<Cut << \"----------------\" <<std::endl;\n",
    "    std::cout<< \"-------------------------------\" <<std::endl;\n",
    "    //File\n",
    "    myfile<< \"-------------------------------\" <<std::endl;\n",
    "    myfile<< \"-----------\" <<Cut << \"----------------\" <<std::endl;\n",
    "    myfile<< \"-------------------------------\" <<std::endl;\n",
    "    \n",
    "    \n",
    "\n",
    "    // Accessing VALUE from element pointed by it.\n",
    "    std::map<std::string, Double_t> map2 = it->second;\n",
    "    \n",
    "    // Create a map iterator and point to beginning of map\n",
    "    std::map<std::string, Double_t>::iterator other = map2.begin();\n",
    "    while (other != map2.end())\n",
    "    {\n",
    "        // Accessing KEY from element pointed by other.\n",
    "        std::string sig = other->first;\n",
    "        // Accessing VALUE from element pointed by it.\n",
    "        int count = other->second;\n",
    "        std::cout << \"        \" <<other->first << \" ...... \" << count <<std::endl;\n",
    "        myfile << \"        \" <<other->first << \" ...... \" << count <<std::endl;\n",
    "        // Increment the Iterator to point to next entry\n",
    "        other++;\n",
    "            \n",
    "    }\n",
    "    // Increment the Iterator to point to next entry\n",
    "    it++;\n",
    "}\n",
    "myfile.close();"
   ]
  },
  {
   "cell_type": "code",
   "execution_count": 89,
   "metadata": {},
   "outputs": [
    {
     "name": "stdout",
     "output_type": "stream",
     "text": [
      "(std::string &) \"@AnaMuons.size()==1&&@BJets.size()==0&&AnaMuons.Pt()>3&&AnaMuons.Pt()<30&&MT_LeadingMuon_MET<50&&@AnaJets.size()<3\"\n"
     ]
    }
   ],
   "source": [
    "cut3"
   ]
  },
  {
   "cell_type": "code",
   "execution_count": null,
   "metadata": {},
   "outputs": [],
   "source": []
  }
 ],
 "metadata": {
  "kernelspec": {
   "display_name": "ROOT C++",
   "language": "c++",
   "name": "root"
  },
  "language_info": {
   "codemirror_mode": "text/x-c++src",
   "file_extension": ".C",
   "mimetype": " text/x-c++src",
   "name": "c++"
  }
 },
 "nbformat": 4,
 "nbformat_minor": 2
}
