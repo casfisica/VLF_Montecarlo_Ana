{
 "cells": [
  {
   "cell_type": "code",
   "execution_count": 1,
   "metadata": {},
   "outputs": [],
   "source": [
    "#include <fstream>\n",
    "#include <cstdlib>\n",
    "#include <utility>"
   ]
  },
  {
   "cell_type": "code",
   "execution_count": 2,
   "metadata": {},
   "outputs": [
    {
     "name": "stdout",
     "output_type": "stream",
     "text": [
      "(int) 0\n"
     ]
    }
   ],
   "source": [
    "gROOT->ProcessLine(\".x Lib.C\");"
   ]
  },
  {
   "cell_type": "markdown",
   "metadata": {},
   "source": [
    "/*Debe de ir en Lib.C*/\n",
    "std::string ReplaceAll(std::string str, const std::string& from, const std::string& to) {\n",
    "    size_t start_pos = 0;\n",
    "    while((start_pos = str.find(from, start_pos)) != std::string::npos) {\n",
    "        str.replace(start_pos, from.length(), to);\n",
    "        start_pos += to.length(); // Handles case where 'to' is a substring of 'from'\n",
    "    }\n",
    "    return str;\n",
    "}"
   ]
  },
  {
   "cell_type": "markdown",
   "metadata": {},
   "source": [
    "/*Debe de ir en Lib.C*/\n",
    "std::string NameMaker(std::string str){\n",
    "    std::string strout =  str;\n",
    "    strout = ReplaceAll(strout, std::string(\" \"), std::string(\"_\"));\n",
    "    strout = ReplaceAll(strout, std::string(\"<\"), std::string(\"LT\"));\n",
    "    strout = ReplaceAll(strout, std::string(\">\"), std::string(\"MT\"));\n",
    "    strout = ReplaceAll(strout, std::string(\"#\"), std::string(\"\"));\n",
    "    strout = ReplaceAll(strout, std::string(\"@\"), std::string(\"\"));\n",
    "    strout = ReplaceAll(strout, std::string(\"(\"), std::string(\"\"));\n",
    "    strout = ReplaceAll(strout, std::string(\")\"), std::string(\"\"));\n",
    "    strout = ReplaceAll(strout, std::string(\"||\"), std::string(\"OR\"));\n",
    "    strout = ReplaceAll(strout, std::string(\"&&\"), std::string(\"AND\"));\n",
    "    strout = ReplaceAll(strout, std::string(\".\"), std::string(\"\"));\n",
    "    strout = ReplaceAll(strout, std::string(\"==\"), std::string(\"EQ\"));\n",
    "    strout = ReplaceAll(strout, std::string(\"!=\"), std::string(\"NEQ\"));\n",
    "    //strout = ReplaceAll(strout, std::string(\"\"), std::string(\"\"));\n",
    "    //strout = ReplaceAll(strout, std::string(\"\"), std::string(\"\"));\n",
    "\n",
    "\n",
    "    return strout;\n",
    "}"
   ]
  },
  {
   "cell_type": "markdown",
   "metadata": {},
   "source": [
    "# -------------------------------------------------------------------"
   ]
  },
  {
   "cell_type": "code",
   "execution_count": 3,
   "metadata": {},
   "outputs": [],
   "source": [
    "/*Variables names \"std::pair <std::string,std::string> Variable (\"NameVariable\",\"Latex Labl #\");\" */\n",
    "\n",
    "//std::pair <std::string,std::string> Var1 (\"IMass\",\"m(#mu) [GeV]\"); \n",
    "//std::pair <std::string,std::string> Var1 (\"TheMuon[0].Pt()\",\"p_{T}(#mu) [GeV]\");\n",
    "//std::pair <std::string,std::string> Var1 (\"MT_TheMuon_MET[0]\",\"MT(#mu,MET) [GeV]\"); \n",
    "//std::pair <std::string,std::string> Var1 (\"MT_TheMuon_MET[1]\",\"MT(#mu,MET) [GeV]\"); \n",
    "//std::pair <std::string,std::string> Var1 (\"AnaMET.Pt()\",\"p^{MISS}_{T} [GeV]\");\n",
    "//std::pair <std::string,std::string> Var1 (\"TheMuon[1].Pt()\",\"p_{T}(#mu) [GeV]\");\n",
    "std::pair <std::string,std::string> Var1 (\"@AnaJets.size()\",\"N(Jet)\");\n",
    "//std::pair <std::string,std::string> Var1 (\"@AnaMuons.size()\",\"N(#mu)\");\n"
   ]
  },
  {
   "cell_type": "code",
   "execution_count": 4,
   "metadata": {},
   "outputs": [],
   "source": [
    "//For m(#mu) 0,0,400\n",
    "//Harry::Plotter *Plotter1 = new Harry::Plotter(\"VLFTree\",{Var1.first}, 50, 0,200);\n",
    "\n",
    "//For PT 12,0,60\n",
    "//Harry::Plotter *Plotter1 = new Harry::Plotter(\"VLFTree\",{Var1.first}, 12, 0,60);\n",
    "\n",
    "//For MT(#mu,MET) 10, 0,100\n",
    "//Harry::Plotter *Plotter1 = new Harry::Plotter(\"VLFTree\",{Var1.first}, 20, 0,120);\n",
    "\n",
    "//MET.PT 50,50,550\n",
    "//Harry::Plotter *Plotter1 = new Harry::Plotter(\"VLFTree\",{Var1.first}, 50, 50,550);\n",
    "\n",
    "//For Jets Size 6,0,6\n",
    "Harry::Plotter *Plotter1 = new Harry::Plotter(\"VLFTree\",{Var1.first}, 6, 0,6);\n",
    "\n",
    "//Harry::Plotter *Plotter1 = new Harry::Plotter(\"VLFTree\",{Var1.first}, 3, 0,3);"
   ]
  },
  {
   "cell_type": "markdown",
   "metadata": {},
   "source": [
    "# -------------------------------------------------------------------"
   ]
  },
  {
   "cell_type": "code",
   "execution_count": 5,
   "metadata": {},
   "outputs": [],
   "source": [
    "/*Plotter Objets Vector, to the filling procedure*/\n",
    "std::vector<Harry::Plotter *> PlotVec;\n",
    "PlotVec.push_back(Plotter1);"
   ]
  },
  {
   "cell_type": "code",
   "execution_count": 6,
   "metadata": {},
   "outputs": [],
   "source": [
    "//p->SetVerbose(true);"
   ]
  },
  {
   "cell_type": "code",
   "execution_count": 7,
   "metadata": {},
   "outputs": [],
   "source": [
    "/*Filling the Plotter objets*/\n",
    "for(auto p: PlotVec) {\n",
    "p->AddDirectory(\"/home/camilo/cms/VLF_Montecarlo_Ana/Data/Signal.root\",\"Signal\",0.33100);\n",
    "//DY\n",
    "p->AddDirectory(\"/home/camilo/cms/VLF_Montecarlo_Ana/Data/DYJetsToLL_HT/DYJetsToLL_HT.root\",\"Drell Yan\",3.40390);\n",
    "//Single Top\n",
    "p->AddDirectory(\"/home/camilo/cms/VLF_Montecarlo_Ana/Data/ST/ST_s-channel_4f_leptonDecays.root\",\"Single Top\",0.336);//30\n",
    "p->AddDirectory(\"/home/camilo/cms/VLF_Montecarlo_Ana/Data/ST/ST_t-channel_antitop_4f_inclusiveDecays.root\",\"Single Top\",0.67158);//30\n",
    "p->AddDirectory(\"/home/camilo/cms/VLF_Montecarlo_Ana/Data/ST/ST_t-channel_top_4f_inclusiveDecays.root\",\"Single Top\",0.44013);//45\n",
    "p->AddDirectory(\"/home/camilo/cms/VLF_Montecarlo_Ana/Data/ST/ST_tW_antitop_5f_inclusiveDecays.root\",\"Single Top\",0.44013);//120\n",
    "p->AddDirectory(\"/home/camilo/cms/VLF_Montecarlo_Ana/Data/ST/ST_tW_top_5f_inclusiveDecays.root\",\"Single Top\",0.54783);\n",
    "//TT\n",
    "p->AddDirectory(\"/home/camilo/cms/VLF_Montecarlo_Ana/Data/TTToLL_MLL/TT_TuneCUETP8M2T4.root\",\"t#bar{t}\",1.07907048);\n",
    "\n",
    "//W+Jets\n",
    "p->AddDirectory(\"/home/camilo/cms/VLF_Montecarlo_Ana/Data/WJets_HT/WJetsToLNu_HT-70To100.root\",\"W + Jets\",163.713);//max20000\n",
    "p->AddDirectory(\"/home/camilo/cms/VLF_Montecarlo_Ana/Data/WJets_HT/WJetsToLNu_HT-100To200.root\",\"W + Jets\",16.13445);//max 160000\n",
    "p->AddDirectory(\"/home/camilo/cms/VLF_Montecarlo_Ana/Data/WJets_HT/WJetsToLNu_HT-200To400.root\",\"W + Jets\",0.54907);//4000\n",
    "p->AddDirectory(\"/home/camilo/cms/VLF_Montecarlo_Ana/Data/WJets_HT/WJetsToLNu_HT-400To600.root\",\"W + Jets\",0.14881);//200\n",
    "p->AddDirectory(\"/home/camilo/cms/VLF_Montecarlo_Ana/Data/WJets_HT/WJetsToLNu_HT-600To800.root\",\"W + Jets\",0.18821);\n",
    "p->AddDirectory(\"/home/camilo/cms/VLF_Montecarlo_Ana/Data/WJets_HT/WJetsToLNu_HT-800To1200.root\",\"W + Jets\",0.03559);\n",
    "p->AddDirectory(\"/home/camilo/cms/VLF_Montecarlo_Ana/Data/WJets_HT/WJetsToLNu_HT-1200To2500.root\",\"W + Jets\",0.02340);\n",
    "p->AddDirectory(\"/home/camilo/cms/VLF_Montecarlo_Ana/Data/WJets_HT/WJetsToLNu_HT-2500ToInf.root\",\"W + Jets\",0.00147); //max\n",
    "}"
   ]
  },
  {
   "cell_type": "code",
   "execution_count": 8,
   "metadata": {},
   "outputs": [],
   "source": [
    "/*Canvas Objet*/\n",
    "TCanvas c;"
   ]
  },
  {
   "cell_type": "code",
   "execution_count": 9,
   "metadata": {},
   "outputs": [],
   "source": [
    "//gStyle->SetPalette(88);"
   ]
  },
  {
   "cell_type": "code",
   "execution_count": 10,
   "metadata": {},
   "outputs": [],
   "source": [
    "/*Map containing the number of even after each cut*/\n",
    "std::map<std::string, std::map<std::string, Double_t> > CutFlow;\n",
    "//Map to count events\n",
    "std::map<std::string, Double_t> temp;"
   ]
  },
  {
   "cell_type": "code",
   "execution_count": 11,
   "metadata": {},
   "outputs": [],
   "source": [
    "/*Cut Definition One Muon*/\n",
    "std::string cut0=\"@AnaMuons.size()==2&&@BJets.size()==0&&IMass>0\";\n",
    "std::string cut1=cut0+\"&&(IMass<60||IMass>120)\";\n",
    "std::string cut2=cut1+\"&&TheMuon[0].Pt()<25\";\n",
    "std::string cut3=cut2+\"&&AnaMET.Pt()>270\";\n",
    "std::string cut4=cut3+\"&&TheMuon[1].Pt()>10\";"
   ]
  },
  {
   "cell_type": "code",
   "execution_count": 12,
   "metadata": {},
   "outputs": [],
   "source": [
    "std::string PlotPath = \"Plots_PDF/\" + NameMaker(cut0);"
   ]
  },
  {
   "cell_type": "code",
   "execution_count": 14,
   "metadata": {},
   "outputs": [
    {
     "name": "stdout",
     "output_type": "stream",
     "text": [
      "(std::string &) \"Plots_PDF/AnaMuonssizeEQ2ANDBJetssizeEQ0ANDIMassMT0\"\n"
     ]
    }
   ],
   "source": [
    "PlotPath"
   ]
  },
  {
   "cell_type": "markdown",
   "metadata": {},
   "source": [
    "# -------------------------------------------------------------------"
   ]
  },
  {
   "cell_type": "code",
   "execution_count": 13,
   "metadata": {},
   "outputs": [],
   "source": [
    "/*Wich Cut you want to applied*/\n",
    "std::string cutapplied= cut4;\n",
    "Bool_t SaveFiles = kFALSE;\n",
    "//SaveFiles = kTRUE;"
   ]
  },
  {
   "cell_type": "markdown",
   "metadata": {},
   "source": [
    "# -------------------------------------------------------------------"
   ]
  },
  {
   "cell_type": "code",
   "execution_count": 15,
   "metadata": {},
   "outputs": [],
   "source": [
    "/*Create the output Folder (If is needed)*/\n",
    "if (SaveFiles){\n",
    "    std::string cmdbash = \"mkdir -p \"+PlotPath;\n",
    "    const int dir_err =system(cmdbash.c_str());\n",
    "}"
   ]
  },
  {
   "cell_type": "markdown",
   "metadata": {},
   "source": [
    "## First Cut"
   ]
  },
  {
   "cell_type": "code",
   "execution_count": 16,
   "metadata": {},
   "outputs": [],
   "source": [
    "//Plotter1->SetTDRStyle();\n",
    "//gStyle->SetPalette(107);"
   ]
  },
  {
   "cell_type": "code",
   "execution_count": 17,
   "metadata": {},
   "outputs": [],
   "source": [
    "//Used for cross check\n",
    "Plotter1->SetCut(cutapplied.c_str());"
   ]
  },
  {
   "cell_type": "code",
   "execution_count": 18,
   "metadata": {},
   "outputs": [],
   "source": [
    "auto Plotter1_hplots = Plotter1->GetPlots();"
   ]
  },
  {
   "cell_type": "code",
   "execution_count": 19,
   "metadata": {},
   "outputs": [
    {
     "data": {
      "image/png": "[encoded data removed]",
      "text/plain": [
       "<IPython.core.display.Image object>"
      ]
     },
     "metadata": {},
     "output_type": "display_data"
    }
   ],
   "source": [
    "/*Plotting the HStack*/\n",
    "Plotter1_hplots[Var1.first].first->Draw(\"histo\");\n",
    "Plotter1_hplots[Var1.first].first->GetXaxis()->SetTitle(Var1.second.c_str());\n",
    "Plotter1_hplots[Var1.first].first->GetYaxis()->SetTitle(\"Events\");\n",
    "Plotter1_hplots[Var1.first].first->SetTitle(\"\");\n",
    "Plotter1_hplots[Var1.first].second->Draw(); //Legend object\n",
    "c.Draw();"
   ]
  },
  {
   "cell_type": "code",
   "execution_count": 20,
   "metadata": {},
   "outputs": [],
   "source": [
    "/*Saving the plot*/\n",
    "PlotName = NameMaker(Var1.first) + NameMaker(cutapplied);;\n",
    "PlotPathName = PlotPath + \"/\" + PlotName + \"_Stack.pdf\";\n",
    "if (SaveFiles) c.SaveAs(PlotPathName.c_str(),\"pdf\");"
   ]
  },
  {
   "cell_type": "code",
   "execution_count": 21,
   "metadata": {},
   "outputs": [],
   "source": [
    "//PlotPathName"
   ]
  },
  {
   "cell_type": "code",
   "execution_count": 22,
   "metadata": {},
   "outputs": [
    {
     "data": {
      "image/png": "[encoded data removed]",
      "text/plain": [
       "<IPython.core.display.Image object>"
      ]
     },
     "metadata": {},
     "output_type": "display_data"
    }
   ],
   "source": [
    "Plotter1_hplots[Var1.first].first->Draw(\"PADS,histo\"); //HStack object \"PADS\" \"nostack,e1p\"\n",
    "Plotter1_hplots[Var1.first].second->Draw(); //Legend object\n",
    "c.Draw();"
   ]
  },
  {
   "cell_type": "code",
   "execution_count": 23,
   "metadata": {},
   "outputs": [],
   "source": [
    "/*Saving the plot*/\n",
    "PlotPathName = PlotPath + \"/\" + PlotName + \"_AllPads.pdf\";\n",
    "if (SaveFiles) c.SaveAs(PlotPathName.c_str(),\"pdf\");"
   ]
  },
  {
   "cell_type": "code",
   "execution_count": 24,
   "metadata": {},
   "outputs": [],
   "source": [
    "gPad->SetLogy(1);"
   ]
  },
  {
   "cell_type": "code",
   "execution_count": 25,
   "metadata": {},
   "outputs": [
    {
     "data": {
      "image/png": "[encoded data removed]",
      "text/plain": [
       "<IPython.core.display.Image object>"
      ]
     },
     "metadata": {},
     "output_type": "display_data"
    }
   ],
   "source": [
    "Plotter1_hplots[Var1.first].first->Draw(\"E1,nostackb\"); //HStack object \"PADS\" \"nostack,e1p\"\n",
    "Plotter1_hplots[Var1.first].first->GetXaxis()->SetTitle(Var1.second.c_str());\n",
    "Plotter1_hplots[Var1.first].first->GetYaxis()->SetTitle(\"Events\");\n",
    "Plotter1_hplots[Var1.first].first->SetTitle(\"\");\n",
    "Plotter1_hplots[Var1.first].second->Draw(); //Legend object\n",
    "c.Draw();"
   ]
  },
  {
   "cell_type": "code",
   "execution_count": 26,
   "metadata": {},
   "outputs": [],
   "source": [
    "/*Saving the plot*/\n",
    "PlotPathName = PlotPath + \"/\" + PlotName + \"_AllLog.pdf\";\n",
    "if (SaveFiles) c.SaveAs(PlotPathName.c_str(),\"pdf\");"
   ]
  },
  {
   "cell_type": "code",
   "execution_count": 27,
   "metadata": {},
   "outputs": [],
   "source": [
    "gPad->SetLogy(0);"
   ]
  },
  {
   "cell_type": "markdown",
   "metadata": {},
   "source": [
    "## Significance"
   ]
  },
  {
   "cell_type": "markdown",
   "metadata": {},
   "source": [
    "### Significance Less Than"
   ]
  },
  {
   "cell_type": "code",
   "execution_count": 28,
   "metadata": {},
   "outputs": [],
   "source": [
    "/*Get the histograms from the Plotter Objet*/\n",
    "auto Plotter1_Hist=Plotter1->GetHists();"
   ]
  },
  {
   "cell_type": "code",
   "execution_count": 29,
   "metadata": {},
   "outputs": [],
   "source": [
    "//Vector of the TH1D Background, as\n",
    "std::vector<TH1D *> BackgroundPlotter1;\n",
    "std::vector<TH1D *> SignalTH1D;\n",
    "for (auto i = 0; i<Plotter1_Hist[Var1.first].first.size(); i++){\n",
    "    std::string s1 = (std::string) Plotter1_Hist[Var1.first].first.at(i)->GetName();\n",
    "    if (s1.find(\"Signal\") != std::string::npos) {\n",
    "    //std::cout<< Plotter1_Hist[Var1.first].first.at(i)->GetName()<<std::endl;\n",
    "        SignalTH1D.push_back((TH1D *)Plotter1_Hist[Var1.first].first.at(i));\n",
    "    }else{\n",
    "        BackgroundPlotter1.push_back((TH1D *)Plotter1_Hist[Var1.first].first.at(i));\n",
    "    }\n",
    "    temp[Plotter1_Hist[Var1.first].first.at(i)->GetName()] = Plotter1_Hist[Var1.first].first.at(i)->Integral();\n",
    "}\n",
    "if(SignalTH1D.size()>1) std::cout<< \"Warnig More than one signal\""
   ]
  },
  {
   "cell_type": "code",
   "execution_count": 30,
   "metadata": {},
   "outputs": [],
   "source": [
    "//temp[\"STMT_LeadingMuon_MET\"]"
   ]
  },
  {
   "cell_type": "code",
   "execution_count": 31,
   "metadata": {},
   "outputs": [],
   "source": [
    "CutFlow[cutapplied]=temp;"
   ]
  },
  {
   "cell_type": "code",
   "execution_count": 32,
   "metadata": {},
   "outputs": [
    {
     "name": "stderr",
     "output_type": "stream",
     "text": [
      "Warning in <TH1F::Sumw2>: Sum of squares of weights structure already created\n"
     ]
    }
   ],
   "source": [
    "Significance Plotter1_Sig(SignalTH1D.at(0),BackgroundPlotter1);\n",
    "TH1D * Plotter1_SigLT=Plotter1_Sig.GetSigLessThan();"
   ]
  },
  {
   "cell_type": "code",
   "execution_count": 33,
   "metadata": {},
   "outputs": [
    {
     "data": {
      "image/png": "[encoded data removed]",
      "text/plain": [
       "<IPython.core.display.Image object>"
      ]
     },
     "metadata": {},
     "output_type": "display_data"
    }
   ],
   "source": [
    "Plotter1_SigLT->Draw(\"E1\");\n",
    "Plotter1_SigLT->SetTitle(\"\");\n",
    "Plotter1_SigLT->GetXaxis()->SetTitle(Var1.second.c_str());\n",
    "Plotter1_SigLT->GetYaxis()->SetTitle(\"Z=S/#sqrt{S+B}\");\n",
    "c.Draw();"
   ]
  },
  {
   "cell_type": "code",
   "execution_count": 34,
   "metadata": {},
   "outputs": [],
   "source": [
    "PlotPathName = PlotPath + \"/\" + PlotName + \"_SigLT.pdf\";\n",
    "if (SaveFiles) c.SaveAs(PlotPathName.c_str(),\"pdf\");"
   ]
  },
  {
   "cell_type": "markdown",
   "metadata": {},
   "source": [
    "### Significance More Than"
   ]
  },
  {
   "cell_type": "code",
   "execution_count": 35,
   "metadata": {},
   "outputs": [],
   "source": [
    "auto Plotter1_SigMT=Plotter1_Sig.GetSigMoreThan();"
   ]
  },
  {
   "cell_type": "code",
   "execution_count": 36,
   "metadata": {},
   "outputs": [
    {
     "data": {
      "image/png": "[encoded data removed]",
      "text/plain": [
       "<IPython.core.display.Image object>"
      ]
     },
     "metadata": {},
     "output_type": "display_data"
    }
   ],
   "source": [
    "Plotter1_SigMT->Draw(\"E1\");\n",
    "//Plotter1_SigMT->Draw(\"text,same\");\n",
    "Plotter1_SigMT->SetTitle(\"\");\n",
    "Plotter1_SigMT->GetXaxis()->SetTitle(Var1.second.c_str());\n",
    "Plotter1_SigMT->GetYaxis()->SetTitle(\"Z=S/#sqrt{S+B}\");\n",
    "c.Draw();"
   ]
  },
  {
   "cell_type": "code",
   "execution_count": 37,
   "metadata": {},
   "outputs": [],
   "source": [
    "PlotPathName = PlotPath + \"/\" + PlotName + \"_SigMT.pdf\";\n",
    "if (SaveFiles) c.SaveAs(PlotPathName.c_str(),\"pdf\");"
   ]
  },
  {
   "cell_type": "markdown",
   "metadata": {},
   "source": [
    "### General Significance"
   ]
  },
  {
   "cell_type": "code",
   "execution_count": 38,
   "metadata": {},
   "outputs": [],
   "source": [
    "auto GeneralSigPlotter1 = Plotter1_Sig.GetSignificance();\n",
    "std::string YaxisTitle = \"Cut > \" + Var1.second;\n",
    "std::string XaxisTitle = \"Cut < \" + Var1.second;"
   ]
  },
  {
   "cell_type": "code",
   "execution_count": 39,
   "metadata": {},
   "outputs": [
    {
     "data": {
      "image/png": "[encoded data removed]",
      "text/plain": [
       "<IPython.core.display.Image object>"
      ]
     },
     "metadata": {},
     "output_type": "display_data"
    }
   ],
   "source": [
    "GeneralSigPlotter1->Draw(\"COLZ1\");\n",
    "//GeneralSigPlotter1->Draw(\"text, same\");\n",
    "GeneralSigPlotter1->SetTitle(\"\");\n",
    "GeneralSigPlotter1->GetYaxis()->SetTitle(YaxisTitle.c_str());\n",
    "GeneralSigPlotter1->GetXaxis()->SetTitle(XaxisTitle.c_str());\n",
    "//TLatex t(3,10,\"#xrightarrow{Less Than Cut}\");\n",
    "//t.Draw();\n",
    "//gStyle->SetPalette(87);\n",
    "c.Draw();"
   ]
  },
  {
   "cell_type": "code",
   "execution_count": 40,
   "metadata": {},
   "outputs": [],
   "source": [
    "PlotPathName = PlotPath + \"/\" + PlotName + \"_SigGeneral.pdf\";\n",
    "if (SaveFiles) c.SaveAs(PlotPathName.c_str(),\"pdf\");"
   ]
  },
  {
   "cell_type": "markdown",
   "metadata": {},
   "source": [
    "## efficency plots"
   ]
  },
  {
   "cell_type": "markdown",
   "metadata": {},
   "source": [
    "### Less than efficency"
   ]
  },
  {
   "cell_type": "code",
   "execution_count": 41,
   "metadata": {},
   "outputs": [],
   "source": [
    "//Get The efficency plots\n",
    "std::vector<TH1D *> Plotter1_EffLT = Plotter1_Sig.GetEffLessThan();"
   ]
  },
  {
   "cell_type": "code",
   "execution_count": 42,
   "metadata": {},
   "outputs": [
    {
     "data": {
      "image/png": "[encoded data removed]",
      "text/plain": [
       "<IPython.core.display.Image object>"
      ]
     },
     "metadata": {},
     "output_type": "display_data"
    }
   ],
   "source": [
    "//Plotter1_EffLT[0]->SetFillStyle(4050);\n",
    "Plotter1_EffLT[0]->SetFillColor(0);\n",
    "Plotter1_EffLT[0]->Draw(\"E\");\n",
    "Plotter1_EffLT[0]->SetTitle(\"\");\n",
    "Plotter1_EffLT[0]->GetXaxis()->SetTitle(Var1.second.c_str());\n",
    "Plotter1_EffLT[0]->GetYaxis()->SetTitle(\"Efficiency less-than\");\n",
    "Plotter1_hplots[Var1.first].second->Draw(); //Legend object\n",
    "//Plotter1_EffLT[1]->SetFillStyle(4050);\n",
    "Plotter1_EffLT[1]->SetFillColor(0);\n",
    "Plotter1_EffLT[1]->Draw(\"same E\");\n",
    "//Plotter1_EffLT[2]->SetFillStyle(4050);\n",
    "Plotter1_EffLT[2]->SetFillColor(0);\n",
    "Plotter1_EffLT[2]->Draw(\"same E\");\n",
    "//Plotter1_EffLT[3]->SetFillStyle(4050);\n",
    "Plotter1_EffLT[3]->SetFillColor(0);\n",
    "Plotter1_EffLT[3]->Draw(\"same E\");\n",
    "//Plotter1_EffLT[4]->SetFillStyle(4050);\n",
    "Plotter1_EffLT[4]->SetFillColor(0);\n",
    "Plotter1_EffLT[4]->Draw(\"same E\");\n",
    "c.Draw();"
   ]
  },
  {
   "cell_type": "code",
   "execution_count": 43,
   "metadata": {},
   "outputs": [],
   "source": [
    "PlotPathName = PlotPath + \"/\" + PlotName + \"LTEff.pdf\";\n",
    "if (SaveFiles) c.SaveAs(PlotPathName.c_str(),\"pdf\");"
   ]
  },
  {
   "cell_type": "markdown",
   "metadata": {},
   "source": [
    "### Efficiency More Than"
   ]
  },
  {
   "cell_type": "code",
   "execution_count": 44,
   "metadata": {},
   "outputs": [],
   "source": [
    "//Get The efficency plots\n",
    "std::vector<TH1D *> Plotter1_EffMT = Plotter1_Sig.GetEffMoreThan();"
   ]
  },
  {
   "cell_type": "code",
   "execution_count": 45,
   "metadata": {},
   "outputs": [
    {
     "data": {
      "image/png": "[encoded data removed]",
      "text/plain": [
       "<IPython.core.display.Image object>"
      ]
     },
     "metadata": {},
     "output_type": "display_data"
    }
   ],
   "source": [
    "//Plotter1_EffMT[0]->SetFillStyle(4050);\n",
    "Plotter1_EffMT[0]->SetFillColor(0);\n",
    "Plotter1_EffMT[0]->Draw(\"E\");\n",
    "Plotter1_EffMT[0]->SetTitle(\"\");\n",
    "Plotter1_EffMT[0]->GetXaxis()->SetTitle(Var1.second.c_str());\n",
    "Plotter1_EffMT[0]->GetYaxis()->SetTitle(\"Efficiency greater-than\");\n",
    "Plotter1_hplots[Var1.first].second->Draw(); //Legend object\n",
    "//Plotter1_EffMT[1]->SetFillStyle(4050);\n",
    "Plotter1_EffMT[1]->SetFillColor(0);\n",
    "Plotter1_EffMT[1]->Draw(\"same E\");\n",
    "//Plotter1_EffMT[2]->SetFillStyle(4050);\n",
    "Plotter1_EffMT[2]->SetFillColor(0);\n",
    "Plotter1_EffMT[2]->Draw(\"same E\");\n",
    "//Plotter1_EffMT[3]->SetFillStyle(4050);\n",
    "Plotter1_EffMT[3]->SetFillColor(0);\n",
    "Plotter1_EffMT[3]->Draw(\"same E\");\n",
    "//Plotter1_EffMT[4]->SetFillStyle(4050);\n",
    "Plotter1_EffMT[4]->SetFillColor(0);\n",
    "Plotter1_EffMT[4]->Draw(\"same E\");\n",
    "c.Draw();"
   ]
  },
  {
   "cell_type": "code",
   "execution_count": 46,
   "metadata": {},
   "outputs": [],
   "source": [
    "PlotPathName = PlotPath + \"/\" + PlotName + \"MTEff.pdf\";\n",
    "if (SaveFiles) c.SaveAs(PlotPathName.c_str(),\"pdf\");"
   ]
  },
  {
   "cell_type": "code",
   "execution_count": 47,
   "metadata": {},
   "outputs": [],
   "source": [
    "//CutFlow"
   ]
  },
  {
   "cell_type": "code",
   "execution_count": 48,
   "metadata": {},
   "outputs": [],
   "source": [
    "// Create a map iterator and point to beginning of map\n",
    "std::string DataFileName = PlotPath + \"/\" + PlotName +\"_Cutflow.dat\";\n",
    "// Iterate over the map using Iterator till end.\n",
    "std::map<std::string, std::map<std::string, Double_t> >::iterator it = CutFlow.begin();"
   ]
  },
  {
   "cell_type": "code",
   "execution_count": 49,
   "metadata": {},
   "outputs": [
    {
     "name": "stdout",
     "output_type": "stream",
     "text": [
      "-------------------------------\n",
      "@AnaMuons.size()==2&&@BJets.size()==0&&IMass>0&&(IMass<60||IMass>120)&&TheMuon[0].Pt()<25&&AnaMET.Pt()>270&&TheMuon[1].Pt()>10\n",
      "-------------------------------\n",
      "        Drell Yan@AnaJets.size() ...... 34\n",
      "        Signal@AnaJets.size() ...... 70\n",
      "        Single Top@AnaJets.size() ...... 70\n",
      "        W + Jets@AnaJets.size() ...... 289\n",
      "        t#bar{t}@AnaJets.size() ...... 483\n"
     ]
    }
   ],
   "source": [
    "//if (SaveFiles) ofstream myfile (FileName.c_str());\n",
    "while (it != CutFlow.end())\n",
    "{\n",
    "    // Accessing KEY from element pointed by it.\n",
    "    std::string Cut = it->first;\n",
    "    std::cout<< \"-------------------------------\" <<std::endl;\n",
    "    std::cout <<Cut <<std::endl;\n",
    "    std::cout<< \"-------------------------------\" <<std::endl;\n",
    "    //File\n",
    "    /*if (SaveFiles) myfile<< \"-------------------------------\" <<std::endl;\n",
    "    if (SaveFiles) myfile<< \"-----------\" <<Cut << \"----------------\" <<std::endl;\n",
    "    if (SaveFiles) myfile<< \"-------------------------------\" <<std::endl;\n",
    "    */\n",
    "    \n",
    "\n",
    "    // Accessing VALUE from element pointed by it.\n",
    "    std::map<std::string, Double_t> map2 = it->second;\n",
    "    \n",
    "    // Create a map iterator and point to beginning of map\n",
    "    std::map<std::string, Double_t>::iterator other = map2.begin();\n",
    "    while (other != map2.end())\n",
    "    {\n",
    "        // Accessing KEY from element pointed by other.\n",
    "        std::string sig = other->first;\n",
    "        // Accessing VALUE from element pointed by it.\n",
    "        int count = other->second;\n",
    "        std::cout << \"        \" <<other->first << \" ...... \" << count <<std::endl;\n",
    "      //  if (SaveFiles) myfile << \"        \" <<other->first << \" ...... \" << count <<std::endl;\n",
    "        // Increment the Iterator to point to next entry\n",
    "        other++;\n",
    "            \n",
    "    }\n",
    "    // Increment the Iterator to point to next entry\n",
    "    it++;\n",
    "}\n",
    "//if (SaveFiles) myfile.close();"
   ]
  },
  {
   "cell_type": "markdown",
   "metadata": {},
   "source": [
    "-------------------------------\n",
    "@AnaMuons.size()==2&&@BJets.size()==0\n",
    "-------------------------------\n",
    "        Drell YanTheMuon[0].Pt() ...... 3580\n",
    "        SignalTheMuon[0].Pt() ...... 444\n",
    "        Single TopTheMuon[0].Pt() ...... 5077\n",
    "        W + JetsTheMuon[0].Pt() ...... 394749\n",
    "        t#bar{t}TheMuon[0].Pt() ...... 56675"
   ]
  },
  {
   "cell_type": "code",
   "execution_count": null,
   "metadata": {},
   "outputs": [],
   "source": []
  }
 ],
 "metadata": {
  "kernelspec": {
   "display_name": "ROOT C++",
   "language": "c++",
   "name": "root"
  },
  "language_info": {
   "codemirror_mode": "text/x-c++src",
   "file_extension": ".C",
   "mimetype": " text/x-c++src",
   "name": "c++"
  }
 },
 "nbformat": 4,
 "nbformat_minor": 2
}
