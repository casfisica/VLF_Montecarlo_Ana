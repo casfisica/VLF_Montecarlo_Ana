{
 "cells": [
  {
   "cell_type": "code",
   "execution_count": 1,
   "metadata": {},
   "outputs": [],
   "source": [
    "#include \"Math/GenVector/PxPyPzE4D.h\"\n",
    "#include \"Math/GenVector/DisplacementVector3D.h\"\n",
    "#include \"Math/GenVector/GenVectorIO.h\"\n",
    "#include \"Math/GenVector/LorentzVector.h\""
   ]
  },
  {
   "cell_type": "code",
   "execution_count": 2,
   "metadata": {},
   "outputs": [],
   "source": [
    "typedef ROOT::Math::LorentzVector<ROOT::Math::PxPyPzE4D<double> > XYZTLorentzVectorD;\n",
    "typedef XYZTLorentzVectorD XYZTLorentzVector;"
   ]
  },
  {
   "cell_type": "code",
   "execution_count": 3,
   "metadata": {},
   "outputs": [],
   "source": [
    "Double_t DeltaPhi(XYZTLorentzVector a,XYZTLorentzVector b){\n",
    "    Double_t deltaphi = (a.Phi()-b.Phi());\n",
    "    if (deltaphi >= 3.14159265) deltaphi -= 2*3.14159265;\n",
    "    if (deltaphi < -3.14159265) deltaphi += 2*3.14159265;\n",
    "    return deltaphi;\n",
    "}"
   ]
  },
  {
   "cell_type": "code",
   "execution_count": 4,
   "metadata": {},
   "outputs": [],
   "source": [
    "std::string FilePath = \"/home/camilo/cms/VLF_Montecarlo_Ana/Data/\";\n",
    "//std::string FileName = \"Signal.root\";\n",
    "//std::string FileName = \"DYJetsToLL_HT/DYJetsToLL_M-50_ext1-v2.root\";\n",
    "//std::string FileName = \"DYJetsToLL_HT/DYJetsToLL_M-50_ext2.root\";\n",
    "\n",
    "//std::string FileName = \"ST/ST_t-channel_top_4f_inclusiveDecays.root\";\n",
    "//std::string FileName = \"ST/ST_s-channel_4f_leptonDecays.root\";\n",
    "//std::string FileName = \"ST/ST_t-channel_antitop_4f_inclusiveDecays.root\";\n",
    "//std::string FileName = \"ST/ST_tW_antitop_5f_inclusiveDecays.root\";\n",
    "//std::string FileName = \"ST/ST_tW_top_5f_inclusiveDecays.root\";\n",
    "\n",
    "std::string FileName = \"TTToLL_MLL/TT_TuneCUETP8M2T4.root\";\n",
    "\n",
    "//std::string FileName = \"WJets_HT/WJetsToLNu_HT-70To100.root\";\n",
    "//std::string FileName = \"WJets_HT/WJetsToLNu_HT-100To200.root\";\n",
    "//std::string FileName = \"WJets_HT/WJetsToLNu_HT-200To400.root\";\n",
    "//std::string FileName = \"WJets_HT/WJetsToLNu_HT-400To600.root\";\n",
    "//std::string FileName = \"WJets_HT/WJetsToLNu_HT-600To800.root\";\n",
    "//std::string FileName = \"WJets_HT/WJetsToLNu_HT-800To1200.root\";\n",
    "//std::string FileName = \"WJets_HT/WJetsToLNu_HT-1200To2500.root\";\n",
    "//std::string FileName = \"WJets_HT/WJetsToLNu_HT-2500ToInf.root\";\n",
    "\n",
    "std::string File = FilePath+FileName;\n",
    "std::string PathTree = \"demo/VLFTree\";"
   ]
  },
  {
   "cell_type": "code",
   "execution_count": 5,
   "metadata": {},
   "outputs": [],
   "source": [
    "TFile *f = new TFile(File.c_str(),\"update\"); //Open File\n",
    "TTree *Tree = (TTree*)f->Get(PathTree.c_str()); //Get the Tree\n",
    "int nevent = Tree->GetEntries();\n",
    "//Int_t count = 0;"
   ]
  },
  {
   "cell_type": "code",
   "execution_count": 6,
   "metadata": {},
   "outputs": [],
   "source": [
    "std::vector<XYZTLorentzVector> *AllMuons = new std::vector<XYZTLorentzVector>();\n",
    "Tree->SetBranchAddress(\"AllMuons\", &AllMuons);\n",
    "XYZTLorentzVector * MET = new XYZTLorentzVector();\n",
    "Tree->SetBranchAddress(\"AnaMET\", &MET);\n",
    "std::vector <bool> *Muon_Medium;\n",
    "Tree->SetBranchAddress(\"AllMuonMediumID\", &Muon_Medium);\n",
    "std::vector <double> *Combined_Iso;\n",
    "Tree->SetBranchAddress(\"AllCombined_iso_DeltaBetaPU\", &Combined_Iso);"
   ]
  },
  {
   "cell_type": "code",
   "execution_count": 7,
   "metadata": {},
   "outputs": [],
   "source": [
    "//NEW Branches\n",
    "XYZTLorentzVector  TheMuon;\n",
    "TBranch *TheMuonB = Tree->Branch(\"TheMuon\",&TheMuon); \n",
    "int Mupos = 100;\n",
    "TBranch *TheMuonPossB = Tree->Branch(\"MuPoss\",&Mupos); \n",
    "double MT_TheMuon_MET;\n",
    "TBranch *MT_TheMuon_METB = Tree->Branch(\"MT_TheMuon_MET\",&MT_TheMuon_MET); "
   ]
  },
  {
   "cell_type": "code",
   "execution_count": 8,
   "metadata": {},
   "outputs": [],
   "source": [
    "int countAll, countPass, countX2;"
   ]
  },
  {
   "cell_type": "code",
   "execution_count": 9,
   "metadata": {},
   "outputs": [
    {
     "name": "stdout",
     "output_type": "stream",
     "text": [
      "countAll = 720628\n",
      "countPass = 732562\n",
      "countX2 = 11934\n",
      "Diff(countAll,countPass) = 11934\n"
     ]
    }
   ],
   "source": [
    "countAll=0, countPass=0, countX2=0;\n",
    "for (int i = 0 ; i < nevent ; i++ ) {\n",
    "    Tree->GetEvent(i);              //read complete accepted event in memory\n",
    "    //std::cout<<i<<\" = \"<<AnaMuons->at(0).Pt()<<std::endl;\n",
    "    //std::cout<<AllMuons->size()<<std::endl;\n",
    "    countAll++;\n",
    "    Double_t tempMT = -1000.0;\n",
    "    //XYZTLorentzVector  TheMuon;\n",
    "    int nmuons = AllMuons->size();\n",
    "    int countX2Temp=0;\n",
    "    //int Mupos= 100;//Possition in the vector\n",
    "    for (int a = 0 ; a <nmuons; a++ ) {\n",
    "        //std::cout<<i<<\",\"<<a<<\" = \"<<AllMuons->at(a).Pt()<<std::endl;\n",
    "        if (AllMuons->at(a).pt()>3.0 && AllMuons->at(a).pt() < 60.0){\n",
    "            if (Muon_Medium->at(a)){\n",
    "                if(Combined_Iso->at(a)<0.15){//0.15\n",
    "                    Double_t MT_LeadingMuon_MET = sqrt(2*AllMuons->at(a).Pt()*MET->Pt()*(1-cos(DeltaPhi(AllMuons->at(a),*MET))));\n",
    "                    //std::cout<< MT_LeadingMuon_MET <<std::endl;\n",
    "                    //std::cout<< \"Pass All  \" ;\n",
    "                    countX2Temp++;\n",
    "                    if ( MT_LeadingMuon_MET > tempMT){\n",
    "                        //TheMuon = AllMuons->at(a);\n",
    "                        //std::cout<<i<<\",\"<<a<<\" = \"<<AllMuons->at(a).Pt()<<std::endl;\n",
    "                        TheMuon.SetPxPyPzE(AllMuons->at(a).px(), AllMuons->at(a).py(), AllMuons->at(a).pz(), AllMuons->at(a).energy());\n",
    "                        tempMT = MT_LeadingMuon_MET;\n",
    "                        countPass++;\n",
    "                        Mupos = a;\n",
    "                        MT_TheMuon_MET = MT_LeadingMuon_MET;\n",
    "                        if (countX2Temp == 2 )countX2++;\n",
    "                        if (countX2Temp > 2 )std::cout<<i<<\": ERROR: More than the definition\"<<std::endl;\n",
    "                    }\n",
    "                }//End if ISO\n",
    "            }//End if ID\n",
    "        }//End if pT\n",
    "    }\n",
    "    TheMuonB->Fill();\n",
    "    TheMuonPossB->Fill();\n",
    "    MT_TheMuon_METB->Fill();\n",
    "\n",
    "    //std::cout<< \"The Muon MT = \" << tempMT<<std::endl;\n",
    "    //std::cout<< \"The Muon = \" << TheMuon.Pt() <<std::endl;\n",
    "    \n",
    "}\n",
    "std::cout<< \"countAll = \" << countAll <<std::endl;\n",
    "std::cout<< \"countPass = \" << countPass <<std::endl;\n",
    "std::cout<< \"countX2 = \" << countX2 <<std::endl;\n",
    "std::cout<< \"Diff(countAll,countPass) = \" << -countAll+countPass <<std::endl;\n",
    "Tree->Write(); \n"
   ]
  },
  {
   "cell_type": "code",
   "execution_count": 10,
   "metadata": {},
   "outputs": [],
   "source": [
    "f->Close();"
   ]
  },
  {
   "cell_type": "code",
   "execution_count": null,
   "metadata": {},
   "outputs": [],
   "source": []
  }
 ],
 "metadata": {
  "kernelspec": {
   "display_name": "ROOT C++",
   "language": "c++",
   "name": "root"
  },
  "language_info": {
   "codemirror_mode": "text/x-c++src",
   "file_extension": ".C",
   "mimetype": " text/x-c++src",
   "name": "c++"
  }
 },
 "nbformat": 4,
 "nbformat_minor": 2
}
