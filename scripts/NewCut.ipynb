{
 "cells": [
  {
   "cell_type": "code",
   "execution_count": 1,
   "metadata": {},
   "outputs": [],
   "source": [
    "#include \"Math/GenVector/PxPyPzE4D.h\"\n",
    "#include \"Math/GenVector/DisplacementVector3D.h\"\n",
    "#include \"Math/GenVector/GenVectorIO.h\"\n",
    "#include \"Math/GenVector/LorentzVector.h\"\n",
    "#include \"TFile.h\"\n",
    "#include \"TTree.h\""
   ]
  },
  {
   "cell_type": "code",
   "execution_count": 2,
   "metadata": {},
   "outputs": [],
   "source": [
    "typedef ROOT::Math::LorentzVector<ROOT::Math::PxPyPzE4D<double> > XYZTLorentzVectorD;\n",
    "typedef XYZTLorentzVectorD XYZTLorentzVector;"
   ]
  },
  {
   "cell_type": "code",
   "execution_count": 3,
   "metadata": {},
   "outputs": [],
   "source": [
    "Double_t DeltaPhi(XYZTLorentzVector a,XYZTLorentzVector b){\n",
    "    Double_t deltaphi = (a.Phi()-b.Phi());\n",
    "    if (deltaphi >= 3.14159265) deltaphi -= 2*3.14159265;\n",
    "    if (deltaphi < -3.14159265) deltaphi += 2*3.14159265;\n",
    "    return deltaphi;\n",
    "}"
   ]
  },
  {
   "cell_type": "code",
   "execution_count": 4,
   "metadata": {},
   "outputs": [],
   "source": [
    "std::string FilePath = \"/home/camilo/cms/VLF_Montecarlo_Ana/Data/\";\n",
    "\n",
    "//std::string FileName = \"Signal.root\";\n",
    "\n",
    "//std::string FileName = \"DYJetsToLL_HT/DYJetsToLL_HT.root\";\n",
    "\n",
    "//std::string FileName = \"ST/ST_t-channel_top_4f_inclusiveDecays.root\";\n",
    "//std::string FileName = \"ST/ST_s-channel_4f_leptonDecays.root\";\n",
    "//std::string FileName = \"ST/ST_t-channel_antitop_4f_inclusiveDecays.root\";\n",
    "//std::string FileName = \"ST/ST_tW_antitop_5f_inclusiveDecays.root\";\n",
    "//std::string FileName = \"ST/ST_tW_top_5f_inclusiveDecays.root\";\n",
    "\n",
    "//std::string FileName = \"TTToLL_MLL/TT_TuneCUETP8M2T4.root\";\n",
    "\n",
    "//std::string FileName = \"WJets_HT/WJetsToLNu_HT-70To100.root\";\n",
    "//std::string FileName = \"WJets_HT/WJetsToLNu_HT-100To200.root\";\n",
    "//std::string FileName = \"WJets_HT/WJetsToLNu_HT-200To400.root\";\n",
    "//std::string FileName = \"WJets_HT/WJetsToLNu_HT-400To600.root\";\n",
    "//std::string FileName = \"WJets_HT/WJetsToLNu_HT-600To800.root\";\n",
    "//std::string FileName = \"WJets_HT/WJetsToLNu_HT-800To1200.root\";\n",
    "//std::string FileName = \"WJets_HT/WJetsToLNu_HT-1200To2500.root\";\n",
    "std::string FileName = \"WJets_HT/WJetsToLNu_HT-2500ToInf.root\";\n",
    "\n",
    "std::string File = FilePath+FileName;\n",
    "std::string PathTree = \"demo/VLFTree\";"
   ]
  },
  {
   "cell_type": "code",
   "execution_count": 5,
   "metadata": {},
   "outputs": [],
   "source": [
    "TFile *f = new TFile(File.c_str(),\"update\"); //Open File\n",
    "TTree *Tree = (TTree*)f->Get(PathTree.c_str()); //Get the Tree\n",
    "int nevent = Tree->GetEntries();\n",
    "//Int_t count = 0;"
   ]
  },
  {
   "cell_type": "code",
   "execution_count": 6,
   "metadata": {},
   "outputs": [],
   "source": [
    "std::vector<XYZTLorentzVector> *AnaMuons = new std::vector<XYZTLorentzVector>();\n",
    "Tree->SetBranchAddress(\"AnaMuons\", &AnaMuons);\n",
    "XYZTLorentzVector * MET = new XYZTLorentzVector();\n",
    "Tree->SetBranchAddress(\"AnaMET\", &MET);\n",
    "vector<double> *Charge;\n",
    "Tree->SetBranchAddress(\"AnaMuon_charge\", &Charge);\n",
    "//std::vector <bool> *Muon_Medium;\n",
    "//Tree->SetBranchAddress(\"AllMuonMediumID\", &Muon_Medium);\n",
    "//std::vector <double> *Combined_Iso;\n",
    "//Tree->SetBranchAddress(\"AllCombined_iso_DeltaBetaPU\", &Combined_Iso);"
   ]
  },
  {
   "cell_type": "code",
   "execution_count": 7,
   "metadata": {},
   "outputs": [],
   "source": [
    "Bool_t debug = kFALSE;\n",
    "//debug = kTRUE;"
   ]
  },
  {
   "cell_type": "code",
   "execution_count": 8,
   "metadata": {},
   "outputs": [],
   "source": [
    "//NEW Branches\n",
    "std::vector<XYZTLorentzVector> *TheMuon = new std::vector<XYZTLorentzVector>();\n",
    "TBranch *TheMuonB = Tree->Branch(\"TheMuon\",&TheMuon); \n",
    "std::vector<Double_t> MT_TheMuon_MET;\n",
    "TBranch *MT_TheMuon_METB = Tree->Branch(\"MT_TheMuon_MET\",&MT_TheMuon_MET); \n",
    "Double_t IMass;\n",
    "TBranch *IMassB = Tree->Branch(\"IMass\",&IMass); "
   ]
  },
  {
   "cell_type": "code",
   "execution_count": 9,
   "metadata": {},
   "outputs": [],
   "source": [
    "//TBranch *TheMuonB = Tree->Branch(\"TheMuon\",&TheMuon); "
   ]
  },
  {
   "cell_type": "code",
   "execution_count": 10,
   "metadata": {},
   "outputs": [],
   "source": [
    "if(debug) nevent = 1000;\n",
    "for (int i = 0 ; i < nevent ; i++ ) {\n",
    "    if(debug)std::cout<<\"Event: \"<< i <<std::endl;\n",
    "    XYZTLorentzVector  TheMuon1;\n",
    "    Tree->GetEvent(i); \n",
    "    if(AnaMuons->size()==2){\n",
    "        Double_t MT_LeadingMuon_MET1 = sqrt(2*AnaMuons->at(0).Pt()*MET->Pt()*(1-cos(DeltaPhi(AnaMuons->at(0),*MET))));\n",
    "        Double_t MT_LeadingMuon_MET2 = sqrt(2*AnaMuons->at(1).Pt()*MET->Pt()*(1-cos(DeltaPhi(AnaMuons->at(1),*MET))));\n",
    "        \n",
    "        if ( MT_LeadingMuon_MET1 >= MT_LeadingMuon_MET2){\n",
    "            \n",
    "            TheMuon1.SetPxPyPzE(AnaMuons->at(0).px(), AnaMuons->at(0).py(), AnaMuons->at(0).pz(), AnaMuons->at(0).energy());\n",
    "            MT_TheMuon_MET.push_back(MT_LeadingMuon_MET1);\n",
    "            TheMuon->push_back(TheMuon1);\n",
    "            TheMuon1.SetPxPyPzE(AnaMuons->at(1).px(), AnaMuons->at(1).py(), AnaMuons->at(1).pz(), AnaMuons->at(1).energy());\n",
    "            MT_TheMuon_MET.push_back(MT_LeadingMuon_MET2);\n",
    "            TheMuon->push_back(TheMuon1);\n",
    "            \n",
    "            if(debug){\n",
    "                std::cout<< \"Mayor1 p_T: \" <<TheMuon->at(0).pt() <<std::endl;\n",
    "                std::cout<< \"Menor2 p_T: \" <<TheMuon->at(1).pt() <<std::endl;\n",
    "                std::cout<< \"Mayor1 m_T: \" <<MT_TheMuon_MET.at(0) <<std::endl;\n",
    "                std::cout<< \"Menor2 m_T: \" <<MT_TheMuon_MET.at(1) <<std::endl;\n",
    "            }\n",
    "        }\n",
    "        \n",
    "      \n",
    "        \n",
    "        if ( MT_LeadingMuon_MET1 < MT_LeadingMuon_MET2){\n",
    "            //XYZTLorentzVector  TheMuon1;\n",
    "            TheMuon1.SetPxPyPzE(AnaMuons->at(1).px(), AnaMuons->at(1).py(), AnaMuons->at(1).pz(), AnaMuons->at(1).energy());\n",
    "            MT_TheMuon_MET.push_back(MT_LeadingMuon_MET2);\n",
    "            TheMuon->push_back(TheMuon1);\n",
    "            TheMuon1.SetPxPyPzE(AnaMuons->at(0).px(), AnaMuons->at(0).py(), AnaMuons->at(0).pz(), AnaMuons->at(0).energy());\n",
    "            MT_TheMuon_MET.push_back(MT_LeadingMuon_MET1);\n",
    "            TheMuon->push_back(TheMuon1);\n",
    "            if(debug){\n",
    "                std::cout<< \"Mayor2 p_T: \" <<TheMuon->at(0).pt() <<std::endl;\n",
    "                std::cout<< \"Menor1 p_T: \" <<TheMuon->at(1).pt() <<std::endl;\n",
    "                std::cout<< \"Mayor2 m_T: \" <<MT_TheMuon_MET.at(0) <<std::endl;\n",
    "                std::cout<< \"Menor1 m_T: \" <<MT_TheMuon_MET.at(1) <<std::endl;\n",
    "        \n",
    "            }\n",
    "        }\n",
    "        \n",
    "        //Invariant Mass\n",
    "        if(debug) std::cout<< \"Charges: \"<< Charge->at(0)<< \", \"<< Charge->at(1) <<std::endl;\n",
    "        if((Int_t)Charge->at(0)*(Int_t)Charge->at(1) < 0 ){\n",
    "            IMass = (AnaMuons->at(0)+AnaMuons->at(1)).M();\n",
    "            if(debug) std::cout<< \"Invariant Mass Two Muons: \"<< IMass <<std::endl;\n",
    "        }else if(debug) std::cout<< \"Same charge-IMass: \"<< IMass <<std::endl;\n",
    "        \n",
    "        \n",
    "    }else if(AnaMuons->size()==1){\n",
    "        Double_t MT_LeadingMuon_MET1 = sqrt(2*AnaMuons->at(0).Pt()*MET->Pt()*(1-cos(DeltaPhi(AnaMuons->at(0),*MET))));\n",
    "\n",
    "        //XYZTLorentzVector  TheMuon1;\n",
    "        TheMuon1.SetPxPyPzE(AnaMuons->at(0).px(), AnaMuons->at(0).py(), AnaMuons->at(0).pz(), AnaMuons->at(0).energy());\n",
    "            MT_TheMuon_MET.push_back(MT_LeadingMuon_MET1);\n",
    "            TheMuon->push_back(TheMuon1);\n",
    "            if(debug){\n",
    "                std::cout<< \"Only Muon p_T: \" <<TheMuon->at(0).pt() <<std::endl;\n",
    "                std::cout<< \"Only Muon m_T: \" <<MT_TheMuon_MET.at(0) <<std::endl;\n",
    "            }\n",
    "        //Invariant Mass\n",
    "        IMass = -1;\n",
    "        if(debug) std::cout<< \"Invariant Mass One Muon: \"<< IMass <<std::endl;\n",
    "        \n",
    "        \n",
    "    }else{\n",
    "        std::cout<< \"ERROR: Not allowed Muon number\" <<std::endl;\n",
    "        std::cout<< \"ERROR: Not allowed Muon number\" <<std::endl;\n",
    "        IMass=-1;\n",
    "    }\n",
    "        if(!debug)TheMuonB->Fill();\n",
    "        if(!debug)MT_TheMuon_METB->Fill();\n",
    "        if(!debug)IMassB->Fill();\n",
    "        IMass=0;\n",
    "        MT_TheMuon_MET.clear();\n",
    "        TheMuon->clear();\n",
    "}\n",
    "if(!debug)Tree->Write(); "
   ]
  },
  {
   "cell_type": "code",
   "execution_count": 11,
   "metadata": {},
   "outputs": [],
   "source": [
    "f->Close();"
   ]
  },
  {
   "cell_type": "code",
   "execution_count": null,
   "metadata": {},
   "outputs": [],
   "source": []
  }
 ],
 "metadata": {
  "kernelspec": {
   "display_name": "ROOT C++",
   "language": "c++",
   "name": "root"
  },
  "language_info": {
   "codemirror_mode": "text/x-c++src",
   "file_extension": ".C",
   "mimetype": " text/x-c++src",
   "name": "c++"
  }
 },
 "nbformat": 4,
 "nbformat_minor": 2
}
