{
 "cells": [
  {
   "cell_type": "code",
   "execution_count": 1,
   "metadata": {},
   "outputs": [],
   "source": [
    "#include \"Math/GenVector/PxPyPzE4D.h\"\n",
    "#include \"Math/GenVector/DisplacementVector3D.h\"\n",
    "#include \"Math/GenVector/GenVectorIO.h\"\n",
    "#include \"Math/GenVector/LorentzVector.h\""
   ]
  },
  {
   "cell_type": "code",
   "execution_count": 2,
   "metadata": {},
   "outputs": [],
   "source": [
    "typedef ROOT::Math::LorentzVector<ROOT::Math::PxPyPzE4D<double> > XYZTLorentzVectorD;\n",
    "typedef XYZTLorentzVectorD XYZTLorentzVector;"
   ]
  },
  {
   "cell_type": "code",
   "execution_count": 3,
   "metadata": {},
   "outputs": [],
   "source": [
    "Double_t DeltaPhi(XYZTLorentzVector a,XYZTLorentzVector b){\n",
    "    Double_t deltaphi = abs(a.Phi()-b.Phi());\n",
    "    return deltaphi;\n",
    "}"
   ]
  },
  {
   "cell_type": "code",
   "execution_count": 4,
   "metadata": {},
   "outputs": [],
   "source": [
    "std::string FilePath = \"/home/camilo/cms/VLF_Montecarlo_Ana/Data/\";\n",
    "std::string FileName = \"Signal.root\";\n",
    "std::string File = FilePath+FileName;"
   ]
  },
  {
   "cell_type": "code",
   "execution_count": 5,
   "metadata": {},
   "outputs": [],
   "source": [
    "TChain *chain = new TChain(\"demo/VLFTree\");\n",
    "chain->Add(File.c_str());\n",
    "int nevent = chain->GetEntries();\n",
    "//Int_t count = 0;"
   ]
  },
  {
   "cell_type": "code",
   "execution_count": 6,
   "metadata": {},
   "outputs": [],
   "source": [
    "std::vector<XYZTLorentzVector> *AllMuons = new std::vector<XYZTLorentzVector>();\n",
    "chain->SetBranchAddress(\"AllMuons\", &AllMuons);\n",
    "XYZTLorentzVector * MET = new XYZTLorentzVector();\n",
    "chain->SetBranchAddress(\"AnaMET\", &MET);"
   ]
  },
  {
   "cell_type": "code",
   "execution_count": 13,
   "metadata": {},
   "outputs": [],
   "source": [
    "for (int i = 0 ; i < nevent ; i++ ) {\n",
    "    chain->GetEvent(i);              //read complete accepted event in memory\n",
    "    //std::cout<<i<<\" = \"<<AnaMuons->at(0).Pt()<<std::endl;\n",
    "    //std::cout<<AllMuons->size()<<std::endl;\n",
    "    Double_t tempMT = 10000.0;\n",
    "    XYZTLorentzVector  TheMuon;\n",
    "    int nmuons = AllMuons->size();\n",
    "    for (int a = 0 ; a <nmuons; a++ ) {\n",
    "        //std::cout<<i<<\",\"<<a<<\" = \"<<AllMuons->at(a).Pt()<<std::endl;\n",
    "        Double_t MT_LeadingMuon_MET = sqrt(2*AllMuons->at(a).Pt()*MET->Pt()*(1-cos(DeltaPhi(AllMuons->at(a),*MET))));\n",
    "        //std::cout<< MT_LeadingMuon_MET <<std::endl;\n",
    "        if ( MT_LeadingMuon_MET < tempMT){\n",
    "            //TheMuon = AllMuons->at(a);\n",
    "            TheMuon.SetPxPyPzE(AllMuons->at(a).px(), AllMuons->at(a).py(), AllMuons->at(a).pz(), AllMuons->at(a).energy());\n",
    "            tempMT = MT_LeadingMuon_MET;\n",
    "        }\n",
    "    }\n",
    "    //std::cout<< \"The Muon MT = \" << tempMT<<std::endl;\n",
    "    //std::cout<< \"The Muon = \" << TheMuon.Pt() <<std::endl;\n",
    "    \n",
    "}"
   ]
  },
  {
   "cell_type": "code",
   "execution_count": null,
   "metadata": {},
   "outputs": [],
   "source": []
  }
 ],
 "metadata": {
  "kernelspec": {
   "display_name": "ROOT C++",
   "language": "c++",
   "name": "root"
  },
  "language_info": {
   "codemirror_mode": "text/x-c++src",
   "file_extension": ".C",
   "mimetype": " text/x-c++src",
   "name": "c++"
  }
 },
 "nbformat": 4,
 "nbformat_minor": 2
}
