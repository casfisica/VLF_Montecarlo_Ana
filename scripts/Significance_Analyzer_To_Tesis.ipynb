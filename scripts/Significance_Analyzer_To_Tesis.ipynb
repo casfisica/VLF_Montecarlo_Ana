{
 "cells": [
  {
   "cell_type": "code",
   "execution_count": null,
   "metadata": {},
   "outputs": [],
   "source": [
    "/*!!!!!!!!!!!!!!!!!!!!!!!!!!!!!!!!!!!!!!!!!!!!!!!!!!!!!!!!!!!!!!!!!!!!!!*/\n",
    "/*                                                                      */\n",
    "/*To use this script, first you have to sourse the LocalConfig.sh file. */\n",
    "/* i.e. source HEPTools/LocalConfigDelphes.sh                           */\n",
    "/*!!!!!!!!!!!!!!!!!!!!!!!!!!!!!!!!!!!!!!!!!!!!!!!!!!!!!!!!!!!!!!!!!!!!!!*/"
   ]
  },
  {
   "cell_type": "code",
   "execution_count": null,
   "metadata": {},
   "outputs": [],
   "source": [
    "#include <fstream>\n",
    "#include <cstdlib>\n",
    "#include <utility>\n",
    "#include \"TMath.h\"\n",
    "#include <ctime> \n",
    "#include \"Lib.C\""
   ]
  },
  {
   "cell_type": "code",
   "execution_count": null,
   "metadata": {},
   "outputs": [],
   "source": [
    "// Get current date/time, format is YYYY-MM-DD.HH:mm:ss\n",
    "const std::string currentDateTime() {\n",
    "    time_t     now = time(0);\n",
    "    struct tm  tstruct;\n",
    "    char       buf[80];\n",
    "    tstruct = *localtime(&now);\n",
    "    // Visit http://en.cppreference.com/w/cpp/chrono/c/strftime\n",
    "    // for more information about date/time format\n",
    "    strftime(buf, sizeof(buf), \"%Y %m %d.%X\", &tstruct);\n",
    "    //strftime(buf, sizeof(buf), \"%Y-%m-%d.%X\", &tstruct);\n",
    "    return buf;\n",
    "}"
   ]
  },
  {
   "cell_type": "code",
   "execution_count": null,
   "metadata": {},
   "outputs": [],
   "source": [
    "//Volverlo una clase con varios tipos de funciones\n",
    "TH1D * CutAndPlotTRee(TChain &chain, const char * Var, TCut Cut=\"\", TCut Weight=\"\", Int_t fNBins = -1, Double_t fXmin=std::numeric_limits<double>::quiet_NaN(), Double_t fXmax=std::numeric_limits<double>::quiet_NaN(),const char * name = \"Name\"){\n",
    "    const char * name1 = \"Name\";\n",
    "        \n",
    "    if(fNBins == -1 || fXmin==std::numeric_limits<double>::quiet_NaN()||fXmax==std::numeric_limits<double>::quiet_NaN()){\n",
    "        chain.Draw(Form(\"%s>>myh\", Var),Cut*Weight,\"goff\");//send the histogram to the obget myh\n",
    "\n",
    "    }else{\n",
    "        chain.Draw(Form(\"%s>>myh(%d,%f,%f)\", Var,fNBins, fXmin, fXmax),Cut*Weight,\"goff\");//send the histogram to the obget myh\n",
    "    }\n",
    "    \n",
    "    TH1D * h = (TH1D *)gROOT->FindObject(\"myh\");\n",
    "    TH1D * h1 = (TH1D *)h->Clone();\n",
    "    h1->SetName(Form(\"%s\", name));\n",
    "\n",
    "    return h1;\n",
    "}"
   ]
  },
  {
   "cell_type": "code",
   "execution_count": null,
   "metadata": {},
   "outputs": [],
   "source": [
    "/*Canvas Objet*/\n",
    "TCanvas c;\n",
    "gStyle->SetOptStat(0);"
   ]
  },
  {
   "cell_type": "code",
   "execution_count": null,
   "metadata": {},
   "outputs": [],
   "source": [
    "//gSystem->Load(\"/home/camilo/HEPTools/MADGRAPH/MG5_aMC_v2_5_5_Root6/ExRootAnalysis/libExRootAnalysis.so\");\n",
    "gSystem->Load(\"/home/camilo/HEPTools/MADGRAPH/MG5_aMC_v2_5_5_Root6/Delphes/libDelphes.so\");\n",
    "//If you run sourse DelphesEnv.sh\n",
    "//gSystem->Load(\"libDelphes.so\");"
   ]
  },
  {
   "cell_type": "code",
   "execution_count": null,
   "metadata": {},
   "outputs": [],
   "source": [
    "//gROOT->ProcessLine(\".x Lib.C\");"
   ]
  },
  {
   "cell_type": "code",
   "execution_count": null,
   "metadata": {},
   "outputs": [],
   "source": [
    "std::string dirname =\"/home/camilo/cms/Scripts_MadGraph_VLFTEO/Datos/WJets\";\n",
    "std::string ext = \".root\";\n",
    "list_files lista;\n",
    "auto v=lista.GetFileList(dirname.c_str(),ext.c_str());"
   ]
  },
  {
   "cell_type": "code",
   "execution_count": null,
   "metadata": {},
   "outputs": [],
   "source": [
    "TChain chain(\"Delphes\");\n",
    "TChain chain1(\"Delphes\");\n",
    "TChain chain2(\"Delphes\");\n",
    "TChain chain3(\"Delphes\");\n",
    "\n",
    "//W+jets\n",
    "for(std::vector<string>::iterator it = v.begin(); it != v.end(); ++it) {\n",
    "    //std::cout << it->c_str()<<std::endl;\n",
    "    chain1.Add(it->c_str());\n",
    "}\n",
    "\n",
    "chain2.Add(\"/home/camilo/cms/MC_VLF-Originales/SingleTop/*.root\");\n",
    "chain3.Add(\"/home/camilo/cms/MC_VLF-Originales/WZ/*.root\");\n",
    "chain.Add(\"/home/camilo/cms/MC_VLF-Originales/Signal_BR_Muon25_Tau75_BRFixed/Masses_100_98_Brs_2575_FixedBRs_delphes_events.root\");\n",
    "//chain.Add(\"/home/camilo/cms/MC_VLF-Originales/Signal_BR_Muon25_Tau75_BRFixed/Masses_100_85_Brs_2575_FixedBRs_delphes_events.root\");"
   ]
  },
  {
   "cell_type": "markdown",
   "metadata": {},
   "source": [
    "# -------------------------------------------------------------------\n",
    "# Variables\n"
   ]
  },
  {
   "cell_type": "markdown",
   "metadata": {},
   "source": [
    "__MHT__: Is the missing transverse momentum vector sum which is calculated from the Hadron Calorimeter deposited energy.\n",
    "\n",
    "__HT__: the transverse momentum scalar sum."
   ]
  },
  {
   "cell_type": "code",
   "execution_count": null,
   "metadata": {},
   "outputs": [],
   "source": [
    "/*Variables names \"std::pair <std::string,std::string> Variable (\"NameVariable\",\"Latex Labl #\");\" */\n",
    "\n",
    "//std::pair <std::string,std::string> Var1 (\"Muon[0].PT\",\"P_{T}(#mu)\");\n",
    "//std::pair <std::string,std::string> Var1 (\"Jet[0].PT\",\"p_{T}(Jet) [GeV]\");\n",
    "//std::pair <std::string,std::string> Var1 (\"sqrt(2*Muon.PT*MissingET.MET*(1-cos((2*TMath::Pi()+Muon.Phi-MissingET.Phi)%(2*TMath::Pi()))))\",\"MT(#mu,p_{T}^{Miss}) [GeV]\");\n",
    "//std::pair <std::string,std::string> Var1 (\"Jet_size\",\"N(Jet)\");\n",
    "std::pair <std::string,std::string> Var1 (\"ScalarHT.HT\",\"H_{T}\");"
   ]
  },
  {
   "cell_type": "markdown",
   "metadata": {},
   "source": [
    "\n",
    "# -------------------------------------------------------------------\n",
    "# Cuts"
   ]
  },
  {
   "cell_type": "code",
   "execution_count": null,
   "metadata": {},
   "outputs": [],
   "source": [
    "TCut MonoJetTrigger = \"\";\n",
    "TCut cut0     = \"\" ;\n",
    "TCut cut1     = \"\" ;\n",
    "TCut cut2     = \"\" ;\n",
    "TCut cut3     = \"\" ;\n",
    "TCut cut4     = \"\" ;\n",
    "TCut cut5     = \"\" ;\n",
    "TCut AllCuts  = \"\" ;"
   ]
  },
  {
   "cell_type": "code",
   "execution_count": null,
   "metadata": {},
   "outputs": [],
   "source": [
    "MonoJetTrigger=\"(ScalarHT.HT>110.)&&(MissingET.MET>110.)\";\n",
    "cut0 = \"Muon_size==1&&Jet.BTag==0&&Jet_size>0\";\n",
    "cut1 = \"Muon[0].PT<20\";\n",
    "cut2 = \"Jet_size<4\";\n",
    "cut3 = \"sqrt(2*Muon.PT*MissingET.MET*(1-cos((2*TMath::Pi()+Muon.Phi-MissingET.Phi)%(2*TMath::Pi()))))<40\";\n",
    "cut4 = \"Jet[0].PT>50\";\n",
    "\n",
    "//Jose's Cuts\n",
    "//cut4 = \"Muon[0].PT<20&&Jet_size<4&&Jet.PT>20\";\n",
    "//cut5 = \"sqrt(2*Muon.PT*MissingET.MET*(1-cos((2*TMath::Pi()+Muon.Phi-MissingET.Phi)%(2*TMath::Pi()))))<40\";"
   ]
  },
  {
   "cell_type": "markdown",
   "metadata": {},
   "source": [
    "## Luminosity"
   ]
  },
  {
   "cell_type": "code",
   "execution_count": null,
   "metadata": {},
   "outputs": [],
   "source": [
    "Double_t Lumi = 100;//pb"
   ]
  },
  {
   "cell_type": "markdown",
   "metadata": {},
   "source": [
    "## Weight\n",
    "$w=\\frac{\\mathcal{L}\\sigma_{x}}{N_{MC}}$:"
   ]
  },
  {
   "cell_type": "code",
   "execution_count": null,
   "metadata": {},
   "outputs": [],
   "source": [
    "Double_t WeightSignal = 0.7513*(1000*Lumi)/chain.GetEntries();//460.3fb\n",
    "Double_t WeightBG1 = 3377.37*(1000*Lumi)/chain1.GetEntries();//Peso W+Jets\n",
    "Double_t WeightBG2 = 288.17*(1000*Lumi)/chain2.GetEntries();//Peso SingleTop\n",
    "Double_t WeightBG3 = 22.82*(1000*Lumi)/chain3.GetEntries();//Peso WZ"
   ]
  },
  {
   "cell_type": "code",
   "execution_count": null,
   "metadata": {},
   "outputs": [],
   "source": [
    "TCut W = std::to_string(WeightSignal).c_str();\n",
    "TCut W1 = std::to_string(WeightBG1).c_str();\n",
    "TCut W2 = std::to_string(WeightBG2).c_str();\n",
    "TCut W3 = std::to_string(WeightBG3).c_str();"
   ]
  },
  {
   "cell_type": "code",
   "execution_count": null,
   "metadata": {},
   "outputs": [],
   "source": [
    "std::cout<< \"    WSignal: \" << W <<std::endl;\n",
    "std::cout<< \"    WBG1   : \" << W1 <<std::endl;\n",
    "std::cout<< \"    WBG2   : \" << W2 <<std::endl;\n",
    "std::cout<< \"    WBG3   : \" << W3 <<std::endl;"
   ]
  },
  {
   "cell_type": "markdown",
   "metadata": {},
   "source": [
    "# -------------------------------------------------------------------"
   ]
  },
  {
   "cell_type": "code",
   "execution_count": null,
   "metadata": {},
   "outputs": [],
   "source": [
    "/*Wich Cut you want to applied*/\n",
    "AllCuts  = MonoJetTrigger&&cut0&&cut1&&cut2&&cut3&&cut4&&cut5;"
   ]
  },
  {
   "cell_type": "markdown",
   "metadata": {},
   "source": [
    "# -------------------------------------------------------------------\n",
    "# Save Preferences"
   ]
  },
  {
   "cell_type": "code",
   "execution_count": null,
   "metadata": {},
   "outputs": [],
   "source": [
    "Bool_t SaveFiles = kFALSE;\n",
    "//SaveFiles = kTRUE;"
   ]
  },
  {
   "cell_type": "code",
   "execution_count": null,
   "metadata": {},
   "outputs": [],
   "source": [
    "std::string PlotName = NameMaker(Var1.second);\n",
    "std::string CutName = NameMaker((string)AllCuts);\n",
    "std::string PlotPath = \"Plots_PDF/\" + NameMaker(CutName);\n",
    "std::cout<<gSystem->pwd()<<\"/\"<<PlotPath<<std::endl;"
   ]
  },
  {
   "cell_type": "code",
   "execution_count": null,
   "metadata": {},
   "outputs": [],
   "source": [
    "/*Create the output Folder (If is needed)*/\n",
    "if (SaveFiles){\n",
    "    std::string cmdbash = \"mkdir -p \"+PlotPath;\n",
    "    const int dir_err =system(cmdbash.c_str());\n",
    "}"
   ]
  },
  {
   "cell_type": "code",
   "execution_count": null,
   "metadata": {},
   "outputs": [],
   "source": [
    "/*Output File*/\n",
    "std::ofstream outfile;\n",
    "std::string TextPathName = NameMaker(PlotPath + \"/\" + PlotName +\"_\"+ currentDateTime())+ \".txt\";\n",
    "\n",
    "if (SaveFiles){\n",
    "    outfile.open(TextPathName.c_str());//std::ios_base::app\n",
    "}"
   ]
  },
  {
   "cell_type": "code",
   "execution_count": null,
   "metadata": {},
   "outputs": [],
   "source": [
    "outfile<<std::endl;\n",
    "\n",
    "outfile<<\"==============================================================================================\"<<std::endl;\n",
    "outfile<<std::endl;\n",
    "outfile<<\"*    Cuts Applied: \"<< AllCuts <<std::endl;\n",
    "outfile<<std::endl;\n",
    "outfile<<std::endl;"
   ]
  },
  {
   "cell_type": "code",
   "execution_count": null,
   "metadata": {},
   "outputs": [],
   "source": [
    "outfile<<\"==============================================================================================\"<<std::endl;\n",
    "outfile<<\"*                                        FILES                                               *\"<<std::endl;\n",
    "outfile<<\"==============================================================================================\"<<std::endl;\n",
    "\n",
    "outfile<<\"Signal\"<<std::endl;\n",
    "\n",
    "for (int i = 0; i < chain.GetListOfFiles()->GetEntries(); ++i){\n",
    "    outfile<<(chain.GetListOfFiles()->At(i))->GetTitle()<<std::endl; \n",
    "}\n",
    "\n",
    "outfile<<std::endl<<\"Background 1\"<<std::endl;\n",
    "\n",
    "for (int i = 0; i < chain1.GetListOfFiles()->GetEntries(); ++i){\n",
    "    outfile<<(chain1.GetListOfFiles()->At(i))->GetTitle()<<std::endl; \n",
    "}\n",
    "outfile<<std::endl<<\"Background 2\"<<std::endl;\n",
    "\n",
    "for (int i = 0; i < chain2.GetListOfFiles()->GetEntries(); ++i){\n",
    "    outfile<<(chain2.GetListOfFiles()->At(i))->GetTitle()<<std::endl; \n",
    "}\n",
    "outfile<<std::endl<<\"Background 3\"<<std::endl;\n",
    "\n",
    "for (int i = 0; i < chain3.GetListOfFiles()->GetEntries(); ++i){\n",
    "    outfile<<(chain3.GetListOfFiles()->At(i))->GetTitle()<<std::endl; \n",
    "}\n",
    "outfile<<std::endl;\n",
    "\n",
    "outfile<<\"==============================================================================================\"<<std::endl;\n",
    "outfile<<std::endl;\n",
    "outfile<<\"*    Lumi: \"<< Lumi <<\"pb\"<<std::endl;\n",
    "outfile<<std::endl;"
   ]
  },
  {
   "cell_type": "markdown",
   "metadata": {},
   "source": [
    "# Crosscheck"
   ]
  },
  {
   "cell_type": "markdown",
   "metadata": {},
   "source": [
    "### The two methods to find the entries match"
   ]
  },
  {
   "cell_type": "code",
   "execution_count": null,
   "metadata": {},
   "outputs": [],
   "source": [
    "//Root Entries\n",
    "auto ChainEntries = chain1.GetEntries();\n",
    "TH1D * h0 = CutAndPlotTRee(chain1,\"Event.fUniqueID\",\"\",\"1\");//No cuts Weight 1\n",
    "//Getting the entries from the histogram without weight\n",
    "auto IntegralEntries = h0->Integral();\n",
    "if(IntegralEntries == ChainEntries){\n",
    "    std::cout<<\"PASS!!\"<<std::endl;\n",
    "    std::cout<<\"IntegralEntries: \"<<IntegralEntries<<std::endl; \n",
    "    std::cout<<\"ChainEntries: \"<<ChainEntries<<std::endl;     \n",
    "}else{\n",
    "    std::cout<<\"!!!FAIL!!\"<<std::endl;\n",
    "    std::cout<<\"IntegralEntries: \"<<IntegralEntries<<std::endl; \n",
    "    std::cout<<\"ChainEntries: \"<<ChainEntries<<std::endl; \n",
    "}"
   ]
  },
  {
   "cell_type": "markdown",
   "metadata": {},
   "source": [
    "### The weight is well applied"
   ]
  },
  {
   "cell_type": "code",
   "execution_count": null,
   "metadata": {},
   "outputs": [],
   "source": [
    "//Root Entries\n",
    "auto ChainEntriesW = chain1.GetEntries();\n",
    "TH1D * h1 = CutAndPlotTRee(chain1,\"Event.fUniqueID\",\"\",W1);\n",
    "//Getting the entries from the histogram without weight\n",
    "auto IntegralEntriesW = h1->Integral();\n",
    "auto error1 = TMath::Abs(WeightBG1*ChainEntriesW-IntegralEntriesW)/IntegralEntriesW; \n",
    "if(0.001 > error1){\n",
    "    std::cout<<\"PASS!!! Diff: \"<< error1<<\", is less than 0.01%\"<<std::endl;\n",
    "    std::cout<<\"Weight: \"<<W1<<std::endl;\n",
    "    std::cout<<\"IntegralEntries: \"<<IntegralEntriesW<<std::endl; \n",
    "    std::cout<<\"ChainEntries: \"<<ChainEntriesW<<std::endl;     \n",
    "}else{\n",
    "    std::cout<<\"!!!FAIL!!! Diff: \"<< error1<<\", is more than 0.01%\"<<std::endl;    \n",
    "    std::cout<<\"Weight: \"<<W1<<std::endl;\n",
    "    std::cout<<\"IntegralEntries: \"<<IntegralEntriesW<<std::endl; \n",
    "    std::cout<<\"ChainEntries: \"<<ChainEntriesW<<std::endl; \n",
    "}"
   ]
  },
  {
   "cell_type": "markdown",
   "metadata": {},
   "source": [
    "### Using a Cut"
   ]
  },
  {
   "cell_type": "code",
   "execution_count": null,
   "metadata": {},
   "outputs": [],
   "source": [
    "//Root Entries\n",
    "auto ChainEntriesWC = chain1.GetEntries(\"Event.Number>200\");\n",
    "TH1D * h2 = CutAndPlotTRee(chain1,\"Event.fUniqueID\",\"Event.Number>200\",W1);\n",
    "//Getting the entries from the histogram without weight\n",
    "auto IntegralEntriesWC = h2->Integral();\n",
    "auto error2 = TMath::Abs(WeightBG1*ChainEntriesWC-IntegralEntriesWC)/IntegralEntriesWC; \n",
    "if(0.001 > error2){\n",
    "    std::cout<<\"*    PASS!!! Diff   : \"<< error2<<\", is less than 0.01%\"<<std::endl;\n",
    "    std::cout<<\"*    Weight         : \"<<W1<<std::endl;\n",
    "    std::cout<<\"*    IntegralEntries: \"<<IntegralEntriesWC<<std::endl; \n",
    "    std::cout<<\"*    ChainEntries   : \"<<ChainEntriesWC<<std::endl;  \n",
    "    //Outputfile\n",
    "    outfile<<std::endl;\n",
    "\n",
    "    outfile<<\"==============================================================================================\"<<std::endl;\n",
    "    outfile<<\"*                                  CROSSCHECKS                                                 \"<<std::endl;\n",
    "    outfile<<\"==============================================================================================\"<<std::endl;\n",
    "    outfile<<std::endl;\n",
    " \n",
    "    outfile<<\"PASS!!! Diff: \"<< error2<<\", is less than 0.01%\"<<std::endl;\n",
    "    outfile<<\"Weight: \"<<W1<<std::endl;\n",
    "    outfile<<\"IntegralEntries: \"<<IntegralEntriesWC<<std::endl; \n",
    "    outfile<<\"ChainEntries: \"<<ChainEntriesWC<<std::endl;\n",
    "}else{\n",
    "    std::cout<<\"!!!FAIL!!! Diff: \"<< error2<<\", is more than 0.01%\"<<std::endl;\n",
    "    std::cout<<\"Weight: \"<<W1<<std::endl;\n",
    "    std::cout<<\"IntegralEntries: \"<<IntegralEntriesWC<<std::endl; \n",
    "    std::cout<<\"ChainEntries: \"<<ChainEntriesWC<<std::endl; \n",
    "    //Outputfile\n",
    "    outfile<<std::endl;\n",
    "\n",
    "    outfile<<\"==============================================================================================\"<<std::endl;\n",
    "    outfile<<\"*                                  CROSSCHECKS                                                 \"<<std::endl;\n",
    "    outfile<<\"==============================================================================================\"<<std::endl;\n",
    "    outfile<<std::endl;\n",
    "    outfile<<std::endl;\n",
    "    outfile<<\"*    !!!FAIL!!! Diff: \"<< error2<<\", is more than 0.01%\"<<std::endl;\n",
    "    outfile<<\"*    Weight          : \"<<W1<<std::endl;\n",
    "    outfile<<\"*    IntegralEntries : \"<<IntegralEntriesWC<<std::endl; \n",
    "    outfile<<\"*    ChainEntries    : \"<<ChainEntriesWC<<std::endl;\n",
    "    outfile<<std::endl;\n",
    "    outfile<<\"==============================================================================================\"<<std::endl;\n",
    "    \n",
    "}"
   ]
  },
  {
   "cell_type": "markdown",
   "metadata": {},
   "source": [
    "# End of crosschecks\n",
    "# -------------------------------------------------------------------"
   ]
  },
  {
   "cell_type": "code",
   "execution_count": null,
   "metadata": {},
   "outputs": [],
   "source": [
    "chain.Draw(Var1.first.c_str(),\"\");\n",
    "chain1.Draw(Var1.first.c_str(),\"\",\"same\");\n",
    "chain2.Draw(Var1.first.c_str(),\"\",\"same\");\n",
    "chain3.Draw(Var1.first.c_str(),\"\",\"same\");\n",
    "c.Update();\n",
    "c.Draw()"
   ]
  },
  {
   "cell_type": "markdown",
   "metadata": {},
   "source": [
    "## Define the limits"
   ]
  },
  {
   "cell_type": "code",
   "execution_count": null,
   "metadata": {},
   "outputs": [],
   "source": [
    "//mT\n",
    "//Int_t fNBins = 20; \n",
    "//auto fXmin  = 1;\n",
    "//auto fXmax  = 100;\n",
    "\n",
    "//Jet[0].pT\n",
    "//Int_t fNBins = 19; \n",
    "//auto fXmin  = 20;\n",
    "//auto fXmax  = 400;\n",
    "\n",
    "Int_t fNBins = 1; \n",
    "auto fXmin  = 0;\n",
    "auto fXmax  = 10;"
   ]
  },
  {
   "cell_type": "code",
   "execution_count": null,
   "metadata": {},
   "outputs": [],
   "source": [
    "Var1.second.c_str()"
   ]
  },
  {
   "cell_type": "code",
   "execution_count": null,
   "metadata": {},
   "outputs": [],
   "source": [
    "if(Var1.second==\"P_{T}(#mu)\"){\n",
    "    std::cout<<\"P_{T}(#mu)\";\n",
    "    fNBins = 20; \n",
    "    fXmin  = 1;\n",
    "    fXmax  = 80;\n",
    "}\n",
    "if(Var1.second==\"N(Jet)\"){\n",
    "    std::cout<<\"N(Jet)\";\n",
    "    fNBins = 6; \n",
    "    fXmin  = 1;\n",
    "    fXmax  = 6;\n",
    "}\n",
    "if(Var1.second==\"H_{T}\"){\n",
    "    std::cout<<\"H_{T}\";\n",
    "    fNBins = 13; \n",
    "    fXmin  = 110;\n",
    "    fXmax  = 500;\n",
    "}"
   ]
  },
  {
   "cell_type": "code",
   "execution_count": null,
   "metadata": {},
   "outputs": [],
   "source": [
    "TH1D * SignalTH1D      = CutAndPlotTRee(chain,Var1.first.c_str(),AllCuts,W,fNBins,fXmin,fXmax,\"Signal\");\n",
    "TH1D * BackGround1TH1D = CutAndPlotTRee(chain1,Var1.first.c_str(),AllCuts,W1,fNBins,fXmin,fXmax,\"WJets\");\n",
    "TH1D * BackGround2TH1D = CutAndPlotTRee(chain2,Var1.first.c_str(),AllCuts,W2,fNBins,fXmin,fXmax,\"SingleTop\");\n",
    "TH1D * BackGround3TH1D = CutAndPlotTRee(chain3,Var1.first.c_str(),AllCuts,W3,fNBins,fXmin,fXmax,\"WZ\");"
   ]
  },
  {
   "cell_type": "markdown",
   "metadata": {},
   "source": [
    "+ Coloring the plots"
   ]
  },
  {
   "cell_type": "code",
   "execution_count": null,
   "metadata": {},
   "outputs": [],
   "source": [
    "SignalTH1D->SetLineColor(4);//Blue\n",
    "SignalTH1D->SetFillColor(4);\n",
    "SignalTH1D->SetTitle(\"\");\n",
    "SignalTH1D->GetYaxis()->SetTitle(\"Arbitrary Units\");\n",
    "SignalTH1D->GetXaxis()->SetTitle(Var1.second.c_str());\n",
    "\n",
    "BackGround1TH1D->SetLineColor(2);//Red\n",
    "BackGround1TH1D->SetFillColor(2);\n",
    "BackGround1TH1D->SetTitle(\"\");\n",
    "BackGround1TH1D->GetYaxis()->SetTitle(\"Arbitrary Units\");\n",
    "BackGround1TH1D->GetXaxis()->SetTitle(Var1.second.c_str());\n",
    "\n",
    "BackGround2TH1D->SetLineColor(6);//Magenta\n",
    "BackGround2TH1D->SetFillColor(6);\n",
    "BackGround2TH1D->SetTitle(\"\");\n",
    "BackGround2TH1D->GetYaxis()->SetTitle(\"Arbitrary Units\");\n",
    "BackGround2TH1D->GetXaxis()->SetTitle(Var1.second.c_str());\n",
    "\n",
    "BackGround3TH1D->SetLineColor(8);//Green\n",
    "BackGround3TH1D->SetFillColor(8);\n",
    "BackGround3TH1D->SetTitle(\"\");\n",
    "BackGround3TH1D->GetYaxis()->SetTitle(\"Arbitrary Units\");\n",
    "BackGround3TH1D->GetXaxis()->SetTitle(Var1.second.c_str());"
   ]
  },
  {
   "cell_type": "code",
   "execution_count": null,
   "metadata": {},
   "outputs": [],
   "source": [
    "TCanvas *cs = new TCanvas(\"cs\",\"cs\",10,10,700,900);\n",
    "//TText T; T.SetTextFont(42); T.SetTextAlign(21);\n",
    "//cs->Clear();\n",
    "cs->Divide(2,2);\n",
    "cs->cd(1); BackGround1TH1D->Draw(\"h\");//Red\n",
    "cs->cd(2); BackGround2TH1D->Draw(\"h same\");//Magenta\n",
    "cs->cd(3); BackGround3TH1D->Draw(\"h same\");//Green\n",
    "cs->cd(4); SignalTH1D->Draw(\"h same\");//Blue\n",
    "cs->Draw();"
   ]
  },
  {
   "cell_type": "code",
   "execution_count": null,
   "metadata": {},
   "outputs": [],
   "source": [
    "auto PlotPathName = PlotPath + \"/All_\"+ PlotName+\".pdf\";\n",
    "auto CodePathName = PlotPath + \"/All_\" + PlotName + \".C\";\n",
    "if (SaveFiles) {\n",
    "    cs->SaveAs(PlotPathName.c_str(),\"pdf\");\n",
    "    cs->SaveSource(CodePathName.c_str());\n",
    "    }"
   ]
  },
  {
   "cell_type": "code",
   "execution_count": null,
   "metadata": {},
   "outputs": [],
   "source": [
    "c.Clear();\n",
    "THStack *hs = new THStack(\"hs\",\"\");\n",
    "hs->Add(SignalTH1D);\n",
    "hs->Add(BackGround2TH1D);\n",
    "hs->Add(BackGround3TH1D);\n",
    "hs->Add(BackGround1TH1D);\n",
    "//hs->GetYaxis()->SetTitle(\"Arbitrary Units\");\n",
    "//hs->GetXaxis()->SetTitle(Var1.second.c_str());\n",
    "hs->Draw(\"h nostackb\");//nostack\n",
    "//SignalTH1D->Draw(\"same\");//Blue\n",
    "c.SetLogy();\n",
    "c.Draw();"
   ]
  },
  {
   "cell_type": "code",
   "execution_count": null,
   "metadata": {},
   "outputs": [],
   "source": [
    "PlotPathName = PlotPath + \"/Stack_\"+ PlotName+\".pdf\";\n",
    "CodePathName = PlotPath + \"/Stack_\" + PlotName + \".C\";\n",
    "if (SaveFiles) {\n",
    "    c.SaveAs(PlotPathName.c_str(),\"pdf\");\n",
    "    c.SaveSource(CodePathName.c_str());\n",
    "    }"
   ]
  },
  {
   "cell_type": "code",
   "execution_count": null,
   "metadata": {},
   "outputs": [],
   "source": [
    "c.SetLogy(0);"
   ]
  },
  {
   "cell_type": "markdown",
   "metadata": {},
   "source": [
    "## Significance"
   ]
  },
  {
   "cell_type": "markdown",
   "metadata": {},
   "source": [
    "### Significance Less Than"
   ]
  },
  {
   "cell_type": "code",
   "execution_count": null,
   "metadata": {},
   "outputs": [],
   "source": [
    "//Vector of the TH1D Background, as\n",
    "std::vector<TH1D *> BackgroundPlotter1;\n",
    "BackgroundPlotter1.push_back(BackGround1TH1D);\n",
    "BackgroundPlotter1.push_back(BackGround2TH1D);\n",
    "BackgroundPlotter1.push_back(BackGround3TH1D);"
   ]
  },
  {
   "cell_type": "code",
   "execution_count": null,
   "metadata": {},
   "outputs": [],
   "source": [
    "Significance Plotter1_Sig(SignalTH1D,BackgroundPlotter1);\n",
    "TH1D * Plotter1_SigLT=Plotter1_Sig.GetSigLessThan();"
   ]
  },
  {
   "cell_type": "code",
   "execution_count": null,
   "metadata": {},
   "outputs": [],
   "source": [
    "Plotter1_SigLT->Draw(\"E\");\n",
    "Plotter1_SigLT->SetTitle(\"\");\n",
    "Plotter1_SigLT->GetXaxis()->SetTitle(Var1.second.c_str());\n",
    "Plotter1_SigLT->GetYaxis()->SetTitle(\"Z=S/#sqrt{S+B}\");\n",
    "c.Draw();"
   ]
  },
  {
   "cell_type": "code",
   "execution_count": null,
   "metadata": {},
   "outputs": [],
   "source": [
    "PlotPathName = PlotPath + \"/SigLT_\" + PlotName + \".pdf\";\n",
    "CodePathName = PlotPath + \"/SigLT_\" + PlotName + \".C\";\n",
    "if (SaveFiles) {\n",
    "    c.SaveAs(PlotPathName.c_str(),\"pdf\");\n",
    "    c.SaveSource(CodePathName.c_str());\n",
    "    }"
   ]
  },
  {
   "cell_type": "markdown",
   "metadata": {},
   "source": [
    "### Significance More Than"
   ]
  },
  {
   "cell_type": "code",
   "execution_count": null,
   "metadata": {},
   "outputs": [],
   "source": [
    "auto Plotter1_SigMT=Plotter1_Sig.GetSigMoreThan();"
   ]
  },
  {
   "cell_type": "code",
   "execution_count": null,
   "metadata": {},
   "outputs": [],
   "source": [
    "Plotter1_SigMT->Draw(\"E1\");\n",
    "//Plotter1_SigMT->Draw(\"text,same\");\n",
    "Plotter1_SigMT->SetTitle(\"\");\n",
    "Plotter1_SigMT->GetXaxis()->SetTitle(Var1.second.c_str());\n",
    "Plotter1_SigMT->GetYaxis()->SetTitle(\"Z=S/#sqrt{S+B}\");\n",
    "c.Draw();"
   ]
  },
  {
   "cell_type": "code",
   "execution_count": null,
   "metadata": {},
   "outputs": [],
   "source": [
    "PlotPathName = PlotPath + \"/SigMT_\" + PlotName + \".pdf\";\n",
    "CodePathName = PlotPath + \"/SigMT_\" + PlotName + \".C\";\n",
    "if (SaveFiles) {\n",
    "    c.SaveAs(PlotPathName.c_str(),\"pdf\");\n",
    "    c.SaveSource(CodePathName.c_str());\n",
    "    }"
   ]
  },
  {
   "cell_type": "markdown",
   "metadata": {},
   "source": [
    "### General Significance"
   ]
  },
  {
   "cell_type": "code",
   "execution_count": null,
   "metadata": {},
   "outputs": [],
   "source": [
    "auto GeneralSigPlotter1 = Plotter1_Sig.GetSignificance();\n",
    "std::string YaxisTitle = \"Cut > \" + Var1.second;\n",
    "std::string XaxisTitle = \"Cut < \" + Var1.second;"
   ]
  },
  {
   "cell_type": "code",
   "execution_count": null,
   "metadata": {},
   "outputs": [],
   "source": [
    "GeneralSigPlotter1->Draw(\"COLZ1\");\n",
    "//GeneralSigPlotter1->Draw(\"text, same\");\n",
    "GeneralSigPlotter1->SetTitle(\"\");\n",
    "GeneralSigPlotter1->GetYaxis()->SetTitle(YaxisTitle.c_str());\n",
    "GeneralSigPlotter1->GetXaxis()->SetTitle(XaxisTitle.c_str());\n",
    "//TLatex t(3,10,\"#xrightarrow{Less Than Cut}\");\n",
    "//t.Draw();\n",
    "//gStyle->SetPalette(87);\n",
    "c.Draw();"
   ]
  },
  {
   "cell_type": "code",
   "execution_count": null,
   "metadata": {},
   "outputs": [],
   "source": [
    "PlotPathName = PlotPath + \"/SigGeneral_\" + PlotName + \".pdf\";\n",
    "CodePathName = PlotPath + \"/SigGeneral_\" + PlotName + \".C\";\n",
    "if (SaveFiles) {\n",
    "    c.SaveAs(PlotPathName.c_str(),\"pdf\");\n",
    "    c.SaveSource(CodePathName.c_str());\n",
    "    }"
   ]
  },
  {
   "cell_type": "markdown",
   "metadata": {},
   "source": [
    "## efficency plots"
   ]
  },
  {
   "cell_type": "markdown",
   "metadata": {},
   "source": [
    "### Less than efficency"
   ]
  },
  {
   "cell_type": "code",
   "execution_count": null,
   "metadata": {},
   "outputs": [],
   "source": [
    "//Get The efficency plots\n",
    "std::vector<TH1D *> Plotter1_EffLT = Plotter1_Sig.GetEffLessThan();"
   ]
  },
  {
   "cell_type": "code",
   "execution_count": null,
   "metadata": {},
   "outputs": [],
   "source": [
    "//Plotter1_EffLT[0]->SetFillStyle(4050);\n",
    "Plotter1_EffLT[0]->SetFillColor(0);\n",
    "//Plotter1_EffLT[0]->SetLineColor(1);\n",
    "Plotter1_EffLT[0]->Draw(\"E\");\n",
    "Plotter1_EffLT[0]->SetTitle(\"\");\n",
    "Plotter1_EffLT[0]->GetXaxis()->SetTitle(Var1.second.c_str());\n",
    "Plotter1_EffLT[0]->GetYaxis()->SetTitle(\"Efficiency less-than\");\n",
    "//Plotter1_EffLT[1]->SetFillStyle(4050);\n",
    "Plotter1_EffLT[1]->SetFillColor(0);\n",
    "//Plotter1_EffLT[1]->SetLineColor(2);\n",
    "Plotter1_EffLT[1]->Draw(\"same E\");\n",
    "//Plotter1_EffLT[2]->SetFillStyle(4050);\n",
    "Plotter1_EffLT[2]->SetFillColor(0);\n",
    "//Plotter1_EffLT[2]->SetLineColor(3);\n",
    "Plotter1_EffLT[2]->Draw(\"same E\");\n",
    "//Plotter1_EffLT[3]->SetFillStyle(4050);\n",
    "Plotter1_EffLT[3]->SetFillColor(0);\n",
    "//Plotter1_EffLT[3]->SetLineColor(4);\n",
    "Plotter1_EffLT[3]->Draw(\"same E\");\n",
    "//Plotter1_EffLT[4]->SetFillStyle(4050);\n",
    "//Plotter1_EffLT[4]->SetFillColor(0);\n",
    "//Plotter1_EffLT[4]->Draw(\"same E\");\n"
   ]
  },
  {
   "cell_type": "code",
   "execution_count": null,
   "metadata": {},
   "outputs": [],
   "source": [
    "a=Plotter1_EffLT[0]"
   ]
  },
  {
   "cell_type": "code",
   "execution_count": null,
   "metadata": {},
   "outputs": [],
   "source": [
    "a->GetTitle()"
   ]
  },
  {
   "cell_type": "code",
   "execution_count": null,
   "metadata": {},
   "outputs": [],
   "source": [
    "TLegend *legend = new TLegend(0.70,0.35,0.9,0.55);\n",
    "legend->SetFillStyle(0);\n",
    "legend->SetBorderSize(0);\n",
    "legend->SetTextSize(0.039);\n",
    "legend->SetTextFont(42);\n",
    "legend->AddEntry(Plotter1_EffLT[0], \"Signal\",\"l\");\n",
    "legend->AddEntry(Plotter1_EffLT[1], \"W+Jets\",\"l\");\n",
    "legend->AddEntry(Plotter1_EffLT[2], \"SingleTop\",\"l\");\n",
    "legend->AddEntry(Plotter1_EffLT[3], \"WZ\",\"l\");\n",
    "legend->Draw();\n",
    "c.Draw();"
   ]
  },
  {
   "cell_type": "code",
   "execution_count": null,
   "metadata": {},
   "outputs": [],
   "source": [
    "PlotPathName = PlotPath + \"/LTEff_\" + PlotName + \".pdf\";\n",
    "CodePathName = PlotPath + \"/LTEff_\" + PlotName + \".C\";\n",
    "if (SaveFiles) {\n",
    "    c.SaveAs(PlotPathName.c_str(),\"pdf\");\n",
    "    c.SaveSource(CodePathName.c_str());\n",
    "    }"
   ]
  },
  {
   "cell_type": "markdown",
   "metadata": {},
   "source": [
    "### Efficiency More Than"
   ]
  },
  {
   "cell_type": "code",
   "execution_count": null,
   "metadata": {},
   "outputs": [],
   "source": [
    "//Get The efficency plots\n",
    "std::vector<TH1D *> Plotter1_EffMT = Plotter1_Sig.GetEffMoreThan();"
   ]
  },
  {
   "cell_type": "code",
   "execution_count": null,
   "metadata": {},
   "outputs": [],
   "source": [
    "//Plotter1_EffMT[0]->SetFillStyle(4050);\n",
    "Plotter1_EffMT[0]->SetFillColor(0);\n",
    "Plotter1_EffMT[0]->Draw(\"E\");\n",
    "Plotter1_EffMT[0]->SetTitle(\"\");\n",
    "Plotter1_EffMT[0]->GetXaxis()->SetTitle(Var1.second.c_str());\n",
    "Plotter1_EffMT[0]->GetYaxis()->SetTitle(\"Efficiency greater-than\");\n",
    "//Plotter1_EffMT[1]->SetFillStyle(4050);\n",
    "Plotter1_EffMT[1]->SetFillColor(0);\n",
    "//Plotter1_EffMT[1]->Draw(\"same E\");\n",
    "//Plotter1_EffMT[2]->SetFillStyle(4050);\n",
    "Plotter1_EffMT[2]->SetFillColor(0);\n",
    "Plotter1_EffMT[2]->Draw(\"same E\");\n",
    "//Plotter1_EffMT[3]->SetFillStyle(4050);\n",
    "Plotter1_EffMT[3]->SetFillColor(0);\n",
    "Plotter1_EffMT[3]->Draw(\"same E\");\n",
    "//Plotter1_EffMT[4]->SetFillStyle(4050);\n",
    "//Plotter1_EffMT[4]->SetFillColor(0);\n",
    "//Plotter1_EffMT[4]->Draw(\"same E\");\n",
    "legend->Draw();\n",
    "c.Draw();"
   ]
  },
  {
   "cell_type": "code",
   "execution_count": null,
   "metadata": {},
   "outputs": [],
   "source": [
    "PlotPathName = PlotPath + \"/MTEff_\" + PlotName + \".pdf\";\n",
    "CodePathName = PlotPath + \"/MTEff_\" + PlotName + \".C\";\n",
    "if (SaveFiles) {\n",
    "    c.SaveAs(PlotPathName.c_str(),\"pdf\");\n",
    "    c.SaveSource(CodePathName.c_str());\n",
    "};"
   ]
  },
  {
   "cell_type": "code",
   "execution_count": null,
   "metadata": {},
   "outputs": [],
   "source": [
    "//CutFlow"
   ]
  },
  {
   "cell_type": "code",
   "execution_count": null,
   "metadata": {},
   "outputs": [],
   "source": [
    "auto MCSignal = chain.GetEntries()*WeightSignal;\n",
    "auto MCBG1    = chain1.GetEntries()*WeightBG1;\n",
    "auto MCBG2    = chain2.GetEntries()*WeightBG2;\n",
    "auto MCBG3    = chain3.GetEntries()*WeightBG3;\n",
    "auto MCSignalAfterCuts = chain.GetEntries(AllCuts)*WeightSignal;\n",
    "auto MCBG1AfterCuts    = chain1.GetEntries(AllCuts)*WeightBG1;\n",
    "auto MCBG2AfterCuts    = chain2.GetEntries(AllCuts)*WeightBG2;\n",
    "auto MCBG3AfterCuts    = chain3.GetEntries(AllCuts)*WeightBG3;"
   ]
  },
  {
   "cell_type": "code",
   "execution_count": null,
   "metadata": {},
   "outputs": [],
   "source": [
    "outfile<<std::endl;\n",
    "outfile<<\"==============================================================================================\"<<std::endl;\n",
    "outfile<<\"*                                     EFFICIENCIES                                           *\"<<std::endl;\n",
    "outfile<<\"==============================================================================================\"<<std::endl;\n",
    "\n",
    "outfile<<\"*   Eff Signal: \"<< MCSignalAfterCuts/MCSignal<<std::endl;\n",
    "outfile<<\"*   Eff BG1   : \"<< MCBG1AfterCuts/MCBG1<<std::endl;\n",
    "outfile<<\"*   Eff BG2   : \"<< MCBG2AfterCuts/MCBG2<<std::endl;\n",
    "outfile<<\"*   Eff BG3   : \"<< MCBG3AfterCuts/MCBG3<<std::endl;"
   ]
  },
  {
   "cell_type": "code",
   "execution_count": null,
   "metadata": {},
   "outputs": [],
   "source": [
    "std::cout<<\"==============================================================================================\"<<std::endl;\n",
    "std::cout<<\"*                                        FILES                                               *\"<<std::endl;\n",
    "std::cout<<\"==============================================================================================\"<<std::endl;\n",
    "\n",
    "std::cout<<\"Signal\"<<std::endl;\n",
    "\n",
    "for (int i = 0; i < chain.GetListOfFiles()->GetEntries(); ++i){\n",
    "    std::cout<<(chain.GetListOfFiles()->At(i))->GetTitle()<<std::endl; \n",
    "}\n",
    "\n",
    "std::cout<<std::endl<<\"Background 1\"<<std::endl;\n",
    "\n",
    "for (int i = 0; i < chain1.GetListOfFiles()->GetEntries(); ++i){\n",
    "    std::cout<<(chain1.GetListOfFiles()->At(i))->GetTitle()<<std::endl; \n",
    "}\n",
    "std::cout<<std::endl<<\"Background 2\"<<std::endl;\n",
    "\n",
    "for (int i = 0; i < chain2.GetListOfFiles()->GetEntries(); ++i){\n",
    "    std::cout<<(chain2.GetListOfFiles()->At(i))->GetTitle()<<std::endl; \n",
    "}\n",
    "std::cout<<std::endl<<\"Background 3\"<<std::endl;\n",
    "\n",
    "for (int i = 0; i < chain3.GetListOfFiles()->GetEntries(); ++i){\n",
    "    std::cout<<(chain3.GetListOfFiles()->At(i))->GetTitle()<<std::endl; \n",
    "}\n",
    "std::cout<<std::endl;\n",
    "std::cout<<\"==============================================================================================\"<<std::endl;\n",
    "std::cout<<\"*                                     EFFICIENCIES                                           *\"<<std::endl;\n",
    "std::cout<<\"==============================================================================================\"<<std::endl;\n",
    "\n",
    "std::cout<<\"*   Eff Signal: \"<< MCSignalAfterCuts/MCSignal<<std::endl;\n",
    "std::cout<<\"*   Eff BG1   : \"<< MCBG1AfterCuts/MCBG1<<std::endl;\n",
    "std::cout<<\"*   Eff BG2   : \"<< MCBG2AfterCuts/MCBG2<<std::endl;\n",
    "std::cout<<\"*   Eff BG3   : \"<< MCBG3AfterCuts/MCBG3<<std::endl;"
   ]
  },
  {
   "cell_type": "code",
   "execution_count": null,
   "metadata": {},
   "outputs": [],
   "source": [
    "/*Close the file*/\n",
    "outfile.close();"
   ]
  },
  {
   "cell_type": "code",
   "execution_count": null,
   "metadata": {},
   "outputs": [],
   "source": []
  },
  {
   "cell_type": "code",
   "execution_count": null,
   "metadata": {},
   "outputs": [],
   "source": []
  }
 ],
 "metadata": {
  "kernelspec": {
   "display_name": "ROOT C++",
   "language": "c++",
   "name": "root"
  },
  "language_info": {
   "codemirror_mode": "text/x-c++src",
   "file_extension": ".C",
   "mimetype": " text/x-c++src",
   "name": "c++"
  }
 },
 "nbformat": 4,
 "nbformat_minor": 2
}
