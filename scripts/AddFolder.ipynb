{
 "cells": [
  {
   "cell_type": "code",
   "execution_count": 1,
   "metadata": {},
   "outputs": [],
   "source": [
    "class list_files{\n",
    "    private:\n",
    "    // Vector to hold file names\n",
    "    std::vector<string> filelist = std::vector<string>();\n",
    "    //std::vector<string> filelist;\n",
    "    //const char *_dirname;\n",
    "   \n",
    "    \n",
    "    public:\n",
    "    /*Constructor*/\n",
    "    //list_files(const char *_dirname):_dirname(dirname){}\n",
    "    list_files(void){}\n",
    "    /*Destructor*/\n",
    "    ~list_files(){}\n",
    "    \n",
    "    void collectAllFiles(const char *_dirname=\"/\", const char *ext=\".root\")\n",
    "    {\n",
    "        TSystemDirectory dir(_dirname, _dirname); \n",
    "        TList *files = dir.GetListOfFiles(); \n",
    "        std::string dirnamestring= (std::string) _dirname;\n",
    "\n",
    "        if (files) { \n",
    "            TSystemFile *file; \n",
    "            TString fname; \n",
    "            TIter next(files); \n",
    "            while ((file=(TSystemFile*)next())) { \n",
    "                fname = file->GetName(); \n",
    "                if(!file->IsDirectory() && fname.EndsWith(ext)) { \n",
    "                    //cout << fname.Data() << endl; \n",
    "                    filelist.push_back(dirnamestring+\"/\"+fname.Data());\n",
    "                }\n",
    "            \n",
    "                // If this which we found now, is a directory, recursively \n",
    "                // call the function again\n",
    "                if (file->IsDirectory() && strcmp(fname,\".\") != 0 && strcmp(fname,\"..\")) { \n",
    "                    std::string tempdirnamestring=dirnamestring+\"/\"+fname.Data();\n",
    "                    collectAllFiles(tempdirnamestring.c_str(),ext);\n",
    "                    //collectAllFiles(tempdirnamestring.c_str(),ext,filelist);\n",
    "                    //std::cout<<fname.Data()<<std::endl;\n",
    "                }      \n",
    "            } \n",
    "        }\n",
    "    }\n",
    "\n",
    "    /*Get Method*/\n",
    "    std::vector<string> GetFileList(const char *_dirname=\"/\", const char *ext=\".root\"){\n",
    "        collectAllFiles(_dirname,ext);\n",
    "        return filelist;\n",
    "    }\n",
    "};\n",
    "\n",
    "/********************************************************\n",
    "Use\n",
    "*********************************************\n",
    "list_files lista;\n",
    "a=lista.GetFileList(dirname.c_str(),ext.c_str());\n",
    "a.size()\n",
    "a.at(290)\n",
    "*********************************************************/"
   ]
  },
  {
   "cell_type": "code",
   "execution_count": 2,
   "metadata": {},
   "outputs": [],
   "source": [
    "std::string dirname =\"/home/camilo/cms/Scripts_MadGraph_VLFTEO/Datos\";\n",
    "std::string ext = \".root\";\n",
    "list_files lista;\n",
    "a=lista.GetFileList(dirname.c_str(),ext.c_str());"
   ]
  },
  {
   "cell_type": "code",
   "execution_count": 3,
   "metadata": {},
   "outputs": [
    {
     "name": "stdout",
     "output_type": "stream",
     "text": [
      "(std::string &) \".root\"\n"
     ]
    }
   ],
   "source": [
    "for(std::vector<string>::iterator it = a.begin(); it != a.end(); ++it) {\n",
    "    std::cout << it->c_str()<<std::endl;\n",
    "}"
   ]
  },
  {
   "cell_type": "code",
   "execution_count": null,
   "metadata": {},
   "outputs": [],
   "source": []
  }
 ],
 "metadata": {
  "kernelspec": {
   "display_name": "ROOT C++",
   "language": "c++",
   "name": "root"
  },
  "language_info": {
   "codemirror_mode": "text/x-c++src",
   "file_extension": ".C",
   "mimetype": " text/x-c++src",
   "name": "c++"
  }
 },
 "nbformat": 4,
 "nbformat_minor": 2
}
